{
 "cells": [
  {
   "cell_type": "code",
   "execution_count": 1,
   "id": "trained-treasurer",
   "metadata": {},
   "outputs": [],
   "source": [
    "import pandas as pd\n",
    "import numpy as np\n",
    "import seaborn as sns\n",
    "from matplotlib import pyplot as plt\n",
    "from time import time\n",
    "\n",
    "import warnings\n",
    "warnings.filterwarnings('ignore')"
   ]
  },
  {
   "cell_type": "markdown",
   "id": "pharmaceutical-completion",
   "metadata": {},
   "source": [
    "## Load Data"
   ]
  },
  {
   "cell_type": "code",
   "execution_count": 2,
   "id": "fixed-massachusetts",
   "metadata": {},
   "outputs": [],
   "source": [
    "df = pd.read_csv('data/training.csv')"
   ]
  },
  {
   "cell_type": "markdown",
   "id": "angry-midwest",
   "metadata": {},
   "source": [
    "# Save to CSV"
   ]
  },
  {
   "cell_type": "code",
   "execution_count": 3,
   "id": "suburban-bouquet",
   "metadata": {},
   "outputs": [],
   "source": [
    "#df_step2_2.to_csv(\"data/value_df.csv\")"
   ]
  },
  {
   "cell_type": "markdown",
   "id": "accomplished-western",
   "metadata": {},
   "source": [
    "# **EDA (exploratory data analysis ) --------------------------------------**"
   ]
  },
  {
   "cell_type": "code",
   "execution_count": 4,
   "id": "universal-neighborhood",
   "metadata": {},
   "outputs": [
    {
     "data": {
      "text/html": [
       "<div>\n",
       "<style scoped>\n",
       "    .dataframe tbody tr th:only-of-type {\n",
       "        vertical-align: middle;\n",
       "    }\n",
       "\n",
       "    .dataframe tbody tr th {\n",
       "        vertical-align: top;\n",
       "    }\n",
       "\n",
       "    .dataframe thead th {\n",
       "        text-align: right;\n",
       "    }\n",
       "</style>\n",
       "<table border=\"1\" class=\"dataframe\">\n",
       "  <thead>\n",
       "    <tr style=\"text-align: right;\">\n",
       "      <th></th>\n",
       "      <th>TransactionId</th>\n",
       "      <th>BatchId</th>\n",
       "      <th>AccountId</th>\n",
       "      <th>SubscriptionId</th>\n",
       "      <th>CustomerId</th>\n",
       "      <th>CurrencyCode</th>\n",
       "      <th>CountryCode</th>\n",
       "      <th>ProviderId</th>\n",
       "      <th>ProductId</th>\n",
       "      <th>ProductCategory</th>\n",
       "      <th>ChannelId</th>\n",
       "      <th>Amount</th>\n",
       "      <th>Value</th>\n",
       "      <th>TransactionStartTime</th>\n",
       "      <th>PricingStrategy</th>\n",
       "      <th>FraudResult</th>\n",
       "    </tr>\n",
       "  </thead>\n",
       "  <tbody>\n",
       "    <tr>\n",
       "      <th>0</th>\n",
       "      <td>TransactionId_76871</td>\n",
       "      <td>BatchId_36123</td>\n",
       "      <td>AccountId_3957</td>\n",
       "      <td>SubscriptionId_887</td>\n",
       "      <td>CustomerId_4406</td>\n",
       "      <td>UGX</td>\n",
       "      <td>256</td>\n",
       "      <td>ProviderId_6</td>\n",
       "      <td>ProductId_10</td>\n",
       "      <td>airtime</td>\n",
       "      <td>ChannelId_3</td>\n",
       "      <td>1000.0</td>\n",
       "      <td>1000</td>\n",
       "      <td>2018-11-15T02:18:49Z</td>\n",
       "      <td>2</td>\n",
       "      <td>0</td>\n",
       "    </tr>\n",
       "    <tr>\n",
       "      <th>1</th>\n",
       "      <td>TransactionId_73770</td>\n",
       "      <td>BatchId_15642</td>\n",
       "      <td>AccountId_4841</td>\n",
       "      <td>SubscriptionId_3829</td>\n",
       "      <td>CustomerId_4406</td>\n",
       "      <td>UGX</td>\n",
       "      <td>256</td>\n",
       "      <td>ProviderId_4</td>\n",
       "      <td>ProductId_6</td>\n",
       "      <td>financial_services</td>\n",
       "      <td>ChannelId_2</td>\n",
       "      <td>-20.0</td>\n",
       "      <td>20</td>\n",
       "      <td>2018-11-15T02:19:08Z</td>\n",
       "      <td>2</td>\n",
       "      <td>0</td>\n",
       "    </tr>\n",
       "    <tr>\n",
       "      <th>2</th>\n",
       "      <td>TransactionId_26203</td>\n",
       "      <td>BatchId_53941</td>\n",
       "      <td>AccountId_4229</td>\n",
       "      <td>SubscriptionId_222</td>\n",
       "      <td>CustomerId_4683</td>\n",
       "      <td>UGX</td>\n",
       "      <td>256</td>\n",
       "      <td>ProviderId_6</td>\n",
       "      <td>ProductId_1</td>\n",
       "      <td>airtime</td>\n",
       "      <td>ChannelId_3</td>\n",
       "      <td>500.0</td>\n",
       "      <td>500</td>\n",
       "      <td>2018-11-15T02:44:21Z</td>\n",
       "      <td>2</td>\n",
       "      <td>0</td>\n",
       "    </tr>\n",
       "    <tr>\n",
       "      <th>3</th>\n",
       "      <td>TransactionId_380</td>\n",
       "      <td>BatchId_102363</td>\n",
       "      <td>AccountId_648</td>\n",
       "      <td>SubscriptionId_2185</td>\n",
       "      <td>CustomerId_988</td>\n",
       "      <td>UGX</td>\n",
       "      <td>256</td>\n",
       "      <td>ProviderId_1</td>\n",
       "      <td>ProductId_21</td>\n",
       "      <td>utility_bill</td>\n",
       "      <td>ChannelId_3</td>\n",
       "      <td>20000.0</td>\n",
       "      <td>21800</td>\n",
       "      <td>2018-11-15T03:32:55Z</td>\n",
       "      <td>2</td>\n",
       "      <td>0</td>\n",
       "    </tr>\n",
       "    <tr>\n",
       "      <th>4</th>\n",
       "      <td>TransactionId_28195</td>\n",
       "      <td>BatchId_38780</td>\n",
       "      <td>AccountId_4841</td>\n",
       "      <td>SubscriptionId_3829</td>\n",
       "      <td>CustomerId_988</td>\n",
       "      <td>UGX</td>\n",
       "      <td>256</td>\n",
       "      <td>ProviderId_4</td>\n",
       "      <td>ProductId_6</td>\n",
       "      <td>financial_services</td>\n",
       "      <td>ChannelId_2</td>\n",
       "      <td>-644.0</td>\n",
       "      <td>644</td>\n",
       "      <td>2018-11-15T03:34:21Z</td>\n",
       "      <td>2</td>\n",
       "      <td>0</td>\n",
       "    </tr>\n",
       "  </tbody>\n",
       "</table>\n",
       "</div>"
      ],
      "text/plain": [
       "         TransactionId         BatchId       AccountId       SubscriptionId  \\\n",
       "0  TransactionId_76871   BatchId_36123  AccountId_3957   SubscriptionId_887   \n",
       "1  TransactionId_73770   BatchId_15642  AccountId_4841  SubscriptionId_3829   \n",
       "2  TransactionId_26203   BatchId_53941  AccountId_4229   SubscriptionId_222   \n",
       "3    TransactionId_380  BatchId_102363   AccountId_648  SubscriptionId_2185   \n",
       "4  TransactionId_28195   BatchId_38780  AccountId_4841  SubscriptionId_3829   \n",
       "\n",
       "        CustomerId CurrencyCode  CountryCode    ProviderId     ProductId  \\\n",
       "0  CustomerId_4406          UGX          256  ProviderId_6  ProductId_10   \n",
       "1  CustomerId_4406          UGX          256  ProviderId_4   ProductId_6   \n",
       "2  CustomerId_4683          UGX          256  ProviderId_6   ProductId_1   \n",
       "3   CustomerId_988          UGX          256  ProviderId_1  ProductId_21   \n",
       "4   CustomerId_988          UGX          256  ProviderId_4   ProductId_6   \n",
       "\n",
       "      ProductCategory    ChannelId   Amount  Value  TransactionStartTime  \\\n",
       "0             airtime  ChannelId_3   1000.0   1000  2018-11-15T02:18:49Z   \n",
       "1  financial_services  ChannelId_2    -20.0     20  2018-11-15T02:19:08Z   \n",
       "2             airtime  ChannelId_3    500.0    500  2018-11-15T02:44:21Z   \n",
       "3        utility_bill  ChannelId_3  20000.0  21800  2018-11-15T03:32:55Z   \n",
       "4  financial_services  ChannelId_2   -644.0    644  2018-11-15T03:34:21Z   \n",
       "\n",
       "   PricingStrategy  FraudResult  \n",
       "0                2            0  \n",
       "1                2            0  \n",
       "2                2            0  \n",
       "3                2            0  \n",
       "4                2            0  "
      ]
     },
     "execution_count": 4,
     "metadata": {},
     "output_type": "execute_result"
    }
   ],
   "source": [
    "df.head()"
   ]
  },
  {
   "cell_type": "code",
   "execution_count": 5,
   "id": "blond-equilibrium",
   "metadata": {},
   "outputs": [
    {
     "data": {
      "text/html": [
       "<div>\n",
       "<style scoped>\n",
       "    .dataframe tbody tr th:only-of-type {\n",
       "        vertical-align: middle;\n",
       "    }\n",
       "\n",
       "    .dataframe tbody tr th {\n",
       "        vertical-align: top;\n",
       "    }\n",
       "\n",
       "    .dataframe thead th {\n",
       "        text-align: right;\n",
       "    }\n",
       "</style>\n",
       "<table border=\"1\" class=\"dataframe\">\n",
       "  <thead>\n",
       "    <tr style=\"text-align: right;\">\n",
       "      <th></th>\n",
       "      <th>CountryCode</th>\n",
       "      <th>Amount</th>\n",
       "      <th>Value</th>\n",
       "      <th>PricingStrategy</th>\n",
       "      <th>FraudResult</th>\n",
       "    </tr>\n",
       "  </thead>\n",
       "  <tbody>\n",
       "    <tr>\n",
       "      <th>count</th>\n",
       "      <td>95662.0</td>\n",
       "      <td>9.566200e+04</td>\n",
       "      <td>9.566200e+04</td>\n",
       "      <td>95662.000000</td>\n",
       "      <td>95662.000000</td>\n",
       "    </tr>\n",
       "    <tr>\n",
       "      <th>mean</th>\n",
       "      <td>256.0</td>\n",
       "      <td>6.717846e+03</td>\n",
       "      <td>9.900584e+03</td>\n",
       "      <td>2.255974</td>\n",
       "      <td>0.002018</td>\n",
       "    </tr>\n",
       "    <tr>\n",
       "      <th>std</th>\n",
       "      <td>0.0</td>\n",
       "      <td>1.233068e+05</td>\n",
       "      <td>1.231221e+05</td>\n",
       "      <td>0.732924</td>\n",
       "      <td>0.044872</td>\n",
       "    </tr>\n",
       "    <tr>\n",
       "      <th>min</th>\n",
       "      <td>256.0</td>\n",
       "      <td>-1.000000e+06</td>\n",
       "      <td>2.000000e+00</td>\n",
       "      <td>0.000000</td>\n",
       "      <td>0.000000</td>\n",
       "    </tr>\n",
       "    <tr>\n",
       "      <th>25%</th>\n",
       "      <td>256.0</td>\n",
       "      <td>-5.000000e+01</td>\n",
       "      <td>2.750000e+02</td>\n",
       "      <td>2.000000</td>\n",
       "      <td>0.000000</td>\n",
       "    </tr>\n",
       "    <tr>\n",
       "      <th>50%</th>\n",
       "      <td>256.0</td>\n",
       "      <td>1.000000e+03</td>\n",
       "      <td>1.000000e+03</td>\n",
       "      <td>2.000000</td>\n",
       "      <td>0.000000</td>\n",
       "    </tr>\n",
       "    <tr>\n",
       "      <th>75%</th>\n",
       "      <td>256.0</td>\n",
       "      <td>2.800000e+03</td>\n",
       "      <td>5.000000e+03</td>\n",
       "      <td>2.000000</td>\n",
       "      <td>0.000000</td>\n",
       "    </tr>\n",
       "    <tr>\n",
       "      <th>max</th>\n",
       "      <td>256.0</td>\n",
       "      <td>9.880000e+06</td>\n",
       "      <td>9.880000e+06</td>\n",
       "      <td>4.000000</td>\n",
       "      <td>1.000000</td>\n",
       "    </tr>\n",
       "  </tbody>\n",
       "</table>\n",
       "</div>"
      ],
      "text/plain": [
       "       CountryCode        Amount         Value  PricingStrategy   FraudResult\n",
       "count      95662.0  9.566200e+04  9.566200e+04     95662.000000  95662.000000\n",
       "mean         256.0  6.717846e+03  9.900584e+03         2.255974      0.002018\n",
       "std            0.0  1.233068e+05  1.231221e+05         0.732924      0.044872\n",
       "min          256.0 -1.000000e+06  2.000000e+00         0.000000      0.000000\n",
       "25%          256.0 -5.000000e+01  2.750000e+02         2.000000      0.000000\n",
       "50%          256.0  1.000000e+03  1.000000e+03         2.000000      0.000000\n",
       "75%          256.0  2.800000e+03  5.000000e+03         2.000000      0.000000\n",
       "max          256.0  9.880000e+06  9.880000e+06         4.000000      1.000000"
      ]
     },
     "execution_count": 5,
     "metadata": {},
     "output_type": "execute_result"
    }
   ],
   "source": [
    "df.describe()"
   ]
  },
  {
   "cell_type": "code",
   "execution_count": 6,
   "id": "similar-instrument",
   "metadata": {},
   "outputs": [
    {
     "name": "stdout",
     "output_type": "stream",
     "text": [
      "<class 'pandas.core.frame.DataFrame'>\n",
      "RangeIndex: 95662 entries, 0 to 95661\n",
      "Data columns (total 16 columns):\n",
      " #   Column                Non-Null Count  Dtype  \n",
      "---  ------                --------------  -----  \n",
      " 0   TransactionId         95662 non-null  object \n",
      " 1   BatchId               95662 non-null  object \n",
      " 2   AccountId             95662 non-null  object \n",
      " 3   SubscriptionId        95662 non-null  object \n",
      " 4   CustomerId            95662 non-null  object \n",
      " 5   CurrencyCode          95662 non-null  object \n",
      " 6   CountryCode           95662 non-null  int64  \n",
      " 7   ProviderId            95662 non-null  object \n",
      " 8   ProductId             95662 non-null  object \n",
      " 9   ProductCategory       95662 non-null  object \n",
      " 10  ChannelId             95662 non-null  object \n",
      " 11  Amount                95662 non-null  float64\n",
      " 12  Value                 95662 non-null  int64  \n",
      " 13  TransactionStartTime  95662 non-null  object \n",
      " 14  PricingStrategy       95662 non-null  int64  \n",
      " 15  FraudResult           95662 non-null  int64  \n",
      "dtypes: float64(1), int64(4), object(11)\n",
      "memory usage: 11.7+ MB\n"
     ]
    }
   ],
   "source": [
    "df.info()"
   ]
  },
  {
   "cell_type": "code",
   "execution_count": 7,
   "id": "grand-elite",
   "metadata": {},
   "outputs": [
    {
     "data": {
      "text/plain": [
       "Index(['TransactionId', 'BatchId', 'AccountId', 'SubscriptionId', 'CustomerId',\n",
       "       'CurrencyCode', 'CountryCode', 'ProviderId', 'ProductId',\n",
       "       'ProductCategory', 'ChannelId', 'Amount', 'Value',\n",
       "       'TransactionStartTime', 'PricingStrategy', 'FraudResult'],\n",
       "      dtype='object')"
      ]
     },
     "execution_count": 7,
     "metadata": {},
     "output_type": "execute_result"
    }
   ],
   "source": [
    "df.columns"
   ]
  },
  {
   "cell_type": "code",
   "execution_count": 8,
   "id": "found-moral",
   "metadata": {},
   "outputs": [
    {
     "data": {
      "text/plain": [
       "3742"
      ]
     },
     "execution_count": 8,
     "metadata": {},
     "output_type": "execute_result"
    }
   ],
   "source": [
    "df[\"CustomerId\"].nunique()"
   ]
  },
  {
   "cell_type": "code",
   "execution_count": 9,
   "id": "macro-consensus",
   "metadata": {},
   "outputs": [
    {
     "data": {
      "text/plain": [
       "95662"
      ]
     },
     "execution_count": 9,
     "metadata": {},
     "output_type": "execute_result"
    }
   ],
   "source": [
    "df[\"TransactionId\"].nunique()"
   ]
  },
  {
   "cell_type": "code",
   "execution_count": 10,
   "id": "crude-mercury",
   "metadata": {},
   "outputs": [
    {
     "name": "stdout",
     "output_type": "stream",
     "text": [
      "   FraudResult\n",
      "0        95469\n",
      "1          193\n"
     ]
    }
   ],
   "source": [
    "print(df[\"FraudResult\"].value_counts().to_frame())"
   ]
  },
  {
   "cell_type": "markdown",
   "id": "floppy-stretch",
   "metadata": {},
   "source": [
    "## Removing string and change to integer"
   ]
  },
  {
   "cell_type": "code",
   "execution_count": 11,
   "id": "demonstrated-stress",
   "metadata": {},
   "outputs": [],
   "source": [
    "columns = ['TransactionId', 'BatchId', 'AccountId', 'SubscriptionId', \n",
    "           'CustomerId', 'ProviderId', 'ProductId', 'ChannelId']\n",
    "\n",
    "import re\n",
    "\n",
    "for col in columns:\n",
    "    df[col] = df[col].str.replace('\\D', '')\n",
    "    df[col] = df[col].apply(np.int64)"
   ]
  },
  {
   "cell_type": "markdown",
   "id": "exempt-argentina",
   "metadata": {},
   "source": [
    "## Changing the Datetime\n",
    "- and create new columns for **weekday, hour, day** "
   ]
  },
  {
   "cell_type": "code",
   "execution_count": 12,
   "id": "norwegian-marshall",
   "metadata": {},
   "outputs": [],
   "source": [
    "df.TransactionStartTime = pd.to_datetime(df.TransactionStartTime)"
   ]
  },
  {
   "cell_type": "code",
   "execution_count": 13,
   "id": "traditional-cruise",
   "metadata": {},
   "outputs": [],
   "source": [
    "df['Date'] = df['TransactionStartTime'].apply(lambda x: pd.datetime.strftime(x, '%Y-%m-%d' ))"
   ]
  },
  {
   "cell_type": "code",
   "execution_count": 14,
   "id": "valid-column",
   "metadata": {},
   "outputs": [],
   "source": [
    "# .weekday() \n",
    "df['weekday'] = df['TransactionStartTime'].dt.weekday"
   ]
  },
  {
   "cell_type": "code",
   "execution_count": 15,
   "id": "sunset-conclusion",
   "metadata": {},
   "outputs": [
    {
     "data": {
      "text/plain": [
       "7"
      ]
     },
     "execution_count": 15,
     "metadata": {},
     "output_type": "execute_result"
    }
   ],
   "source": [
    "df[\"weekday\"].nunique()"
   ]
  },
  {
   "cell_type": "code",
   "execution_count": 16,
   "id": "returning-productivity",
   "metadata": {},
   "outputs": [],
   "source": [
    "df['hour'] = df['TransactionStartTime'].dt.hour"
   ]
  },
  {
   "cell_type": "code",
   "execution_count": 17,
   "id": "effective-lecture",
   "metadata": {},
   "outputs": [
    {
     "data": {
      "text/plain": [
       "24"
      ]
     },
     "execution_count": 17,
     "metadata": {},
     "output_type": "execute_result"
    }
   ],
   "source": [
    "df[\"hour\"].nunique()"
   ]
  },
  {
   "cell_type": "code",
   "execution_count": 18,
   "id": "level-cuisine",
   "metadata": {},
   "outputs": [],
   "source": [
    "df['day'] = df['TransactionStartTime'].dt.day"
   ]
  },
  {
   "cell_type": "code",
   "execution_count": 19,
   "id": "premier-shift",
   "metadata": {},
   "outputs": [
    {
     "data": {
      "text/plain": [
       "31"
      ]
     },
     "execution_count": 19,
     "metadata": {},
     "output_type": "execute_result"
    }
   ],
   "source": [
    "df[\"day\"].nunique()"
   ]
  },
  {
   "cell_type": "markdown",
   "id": "worth-sunset",
   "metadata": {},
   "source": [
    "## Drop useless Columns\n",
    "- CurrencyCode, CountryCode"
   ]
  },
  {
   "cell_type": "code",
   "execution_count": 20,
   "id": "positive-citizenship",
   "metadata": {},
   "outputs": [],
   "source": [
    "cols = ['CurrencyCode', 'CountryCode']\n",
    "df.drop(cols, axis = 1, inplace = True)"
   ]
  },
  {
   "cell_type": "markdown",
   "id": "neither-election",
   "metadata": {},
   "source": [
    "## Looking at the Data with first Plots"
   ]
  },
  {
   "cell_type": "markdown",
   "id": "virgin-confidence",
   "metadata": {},
   "source": [
    "**ProductCategory**"
   ]
  },
  {
   "cell_type": "code",
   "execution_count": 21,
   "id": "concrete-mercury",
   "metadata": {},
   "outputs": [
    {
     "data": {
      "image/png": "[encoded data removed]",
      "text/plain": [
       "<Figure size 720x576 with 1 Axes>"
      ]
     },
     "metadata": {
      "needs_background": "light"
     },
     "output_type": "display_data"
    }
   ],
   "source": [
    "plt.rcParams['font.size'] = 14\n",
    "plt.figure(figsize=(10,8))\n",
    "sns.set_style('whitegrid')\n",
    "sns.countplot(x='ProductCategory',data=df[df[\"FraudResult\"] == 1], palette='ocean')\n",
    "plt.yticks(size=16)\n",
    "plt.xticks(size=16)\n",
    "plt.show()"
   ]
  },
  {
   "cell_type": "markdown",
   "id": "valuable-health",
   "metadata": {},
   "source": [
    "**ProductId**"
   ]
  },
  {
   "cell_type": "code",
   "execution_count": 22,
   "id": "pleasant-shepherd",
   "metadata": {},
   "outputs": [
    {
     "data": {
      "image/png": "[encoded data removed]",
      "text/plain": [
       "<Figure size 720x432 with 1 Axes>"
      ]
     },
     "metadata": {},
     "output_type": "display_data"
    }
   ],
   "source": [
    "plt.figure(figsize=(10,6))\n",
    "sns.set_style('whitegrid')\n",
    "sns.countplot(x='ProductId',data=df[df[\"FraudResult\"] == 1], palette='ocean')\n",
    "plt.yticks(size=16)\n",
    "plt.xticks(size=16)\n",
    "plt.show()\n",
    "\n",
    "#plt.savefig(\"ProductId.png\")"
   ]
  },
  {
   "cell_type": "markdown",
   "id": "numeric-sperm",
   "metadata": {},
   "source": [
    "**ProviderId**"
   ]
  },
  {
   "cell_type": "code",
   "execution_count": 23,
   "id": "requested-verification",
   "metadata": {},
   "outputs": [
    {
     "data": {
      "image/png": "[encoded data removed]",
      "text/plain": [
       "<Figure size 864x576 with 1 Axes>"
      ]
     },
     "metadata": {},
     "output_type": "display_data"
    }
   ],
   "source": [
    "plt.figure(figsize=(12,8))\n",
    "sns.set_style('whitegrid')\n",
    "sns.countplot(x='ProviderId',data=df[df[\"FraudResult\"] == 1], palette='ocean')\n",
    "plt.yticks(size=16)\n",
    "plt.xticks(size=16)\n",
    "plt.show()"
   ]
  },
  {
   "cell_type": "markdown",
   "id": "aquatic-palmer",
   "metadata": {},
   "source": [
    "**ChannelId**\n",
    "- Fraudulent transactions mostly happen on one specific channel."
   ]
  },
  {
   "cell_type": "code",
   "execution_count": 24,
   "id": "compliant-brazilian",
   "metadata": {},
   "outputs": [
    {
     "data": {
      "image/png": "[encoded data removed]",
      "text/plain": [
       "<Figure size 720x432 with 1 Axes>"
      ]
     },
     "metadata": {},
     "output_type": "display_data"
    }
   ],
   "source": [
    "plt.figure(figsize=(10,6))\n",
    "sns.set_style('whitegrid')\n",
    "sns.countplot(x='ChannelId',data=df[df[\"FraudResult\"] == 1], palette='ocean')\n",
    "plt.yticks(size=16)\n",
    "plt.xticks(size=16)\n",
    "plt.show()"
   ]
  },
  {
   "cell_type": "markdown",
   "id": "removed-software",
   "metadata": {},
   "source": [
    "**PricingStrategy**"
   ]
  },
  {
   "cell_type": "code",
   "execution_count": 25,
   "id": "tracked-announcement",
   "metadata": {},
   "outputs": [
    {
     "data": {
      "image/png": "[encoded data removed]",
      "text/plain": [
       "<Figure size 720x576 with 1 Axes>"
      ]
     },
     "metadata": {},
     "output_type": "display_data"
    }
   ],
   "source": [
    "plt.figure(figsize=(10,8))\n",
    "sns.set_style('whitegrid')\n",
    "sns.countplot(x='PricingStrategy',data=df[df[\"FraudResult\"] == 1], palette='ocean')\n",
    "plt.yticks(size=16)\n",
    "plt.xticks(size=16)\n",
    "plt.show()"
   ]
  },
  {
   "cell_type": "markdown",
   "id": "greek-probe",
   "metadata": {},
   "source": [
    "**Hour**"
   ]
  },
  {
   "cell_type": "code",
   "execution_count": 26,
   "id": "atlantic-tomato",
   "metadata": {},
   "outputs": [
    {
     "data": {
      "image/png": "[encoded data removed]",
      "text/plain": [
       "<Figure size 576x504 with 1 Axes>"
      ]
     },
     "metadata": {},
     "output_type": "display_data"
    }
   ],
   "source": [
    "fig, ax = plt.subplots(figsize=(8,7))\n",
    "sns.set_style('whitegrid')\n",
    "sns.countplot(x='hour',data=df[df[\"FraudResult\"] == 1], palette='ocean')\n",
    "plt.yticks(size=16)\n",
    "plt.xticks(size=16)\n",
    "for p in ax.patches:\n",
    "    ax.annotate(str(format(int(p.get_height()), ',d')), (p.get_x(), p.get_height()*1.01))"
   ]
  },
  {
   "cell_type": "markdown",
   "id": "honest-statement",
   "metadata": {},
   "source": [
    "**weekday**"
   ]
  },
  {
   "cell_type": "code",
   "execution_count": 27,
   "id": "turned-replication",
   "metadata": {},
   "outputs": [
    {
     "data": {
      "image/png": "[encoded data removed]",
      "text/plain": [
       "<Figure size 720x576 with 1 Axes>"
      ]
     },
     "metadata": {},
     "output_type": "display_data"
    }
   ],
   "source": [
    "plt.figure(figsize=(10,8))\n",
    "sns.set_style('whitegrid')\n",
    "sns.countplot(x='weekday',data=df[df[\"FraudResult\"] == 1], palette='ocean')\n",
    "plt.yticks(size=16)\n",
    "plt.xticks(size=16)\n",
    "plt.show()"
   ]
  },
  {
   "cell_type": "markdown",
   "id": "tropical-notebook",
   "metadata": {},
   "source": [
    "# **Feature Engineering (aggregation)**"
   ]
  },
  {
   "cell_type": "markdown",
   "id": "disturbed-aurora",
   "metadata": {},
   "source": [
    "#### Example of **.unstack()**\n",
    "- https://stackoverflow.com/questions/61052816/how-to-filter-dataframe-on-two-columns-and-output-cumulative-sum"
   ]
  },
  {
   "cell_type": "markdown",
   "id": "ignored-production",
   "metadata": {},
   "source": [
    "- Looking at customer Ids"
   ]
  },
  {
   "cell_type": "code",
   "execution_count": 28,
   "id": "minor-subdivision",
   "metadata": {},
   "outputs": [
    {
     "data": {
      "text/plain": [
       "(7479, '2019-02-01')"
      ]
     },
     "metadata": {},
     "output_type": "display_data"
    },
    {
     "data": {
      "text/plain": [
       "CustomerId  Date      \n",
       "7479        2019-02-01      500.0\n",
       "7478        2019-02-01      500.0\n",
       "7477        2018-12-19    -2000.0\n",
       "7476        2018-12-07   -10000.0\n",
       "            2018-11-15    -1000.0\n",
       "                           ...   \n",
       "5           2018-11-21   -10000.0\n",
       "4           2018-11-21   -10000.0\n",
       "3           2018-11-21   -10000.0\n",
       "2           2018-11-21   -10000.0\n",
       "1           2018-11-21   -10000.0\n",
       "Name: Amount, Length: 21872, dtype: float64"
      ]
     },
     "metadata": {},
     "output_type": "display_data"
    },
    {
     "data": {
      "text/html": [
       "<div>\n",
       "<style scoped>\n",
       "    .dataframe tbody tr th:only-of-type {\n",
       "        vertical-align: middle;\n",
       "    }\n",
       "\n",
       "    .dataframe tbody tr th {\n",
       "        vertical-align: top;\n",
       "    }\n",
       "\n",
       "    .dataframe thead th {\n",
       "        text-align: right;\n",
       "    }\n",
       "</style>\n",
       "<table border=\"1\" class=\"dataframe\">\n",
       "  <thead>\n",
       "    <tr style=\"text-align: right;\">\n",
       "      <th></th>\n",
       "      <th></th>\n",
       "      <th>TransactionId</th>\n",
       "      <th>ProductId</th>\n",
       "      <th>ChannelId</th>\n",
       "      <th>Amount</th>\n",
       "      <th>FraudResult</th>\n",
       "    </tr>\n",
       "    <tr>\n",
       "      <th>CustomerId</th>\n",
       "      <th>Date</th>\n",
       "      <th></th>\n",
       "      <th></th>\n",
       "      <th></th>\n",
       "      <th></th>\n",
       "      <th></th>\n",
       "    </tr>\n",
       "  </thead>\n",
       "  <tbody>\n",
       "    <tr>\n",
       "      <th>7479</th>\n",
       "      <th>2019-02-01</th>\n",
       "      <td>1</td>\n",
       "      <td>9</td>\n",
       "      <td>1</td>\n",
       "      <td>500.0</td>\n",
       "      <td>0</td>\n",
       "    </tr>\n",
       "    <tr>\n",
       "      <th>7478</th>\n",
       "      <th>2019-02-01</th>\n",
       "      <td>1</td>\n",
       "      <td>9</td>\n",
       "      <td>1</td>\n",
       "      <td>500.0</td>\n",
       "      <td>0</td>\n",
       "    </tr>\n",
       "    <tr>\n",
       "      <th>7477</th>\n",
       "      <th>2018-12-19</th>\n",
       "      <td>1</td>\n",
       "      <td>10</td>\n",
       "      <td>2</td>\n",
       "      <td>-2000.0</td>\n",
       "      <td>0</td>\n",
       "    </tr>\n",
       "    <tr>\n",
       "      <th rowspan=\"2\" valign=\"top\">7476</th>\n",
       "      <th>2018-12-07</th>\n",
       "      <td>1</td>\n",
       "      <td>3</td>\n",
       "      <td>2</td>\n",
       "      <td>-10000.0</td>\n",
       "      <td>0</td>\n",
       "    </tr>\n",
       "    <tr>\n",
       "      <th>2018-11-15</th>\n",
       "      <td>1</td>\n",
       "      <td>10</td>\n",
       "      <td>2</td>\n",
       "      <td>-1000.0</td>\n",
       "      <td>0</td>\n",
       "    </tr>\n",
       "    <tr>\n",
       "      <th>...</th>\n",
       "      <th>...</th>\n",
       "      <td>...</td>\n",
       "      <td>...</td>\n",
       "      <td>...</td>\n",
       "      <td>...</td>\n",
       "      <td>...</td>\n",
       "    </tr>\n",
       "    <tr>\n",
       "      <th>5</th>\n",
       "      <th>2018-11-21</th>\n",
       "      <td>1</td>\n",
       "      <td>10</td>\n",
       "      <td>2</td>\n",
       "      <td>-10000.0</td>\n",
       "      <td>0</td>\n",
       "    </tr>\n",
       "    <tr>\n",
       "      <th>4</th>\n",
       "      <th>2018-11-21</th>\n",
       "      <td>1</td>\n",
       "      <td>10</td>\n",
       "      <td>2</td>\n",
       "      <td>-10000.0</td>\n",
       "      <td>0</td>\n",
       "    </tr>\n",
       "    <tr>\n",
       "      <th>3</th>\n",
       "      <th>2018-11-21</th>\n",
       "      <td>1</td>\n",
       "      <td>3</td>\n",
       "      <td>2</td>\n",
       "      <td>-10000.0</td>\n",
       "      <td>0</td>\n",
       "    </tr>\n",
       "    <tr>\n",
       "      <th>2</th>\n",
       "      <th>2018-11-21</th>\n",
       "      <td>1</td>\n",
       "      <td>3</td>\n",
       "      <td>2</td>\n",
       "      <td>-10000.0</td>\n",
       "      <td>0</td>\n",
       "    </tr>\n",
       "    <tr>\n",
       "      <th>1</th>\n",
       "      <th>2018-11-21</th>\n",
       "      <td>1</td>\n",
       "      <td>10</td>\n",
       "      <td>2</td>\n",
       "      <td>-10000.0</td>\n",
       "      <td>0</td>\n",
       "    </tr>\n",
       "  </tbody>\n",
       "</table>\n",
       "<p>21872 rows × 5 columns</p>\n",
       "</div>"
      ],
      "text/plain": [
       "                       TransactionId  ProductId  ChannelId   Amount  \\\n",
       "CustomerId Date                                                       \n",
       "7479       2019-02-01              1          9          1    500.0   \n",
       "7478       2019-02-01              1          9          1    500.0   \n",
       "7477       2018-12-19              1         10          2  -2000.0   \n",
       "7476       2018-12-07              1          3          2 -10000.0   \n",
       "           2018-11-15              1         10          2  -1000.0   \n",
       "...                              ...        ...        ...      ...   \n",
       "5          2018-11-21              1         10          2 -10000.0   \n",
       "4          2018-11-21              1         10          2 -10000.0   \n",
       "3          2018-11-21              1          3          2 -10000.0   \n",
       "2          2018-11-21              1          3          2 -10000.0   \n",
       "1          2018-11-21              1         10          2 -10000.0   \n",
       "\n",
       "                       FraudResult  \n",
       "CustomerId Date                     \n",
       "7479       2019-02-01            0  \n",
       "7478       2019-02-01            0  \n",
       "7477       2018-12-19            0  \n",
       "7476       2018-12-07            0  \n",
       "           2018-11-15            0  \n",
       "...                            ...  \n",
       "5          2018-11-21            0  \n",
       "4          2018-11-21            0  \n",
       "3          2018-11-21            0  \n",
       "2          2018-11-21            0  \n",
       "1          2018-11-21            0  \n",
       "\n",
       "[21872 rows x 5 columns]"
      ]
     },
     "execution_count": 28,
     "metadata": {},
     "output_type": "execute_result"
    }
   ],
   "source": [
    "cf = df.groupby([\"CustomerId\", \"Date\"]).agg({\"TransactionId\": \"count\", \"ProductId\": \"max\",\n",
    "                                      \"ChannelId\": \"max\", \"Amount\" : \"mean\",  \"FraudResult\": \"sum\"}).sort_values(\"CustomerId\", ascending=False) \n",
    "display(cf.index[0])\n",
    "display(cf[\"Amount\"])\n",
    "cf #.columns"
   ]
  },
  {
   "cell_type": "markdown",
   "id": "useful-relative",
   "metadata": {},
   "source": [
    "# **Create new Dataset for aggregation**"
   ]
  },
  {
   "cell_type": "markdown",
   "id": "seasonal-demand",
   "metadata": {},
   "source": [
    "- We take df and **create dummies** with drop_first=False"
   ]
  },
  {
   "cell_type": "code",
   "execution_count": 29,
   "id": "advance-storm",
   "metadata": {},
   "outputs": [
    {
     "data": {
      "text/plain": [
       "Index(['TransactionId', 'BatchId', 'AccountId', 'SubscriptionId', 'CustomerId',\n",
       "       'ProductCategory', 'Amount', 'Value', 'TransactionStartTime',\n",
       "       'FraudResult', 'Date', 'weekday', 'hour', 'day', 'ProviderId_1',\n",
       "       'ProviderId_2', 'ProviderId_3', 'ProviderId_4', 'ProviderId_5',\n",
       "       'ProviderId_6', 'ProductId_1', 'ProductId_2', 'ProductId_3',\n",
       "       'ProductId_4', 'ProductId_5', 'ProductId_6', 'ProductId_7',\n",
       "       'ProductId_8', 'ProductId_9', 'ProductId_10', 'ProductId_11',\n",
       "       'ProductId_12', 'ProductId_13', 'ProductId_14', 'ProductId_15',\n",
       "       'ProductId_16', 'ProductId_19', 'ProductId_20', 'ProductId_21',\n",
       "       'ProductId_22', 'ProductId_23', 'ProductId_24', 'ProductId_27',\n",
       "       'ChannelId_1', 'ChannelId_2', 'ChannelId_3', 'ChannelId_5',\n",
       "       'PricingStrategy_0', 'PricingStrategy_1', 'PricingStrategy_2',\n",
       "       'PricingStrategy_4'],\n",
       "      dtype='object')"
      ]
     },
     "execution_count": 29,
     "metadata": {},
     "output_type": "execute_result"
    }
   ],
   "source": [
    "df_dummy = pd.get_dummies(df, columns=[\"ProviderId\", \"ProductId\", \"ChannelId\", \"PricingStrategy\"], drop_first=False)\n",
    "df_dummy.columns"
   ]
  },
  {
   "cell_type": "code",
   "execution_count": 30,
   "id": "celtic-wednesday",
   "metadata": {},
   "outputs": [
    {
     "data": {
      "text/plain": [
       "array(['2018-11-16', '2018-11-23', '2018-11-30', '2018-12-07',\n",
       "       '2018-12-14'], dtype=object)"
      ]
     },
     "execution_count": 30,
     "metadata": {},
     "output_type": "execute_result"
    }
   ],
   "source": [
    "np.sort(df_dummy[df_dummy[\"CustomerId\"] == 334][\"Date\"].unique())"
   ]
  },
  {
   "cell_type": "markdown",
   "id": "grave-navigation",
   "metadata": {},
   "source": [
    "### **Step 1: Create again new columns based on the old columns** "
   ]
  },
  {
   "cell_type": "markdown",
   "id": "sufficient-citizen",
   "metadata": {},
   "source": [
    "- **fraud_cumsum:** shows us the count of fraud up to every timestamp by id"
   ]
  },
  {
   "cell_type": "code",
   "execution_count": 31,
   "id": "adaptive-volume",
   "metadata": {},
   "outputs": [],
   "source": [
    "df_step1 = df_dummy.sort_values('TransactionStartTime', ascending=True)\n",
    "df_step1[\"fraud_cumsum\"] = df_dummy.groupby('CustomerId')['FraudResult'].cumsum() "
   ]
  },
  {
   "cell_type": "markdown",
   "id": "pointed-hampton",
   "metadata": {},
   "source": [
    "- **value_cumsum:** shows us the sum of Amount up to every timestamp by id"
   ]
  },
  {
   "cell_type": "code",
   "execution_count": 32,
   "id": "opened-style",
   "metadata": {},
   "outputs": [],
   "source": [
    "df_step1[\"value_cumsum\"] = df_dummy.groupby('CustomerId')['Value'].cumsum()"
   ]
  },
  {
   "cell_type": "markdown",
   "id": "atlantic-custom",
   "metadata": {},
   "source": [
    "- **transaction_cumsum:** shows us the sum of Transactions up to every timestamp by id"
   ]
  },
  {
   "cell_type": "code",
   "execution_count": 33,
   "id": "ambient-tracy",
   "metadata": {},
   "outputs": [],
   "source": [
    "df_step1[\"transaction_cumsum\"] = df_dummy.groupby('CustomerId')['TransactionId'].cumcount()+1"
   ]
  },
  {
   "cell_type": "markdown",
   "id": "downtown-principle",
   "metadata": {},
   "source": [
    "- **value_mean:** shows us the mean of the Amount by transactions up to every timestamp by id"
   ]
  },
  {
   "cell_type": "code",
   "execution_count": 34,
   "id": "emerging-metabolism",
   "metadata": {},
   "outputs": [],
   "source": [
    "df_step1[\"value_mean\"] = df_step1[\"value_cumsum\"]/df_step1[\"transaction_cumsum\"]"
   ]
  },
  {
   "cell_type": "markdown",
   "id": "satellite-bangladesh",
   "metadata": {},
   "source": [
    "### **Step 2.1: Create again new columns based on the new Dummies (mean by transaction of each column and id up to every timestamp)**"
   ]
  },
  {
   "cell_type": "code",
   "execution_count": 35,
   "id": "geological-doctrine",
   "metadata": {},
   "outputs": [],
   "source": [
    "group = ['ProviderId_1', 'ProviderId_2', 'ProviderId_3', 'ProviderId_4', \n",
    "         'ProviderId_5', 'ProviderId_6', 'ProductId_1', 'ProductId_2',\n",
    "           'ProductId_3', 'ProductId_4', 'ProductId_5', 'ProductId_6',\n",
    "           'ProductId_7', 'ProductId_8', 'ProductId_9', 'ProductId_10',\n",
    "           'ProductId_11', 'ProductId_12', 'ProductId_13', 'ProductId_14',\n",
    "           'ProductId_15', 'ProductId_16', 'ProductId_19', 'ProductId_20',\n",
    "           'ProductId_21', 'ProductId_22', 'ProductId_23', 'ProductId_24',\n",
    "           'ProductId_27', 'ChannelId_1', 'ChannelId_2', 'ChannelId_3', 'ChannelId_5',\n",
    "           'PricingStrategy_0', 'PricingStrategy_1', 'PricingStrategy_2', 'PricingStrategy_4']\n",
    "\n",
    "df_step2_1 = df_step1.sort_values('TransactionStartTime', ascending=True).copy()\n",
    "for g in group:\n",
    "    df_step2_1[g] = df_dummy.groupby('CustomerId')[g].cumsum()/df_step1[\"transaction_cumsum\"]"
   ]
  },
  {
   "cell_type": "markdown",
   "id": "wooden-biology",
   "metadata": {},
   "source": [
    "### **Step 2.2: Create new DF and new columns based on the new Dummies (mean by transaction of each column and id)** "
   ]
  },
  {
   "cell_type": "code",
   "execution_count": 36,
   "id": "separate-china",
   "metadata": {},
   "outputs": [
    {
     "ename": "NameError",
     "evalue": "name 'f' is not defined",
     "output_type": "error",
     "traceback": [
      "\u001b[0;31m---------------------------------------------------------------------------\u001b[0m",
      "\u001b[0;31mNameError\u001b[0m                                 Traceback (most recent call last)",
      "\u001b[0;32m<ipython-input-36-e9d1cdd707dd>\u001b[0m in \u001b[0;36m<module>\u001b[0;34m\u001b[0m\n\u001b[1;32m      1\u001b[0m \u001b[0mdf_step2_2\u001b[0m \u001b[0;34m=\u001b[0m \u001b[0mdf_step1\u001b[0m\u001b[0;34m.\u001b[0m\u001b[0msort_values\u001b[0m\u001b[0;34m(\u001b[0m\u001b[0;34m'TransactionStartTime'\u001b[0m\u001b[0;34m,\u001b[0m \u001b[0mascending\u001b[0m\u001b[0;34m=\u001b[0m\u001b[0;32mTrue\u001b[0m\u001b[0;34m)\u001b[0m\u001b[0;34m.\u001b[0m\u001b[0mcopy\u001b[0m\u001b[0;34m(\u001b[0m\u001b[0;34m)\u001b[0m\u001b[0;34m\u001b[0m\u001b[0;34m\u001b[0m\u001b[0m\n\u001b[1;32m      2\u001b[0m \u001b[0;32mfor\u001b[0m \u001b[0mg\u001b[0m \u001b[0;32min\u001b[0m \u001b[0mgroup\u001b[0m\u001b[0;34m:\u001b[0m\u001b[0;34m\u001b[0m\u001b[0;34m\u001b[0m\u001b[0m\n\u001b[0;32m----> 3\u001b[0;31m     \u001b[0mgb\u001b[0m \u001b[0;34m=\u001b[0m \u001b[0mdf_dummy\u001b[0m\u001b[0;34m.\u001b[0m\u001b[0mgroupby\u001b[0m\u001b[0;34m(\u001b[0m\u001b[0;34m'CustomerId'\u001b[0m\u001b[0;34m)\u001b[0m\u001b[0;34m.\u001b[0m\u001b[0magg\u001b[0m\u001b[0;34m(\u001b[0m\u001b[0;34m{\u001b[0m\u001b[0mf\u001b[0m\u001b[0;34m:\u001b[0m \u001b[0;34m\"sum\"\u001b[0m\u001b[0;34m,\u001b[0m\u001b[0;34m\"TransactionId\"\u001b[0m\u001b[0;34m:\u001b[0m \u001b[0;34m\"count\"\u001b[0m\u001b[0;34m}\u001b[0m\u001b[0;34m)\u001b[0m\u001b[0;34m\u001b[0m\u001b[0;34m\u001b[0m\u001b[0m\n\u001b[0m\u001b[1;32m      4\u001b[0m     \u001b[0;32mfor\u001b[0m \u001b[0mg\u001b[0m \u001b[0;32min\u001b[0m \u001b[0mgb\u001b[0m\u001b[0;34m.\u001b[0m\u001b[0mindex\u001b[0m\u001b[0;34m:\u001b[0m\u001b[0;34m\u001b[0m\u001b[0;34m\u001b[0m\u001b[0m\n\u001b[1;32m      5\u001b[0m         \u001b[0mdf_step2_2\u001b[0m\u001b[0;34m.\u001b[0m\u001b[0mloc\u001b[0m\u001b[0;34m[\u001b[0m\u001b[0mdf_dummy\u001b[0m\u001b[0;34m[\u001b[0m\u001b[0;34m'CustomerId'\u001b[0m\u001b[0;34m]\u001b[0m \u001b[0;34m==\u001b[0m \u001b[0mg\u001b[0m\u001b[0;34m,\u001b[0m \u001b[0mf\u001b[0m\u001b[0;34m]\u001b[0m \u001b[0;34m=\u001b[0m \u001b[0mgb\u001b[0m\u001b[0;34m[\u001b[0m\u001b[0mf\u001b[0m\u001b[0;34m]\u001b[0m\u001b[0;34m[\u001b[0m\u001b[0mg\u001b[0m\u001b[0;34m]\u001b[0m\u001b[0;34m/\u001b[0m\u001b[0mgb\u001b[0m\u001b[0;34m[\u001b[0m\u001b[0;34m\"TransactionId\"\u001b[0m\u001b[0;34m]\u001b[0m\u001b[0;34m[\u001b[0m\u001b[0mg\u001b[0m\u001b[0;34m]\u001b[0m\u001b[0;34m\u001b[0m\u001b[0;34m\u001b[0m\u001b[0m\n",
      "\u001b[0;31mNameError\u001b[0m: name 'f' is not defined"
     ]
    }
   ],
   "source": [
    "df_step2_2 = df_step1.sort_values('TransactionStartTime', ascending=True).copy()\n",
    "for g in group:\n",
    "    gb = df_dummy.groupby('CustomerId').agg({f: \"sum\",\"TransactionId\": \"count\"}) \n",
    "    for g in gb.index:\n",
    "        df_step2_2.loc[df_dummy['CustomerId'] == g, f] = gb[f][g]/gb[\"TransactionId\"][g]"
   ]
  },
  {
   "cell_type": "markdown",
   "id": "posted-beatles",
   "metadata": {},
   "source": [
    "# Creating df_plot (based on original Dataframe):"
   ]
  },
  {
   "cell_type": "code",
   "execution_count": null,
   "id": "documentary-sudan",
   "metadata": {},
   "outputs": [],
   "source": [
    "df_plot = df.sort_values('TransactionStartTime', ascending=True).copy()\n",
    "df_plot[\"fraud_cumsum\"] = df.groupby('CustomerId')['FraudResult'].cumsum() \n",
    "df_plot[\"value_cumsum\"] = df.groupby('CustomerId')['Value'].cumsum()\n",
    "df_plot[\"transaction_cumsum\"] = df.groupby('CustomerId')['TransactionId'].cumcount()+1\n",
    "df_plot[\"value_mean\"] = df_plot[\"value_cumsum\"]/df_plot[\"transaction_cumsum\"]"
   ]
  },
  {
   "cell_type": "code",
   "execution_count": null,
   "id": "protective-plenty",
   "metadata": {},
   "outputs": [],
   "source": [
    "df_plot = df_plot.sort_values('TransactionStartTime', ascending=True).copy()\n",
    "df_plot[\"fraud_total\"] = 0\n",
    "df_plot[\"Value_total\"] = 0\n",
    "df_plot[\"fraud\"] = 0\n",
    "df_plot[\"fraud_history\"] = 0\n",
    "\n",
    "gb = df_step2_2.groupby('CustomerId').agg({\"Amount\": \"sum\",\"FraudResult\": \"sum\", \"Value\": \"sum\"})\n",
    "\n",
    "for g in gb.index:\n",
    "    if gb[\"FraudResult\"][g] == 0:\n",
    "        frauds = \"No Frauds\"\n",
    "    elif gb[\"FraudResult\"][g] == 1:\n",
    "        frauds = \"one Fraud\"\n",
    "    elif gb[\"FraudResult\"][g] > 1:\n",
    "        frauds = \"several Frauds\"\n",
    "    \n",
    "    df_plot.loc[df_plot['CustomerId'] == g, \"fraud_total\"] = gb[\"FraudResult\"][g]\n",
    "    df_plot.loc[df_plot['CustomerId'] == g, \"Value_total\"] = gb[\"Value\"][g]\n",
    "    df_plot.loc[df_plot['CustomerId'] == g, \"fraud\"] = 1 if gb[\"FraudResult\"][g] > 0 else 0\n",
    "    df_plot.loc[df_plot['CustomerId'] == g, \"fraud_history\"] = frauds  "
   ]
  },
  {
   "cell_type": "code",
   "execution_count": null,
   "id": "injured-solomon",
   "metadata": {},
   "outputs": [],
   "source": [
    "df_plot.columns"
   ]
  },
  {
   "cell_type": "markdown",
   "id": "aging-transcript",
   "metadata": {},
   "source": [
    "# **Plots with the new variables from the Feature Engineering**"
   ]
  },
  {
   "cell_type": "markdown",
   "id": "wound-coffee",
   "metadata": {},
   "source": [
    "**The higher the transaction-volume the higher the probability to be fraudulent.**"
   ]
  },
  {
   "cell_type": "code",
   "execution_count": null,
   "id": "looking-france",
   "metadata": {},
   "outputs": [],
   "source": [
    "sns.set_theme(style=\"white\")\n",
    "sns.relplot(x=\"Value\", y=\"fraud_total\", hue=\"fraud_history\", size=\"Value\",\n",
    "            sizes=(50, 500), alpha=.5, palette=\"muted\",\n",
    "            height=6, data=df_plot)\n",
    "plt.yticks(size=16)\n",
    "plt.xticks(size=16)\n",
    "plt.show()"
   ]
  },
  {
   "cell_type": "markdown",
   "id": "entertaining-magnitude",
   "metadata": {},
   "source": [
    "**Value distribution of no frauds, one fraud and several frauds within a week**"
   ]
  },
  {
   "cell_type": "code",
   "execution_count": null,
   "id": "charitable-marsh",
   "metadata": {},
   "outputs": [],
   "source": [
    "sns.set(style=\"whitegrid\")\n",
    "fig, ax = plt.subplots(figsize=(18,10))\n",
    "sns.barplot(x=\"weekday\", y=\"Value\", hue=\"fraud_history\", data=df_plot, ci=None);\n",
    "for p in ax.patches:\n",
    "    ax.annotate(str(format(int(p.get_height()), ',d')), (p.get_x(), p.get_height()*1.01))\n",
    "plt.yticks(size=16)\n",
    "plt.xticks(size=16)\n",
    "plt.show()"
   ]
  },
  {
   "cell_type": "markdown",
   "id": "announced-ancient",
   "metadata": {},
   "source": [
    "**Value distribution of no frauds, one fraud and several frauds within a day**"
   ]
  },
  {
   "cell_type": "code",
   "execution_count": null,
   "id": "adjusted-shakespeare",
   "metadata": {},
   "outputs": [],
   "source": [
    "sns.set(style=\"darkgrid\")\n",
    "plt.figure(figsize=(18,10))\n",
    "sns.barplot(x=\"hour\", y=\"Value\", hue=\"fraud_history\", data=df_plot, ci=None);\n",
    "plt.yticks(size=16)\n",
    "plt.xticks(size=16)\n",
    "plt.show()"
   ]
  },
  {
   "cell_type": "markdown",
   "id": "referenced-essay",
   "metadata": {},
   "source": [
    "**Value distribution of no frauds, one fraud and several frauds within the ProviderId**"
   ]
  },
  {
   "cell_type": "code",
   "execution_count": null,
   "id": "alone-royal",
   "metadata": {},
   "outputs": [],
   "source": [
    "sns.set(style=\"darkgrid\")\n",
    "plt.figure(figsize=(18,10))\n",
    "sns.barplot(x=\"ProviderId\", y=\"Value\", hue=\"fraud_history\", data=df_plot, ci=None);\n",
    "plt.yticks(size=16)\n",
    "plt.xticks(size=16)\n",
    "plt.show()"
   ]
  },
  {
   "cell_type": "markdown",
   "id": "korean-swift",
   "metadata": {},
   "source": [
    "**Value distribution of no frauds, one fraud and several frauds within the ProductId**"
   ]
  },
  {
   "cell_type": "code",
   "execution_count": null,
   "id": "wound-messaging",
   "metadata": {},
   "outputs": [],
   "source": [
    "sns.set(style=\"darkgrid\")\n",
    "plt.figure(figsize=(20,10))\n",
    "sns.barplot(x=\"ProductId\", y=\"Value\", hue=\"fraud_history\", data=df_plot, ci=None);\n",
    "plt.yticks(size=16)\n",
    "plt.xticks(size=16)\n",
    "plt.show()"
   ]
  },
  {
   "cell_type": "markdown",
   "id": "miniature-robert",
   "metadata": {},
   "source": [
    "**Value distribution of no frauds, one fraud and several frauds**"
   ]
  },
  {
   "cell_type": "code",
   "execution_count": null,
   "id": "alive-domain",
   "metadata": {},
   "outputs": [],
   "source": [
    "sns.set(style=\"darkgrid\")\n",
    "plt.figure(figsize=(10,10))\n",
    "sns.barplot(x=\"fraud_history\", y=\"Value\", data=df_plot, palette=\"Blues_d\")"
   ]
  },
  {
   "cell_type": "markdown",
   "id": "surprising-savings",
   "metadata": {},
   "source": [
    "## **Pieplots**"
   ]
  },
  {
   "cell_type": "code",
   "execution_count": null,
   "id": "exposed-beaver",
   "metadata": {},
   "outputs": [],
   "source": [
    "df_plot[\"fraud_history\"].value_counts().to_frame()"
   ]
  },
  {
   "cell_type": "code",
   "execution_count": null,
   "id": "outer-separate",
   "metadata": {},
   "outputs": [],
   "source": [
    "df_plot.groupby('FraudResult').agg({\"Value\": \"mean\",\"CustomerId\": \"count\", \"TransactionId\": \"count\"})"
   ]
  },
  {
   "cell_type": "markdown",
   "id": "robust-index",
   "metadata": {},
   "source": [
    "**0.2% of all transactions are fraud.**"
   ]
  },
  {
   "cell_type": "code",
   "execution_count": null,
   "id": "federal-reverse",
   "metadata": {},
   "outputs": [],
   "source": [
    "names='No Frauds (96.3%)', 'one Fraud (2%)', 'several Frauds (1.7%)'\n",
    "values=[92091,1968 + 1603]\n",
    "names='No Frauds (99.8%)', 'Fraud (0.2%)'\n",
    "values=[99.8,0.2]\n",
    "plt.figure(figsize=(12,10))\n",
    "colors = ['#4F6272', '#B7C3F3', '#DD7596', '#8EB897']\n",
    "plt.pie(values, labels=names, labeldistance=1.15, wedgeprops = { 'linewidth' : 2, 'edgecolor' : 'white' }, colors=colors);"
   ]
  },
  {
   "cell_type": "markdown",
   "id": "unnecessary-transportation",
   "metadata": {},
   "source": [
    "**32% of the overall transaction value is \n",
    "fraud.**"
   ]
  },
  {
   "cell_type": "code",
   "execution_count": null,
   "id": "announced-satin",
   "metadata": {},
   "outputs": [],
   "source": [
    "names='No Frauds (55.2%)', 'one Fraud (4.3%)', 'several Frauds (40.5%)'\n",
    "values=[522512742,40620263,383976656]\n",
    "names='No Frauds (68%)', 'Fraud (32%)'\n",
    "values=[68,32]\n",
    "plt.figure(figsize=(12,10))\n",
    "colors = ['#4F6272', '#B7C3F3', '#DD7596', '#8EB897']\n",
    "plt.pie(values, labels=names, labeldistance=1.15, wedgeprops = { 'linewidth' : 2, 'edgecolor' : 'white' }, colors=colors);"
   ]
  }
 ],
 "metadata": {
  "kernelspec": {
   "display_name": "Python 3",
   "language": "python",
   "name": "python3"
  },
  "language_info": {
   "codemirror_mode": {
    "name": "ipython",
    "version": 3
   },
   "file_extension": ".py",
   "mimetype": "text/x-python",
   "name": "python",
   "nbconvert_exporter": "python",
   "pygments_lexer": "ipython3",
   "version": "3.8.5"
  }
 },
 "nbformat": 4,
 "nbformat_minor": 5
}
