{
 "cells": [
  {
   "cell_type": "code",
   "execution_count": 1,
   "id": "neutral-xerox",
   "metadata": {},
   "outputs": [],
   "source": [
    "import numpy as np"
   ]
  },
  {
   "cell_type": "code",
   "execution_count": 2,
   "id": "former-dealer",
   "metadata": {},
   "outputs": [
    {
     "name": "stdout",
     "output_type": "stream",
     "text": [
      "[45, 47, 50, 65, 71, 89, 90, 1.7, 1.6, 1.5, 1.7, 1.8, 1.65, 1.75]\n"
     ]
    },
    {
     "ename": "TypeError",
     "evalue": "can't multiply sequence by non-int of type 'list'",
     "output_type": "error",
     "traceback": [
      "\u001b[0;31m---------------------------------------------------------------------------\u001b[0m",
      "\u001b[0;31mTypeError\u001b[0m                                 Traceback (most recent call last)",
      "\u001b[0;32m<ipython-input-2-9a238346bf92>\u001b[0m in \u001b[0;36m<module>\u001b[0;34m\u001b[0m\n\u001b[1;32m      5\u001b[0m \u001b[0;34m\u001b[0m\u001b[0m\n\u001b[1;32m      6\u001b[0m \u001b[0mprint\u001b[0m\u001b[0;34m(\u001b[0m\u001b[0mlist_berat_badan\u001b[0m \u001b[0;34m+\u001b[0m \u001b[0mlist_tinggi_badan\u001b[0m\u001b[0;34m)\u001b[0m\u001b[0;34m\u001b[0m\u001b[0;34m\u001b[0m\u001b[0m\n\u001b[0;32m----> 7\u001b[0;31m \u001b[0mprint\u001b[0m\u001b[0;34m(\u001b[0m\u001b[0mlist_berat_badan\u001b[0m \u001b[0;34m*\u001b[0m \u001b[0mlist_tinggi_badan\u001b[0m\u001b[0;34m)\u001b[0m \u001b[0;31m#list tidak bisa dikalikan, akan menyebabkan ERROR\u001b[0m\u001b[0;34m\u001b[0m\u001b[0;34m\u001b[0m\u001b[0m\n\u001b[0m",
      "\u001b[0;31mTypeError\u001b[0m: can't multiply sequence by non-int of type 'list'"
     ]
    }
   ],
   "source": [
    "# bagaimana dengan list kalkulasi bekerja\n",
    "\n",
    "list_berat_badan = [45, 47, 50, 65, 71, 89, 90]\n",
    "list_tinggi_badan = [1.7, 1.6, 1.5, 1.7, 1.8, 1.65, 1.75]\n",
    "\n",
    "print(list_berat_badan + list_tinggi_badan)\n",
    "print(list_berat_badan * list_tinggi_badan) #list tidak bisa dikalikan, akan menyebabkan ERROR"
   ]
  },
  {
   "cell_type": "code",
   "execution_count": null,
   "id": "yellow-kazakhstan",
   "metadata": {},
   "outputs": [],
   "source": [
    "# cara membuat numpy array dari list\n",
    "np_berat_badan = np.array(list_berat_badan)\n",
    "\n",
    "np_tinggi_badan = np.array(list_tinggi_badan)\n",
    "\n",
    "#cek type nya\n",
    "print(type(np_berat_badan)) \n",
    "print(type(np_tinggi_badan))"
   ]
  },
  {
   "cell_type": "code",
   "execution_count": null,
   "id": "lasting-merit",
   "metadata": {},
   "outputs": [],
   "source": [
    "#membuat numpy array dari awal\n",
    "np_berat_badan = np.array([45, 47, 50, 65, 71, 89, 90])\n",
    "\n",
    "np_tinggi_badan = np.array([1.7, 1.6, 1.5, 1.7, 1.8, 1.65, 1.75])\n",
    "\n",
    "print(len(berat_badan)) # mengecek panjang element\n",
    "print(len(tinggi_badan)) # mengecek panjang element"
   ]
  },
  {
   "cell_type": "code",
   "execution_count": null,
   "id": "defensive-speaker",
   "metadata": {},
   "outputs": [],
   "source": [
    "#Menghitung BMI\n",
    "\n",
    "BMI = np.round(np_berat_badan / np_tinggi_badan ** 2, 2) # cara menyederhanakan bilangan desimal\n",
    "BMI"
   ]
  },
  {
   "cell_type": "code",
   "execution_count": null,
   "id": "mineral-insight",
   "metadata": {},
   "outputs": [],
   "source": [
    "# Slicing BMI index 0 - 2\n",
    "BMI[0:3]"
   ]
  },
  {
   "cell_type": "code",
   "execution_count": null,
   "id": "usual-pittsburgh",
   "metadata": {},
   "outputs": [],
   "source": [
    "# bagaimana dengan numpy kalkulasi bekerja\n",
    "\n",
    "print(np_berat_badan + np_tinggi_badan) # menjumlahkan element-nya satu per satu (metrics calculation)\n",
    "\n",
    "print(np_berat_badan * np_tinggi_badan) # mengkalikan element-nya satu per satu (metrics calculation)"
   ]
  },
  {
   "cell_type": "code",
   "execution_count": null,
   "id": "ordinary-contributor",
   "metadata": {},
   "outputs": [],
   "source": [
    "# Slicing numpy array dengan menggunakan comparison operators\n",
    "\n",
    "normal_underweight_1 = BMI < 30 # hasilnya berupa boolean values\n",
    "normal_underweight_2 = BMI[BMI < 30] # hasilnya berupa nilai aslinya\n",
    "print(normal_underweight_1)\n",
    "print(normal_underweight_2)\n"
   ]
  },
  {
   "cell_type": "code",
   "execution_count": null,
   "id": "greatest-professional",
   "metadata": {},
   "outputs": [],
   "source": [
    "# membuat 2D numpy Array\n",
    "\n",
    "tinggi_berat = [[45, 1.7], [47, 1.6], [50, 1.5], [65, 1.7]]\n",
    "\n",
    "np_tinggi_berat = np.array(tinggi_berat)\n",
    "np_tinggi_berat"
   ]
  },
  {
   "cell_type": "code",
   "execution_count": null,
   "id": "saved-sight",
   "metadata": {},
   "outputs": [],
   "source": [
    "# dari np_tinggi_berat, Mencari nilai rata2 dari berat badan saja\n",
    "\n",
    "np.mean(np_tinggi_berat[:, 0])\n",
    "\n",
    "# dari np_tinggi_berat, Mencari nilai rata2 dari tinggi badan saja\n",
    "\n",
    "np.mean(np_tinggi_berat[:, 1])"
   ]
  },
  {
   "cell_type": "code",
   "execution_count": null,
   "id": "fallen-fleet",
   "metadata": {},
   "outputs": [],
   "source": [
    "# Merubah tinggi dari meter menjadi meter\n",
    "tinggi_cm = np_tinggi_berat[:, 1] * 100\n",
    "tinggi_cm\n"
   ]
  },
  {
   "cell_type": "code",
   "execution_count": null,
   "id": "prescription-millennium",
   "metadata": {},
   "outputs": [],
   "source": [
    "# menambahkan 2kg ke masing2 berat badan\n",
    "\n",
    "berat_2kg = np_tinggi_berat[:, 0] + 2\n",
    "berat_2kg"
   ]
  },
  {
   "cell_type": "code",
   "execution_count": 3,
   "id": "innocent-mileage",
   "metadata": {},
   "outputs": [
    {
     "data": {
      "text/plain": [
       "array([['Amerika Serikat', '21.44'],\n",
       "       ['Cina', '14.14'],\n",
       "       ['Jepang', '5.15'],\n",
       "       ['Jerman', '3.86'],\n",
       "       ['India', '2.94'],\n",
       "       ['Britania Raya', '2.83'],\n",
       "       ['Perancis', '2.71'],\n",
       "       ['Italia', '1.99'],\n",
       "       ['Brazil', '1.85'],\n",
       "       ['Kanada', '1.73']], dtype='<U32')"
      ]
     },
     "execution_count": 3,
     "metadata": {},
     "output_type": "execute_result"
    }
   ],
   "source": [
    "# 2D Numpy Array\n",
    "\n",
    "\n",
    "USA = 21.44 # Amerika Serikat\n",
    "CHN = 14.14 # Cina\n",
    "JPN = 5.15 # Jepang\n",
    "DE = 3.86 # Jerman\n",
    "IND = 2.94 # India\n",
    "GBR = 2.83 # Britania Raya\n",
    "FRA = 2.71 # Perancis\n",
    "ITA = 1.99 # Italia\n",
    "BRA = 1.85 # Brazil\n",
    "CAN = 1.73 # Kanada\n",
    "\n",
    "negara = np.array([[\"Amerika Serikat\", USA], [\"Cina\", CHN], [\"Jepang\", JPN], [\"Jerman\", DE], \n",
    "          [\"India\", IND], [\"Britania Raya\", GBR], [\"Perancis\", FRA], [\"Italia\", ITA], \n",
    "          [\"Brazil\", BRA], [\"Kanada\", CAN]])\n",
    "\n",
    "negara.shape #mengetahui bentuk dataset, rows dan columns\n",
    "negara"
   ]
  },
  {
   "cell_type": "code",
   "execution_count": 13,
   "id": "detailed-flower",
   "metadata": {},
   "outputs": [
    {
     "data": {
      "text/plain": [
       "5.863999999999999"
      ]
     },
     "execution_count": 13,
     "metadata": {},
     "output_type": "execute_result"
    }
   ],
   "source": [
    "GDP = negara[:, 1].astype(float)\n",
    "np.mean(GDP)"
   ]
  },
  {
   "cell_type": "code",
   "execution_count": null,
   "id": "allied-jurisdiction",
   "metadata": {},
   "outputs": [],
   "source": []
  },
  {
   "cell_type": "code",
   "execution_count": 125,
   "id": "civilian-technology",
   "metadata": {},
   "outputs": [
    {
     "data": {
      "text/plain": [
       "array(['Jerman', '3.86'], dtype='<U32')"
      ]
     },
     "execution_count": 125,
     "metadata": {},
     "output_type": "execute_result"
    }
   ],
   "source": [
    "# subset Jerman dan value nya\n",
    "negara[3, :]"
   ]
  },
  {
   "cell_type": "code",
   "execution_count": 126,
   "id": "excess-junior",
   "metadata": {},
   "outputs": [
    {
     "data": {
      "text/plain": [
       "array(['Perancis', '2.71'], dtype='<U32')"
      ]
     },
     "execution_count": 126,
     "metadata": {},
     "output_type": "execute_result"
    }
   ],
   "source": [
    "# subset Jerman dan value nya\n",
    "negara[6, :]"
   ]
  },
  {
   "cell_type": "code",
   "execution_count": 127,
   "id": "iraqi-prague",
   "metadata": {},
   "outputs": [
    {
     "data": {
      "text/plain": [
       "'Amerika Serikat'"
      ]
     },
     "execution_count": 127,
     "metadata": {},
     "output_type": "execute_result"
    }
   ],
   "source": [
    "# subset \"Amerika Serikat\"\n",
    "negara[0, 0]"
   ]
  },
  {
   "cell_type": "code",
   "execution_count": 52,
   "id": "satellite-change",
   "metadata": {},
   "outputs": [
    {
     "data": {
      "text/plain": [
       "'Jepang'"
      ]
     },
     "execution_count": 52,
     "metadata": {},
     "output_type": "execute_result"
    }
   ],
   "source": [
    "#Subset \"Jepang\"\n",
    "\n",
    "negara[2, 0]"
   ]
  },
  {
   "cell_type": "code",
   "execution_count": 128,
   "id": "super-neutral",
   "metadata": {},
   "outputs": [
    {
     "data": {
      "text/plain": [
       "'2.94'"
      ]
     },
     "execution_count": 128,
     "metadata": {},
     "output_type": "execute_result"
    }
   ],
   "source": [
    "# Subset GDP dari \"India\"\n",
    "negara[4, 1]"
   ]
  },
  {
   "cell_type": "code",
   "execution_count": 129,
   "id": "polar-indianapolis",
   "metadata": {},
   "outputs": [
    {
     "data": {
      "text/plain": [
       "array(['Amerika Serikat', 'Cina', 'Jepang', 'Jerman', 'India',\n",
       "       'Britania Raya', 'Perancis', 'Italia', 'Brazil', 'Kanada'],\n",
       "      dtype='<U32')"
      ]
     },
     "execution_count": 129,
     "metadata": {},
     "output_type": "execute_result"
    }
   ],
   "source": [
    "# Subset seluruh nama negaranya saja\n",
    "\n",
    "negara[:, 0]"
   ]
  },
  {
   "cell_type": "code",
   "execution_count": 90,
   "id": "elegant-indicator",
   "metadata": {},
   "outputs": [
    {
     "name": "stdout",
     "output_type": "stream",
     "text": [
      "[ 1  2  3  4  5  6  7  8  9 10]\n",
      "[11 12 13 14 15 16 17 18 19 20]\n"
     ]
    }
   ],
   "source": [
    "# Membuat numpy array dengan np.arrange()\n",
    "\n",
    "x = np.arange(1, 11) \n",
    "\n",
    "\n",
    "y = np.arange(11, 21)\n",
    "\n",
    "print(x)\n",
    "print(y)"
   ]
  },
  {
   "cell_type": "code",
   "execution_count": 92,
   "id": "lonely-nursing",
   "metadata": {},
   "outputs": [
    {
     "data": {
      "text/plain": [
       "array([ 2.75,  6.  ,  9.75, 14.  , 18.75, 24.  , 29.75, 36.  , 42.75,\n",
       "       50.  ])"
      ]
     },
     "execution_count": 92,
     "metadata": {},
     "output_type": "execute_result"
    }
   ],
   "source": [
    "# complex calculation dengan numpy. Ikuti rules PEMDAS\n",
    "\n",
    "\"\"\"PEMDAS\n",
    "\n",
    "P = Paranthesis ()\n",
    "E = Exponentiation **\n",
    "M = Multiplication *\n",
    "D = Division /\n",
    "A = Addition +\n",
    "S = Substraction -\n",
    "\"\"\"\n",
    "\n",
    "(y * x) / 2 ** 2"
   ]
  }
 ],
 "metadata": {
  "kernelspec": {
   "display_name": "Python 3",
   "language": "python",
   "name": "python3"
  },
  "language_info": {
   "codemirror_mode": {
    "name": "ipython",
    "version": 3
   },
   "file_extension": ".py",
   "mimetype": "text/x-python",
   "name": "python",
   "nbconvert_exporter": "python",
   "pygments_lexer": "ipython3",
   "version": "3.8.5"
  }
 },
 "nbformat": 4,
 "nbformat_minor": 5
}
