{
 "cells": [
  {
   "cell_type": "code",
   "execution_count": null,
   "metadata": {
    "id": "ZTw11WE_d2Pj"
   },
   "outputs": [],
   "source": [
    "import os\n",
    "\n",
    "# set up working directory di PC masing-masing\n",
    "\n",
    "os.chdir(\"C:\\\\Users\\\\Maria Ulfah\\\\Downloads\\\\dtsense_codes\") # hanya contoh"
   ]
  },
  {
   "cell_type": "code",
   "execution_count": null,
   "metadata": {
    "id": "2Mj5785Ld2Pn",
    "outputId": "662712b3-45b3-4af8-fdbd-a645f3f60f64"
   },
   "outputs": [
    {
     "data": {
      "text/plain": [
       "'C:\\\\Users\\\\Maria Ulfah\\\\Downloads\\\\dtsense_codes'"
      ]
     },
     "execution_count": 2,
     "metadata": {
      "tags": []
     },
     "output_type": "execute_result"
    }
   ],
   "source": [
    "# check up working directory\n",
    "\n",
    "os.getcwd()"
   ]
  },
  {
   "cell_type": "markdown",
   "metadata": {
    "id": "1e9AviIKd2Pq"
   },
   "source": [
    "# Project List"
   ]
  },
  {
   "cell_type": "code",
   "execution_count": null,
   "metadata": {
    "id": "E5gbFswUd2Pr"
   },
   "outputs": [],
   "source": [
    "# The GDP of the Top 10 Economies in the World (in trillion USD)\n",
    "\n",
    "USA = 21.44 # Amerika Serikat\n",
    "CHN = 14.14 # Cina\n",
    "JPN = 5.15 # Jepang\n",
    "DE = 3.86 # Jerman\n",
    "IND = 2.94 # India\n",
    "GBR = 2.83 # Britania Raya\n",
    "FRA = 2.71 # Perancis\n",
    "ITA = 1.99 # Italia\n",
    "BRA = 1.85 # Brazil\n",
    "CAN = 1.73 # Kanada\n"
   ]
  },
  {
   "cell_type": "code",
   "execution_count": null,
   "metadata": {
    "id": "oH3zTlGkd2Pt"
   },
   "outputs": [],
   "source": [
    "# Buatlah list dengan nama GDP_country_list menggunakan data di atas\n",
    "\n",
    "\n",
    "#kemudian print\n",
    "\n",
    "print()"
   ]
  },
  {
   "cell_type": "code",
   "execution_count": null,
   "metadata": {
    "id": "oHKYx2IXd2Pw"
   },
   "outputs": [],
   "source": [
    "# dari list GDP_country_list, jumlahkan GDP USA dan CHN\n",
    "\n",
    "great_power = \n",
    "\n",
    "#kemudian print\n",
    "\n",
    "\n",
    "print()"
   ]
  },
  {
   "cell_type": "code",
   "execution_count": null,
   "metadata": {
    "id": "O0wazEoMd2Py"
   },
   "outputs": [],
   "source": [
    "# Berikan label ke masing-masing data negara tersebut \n",
    "# menggunakan nama negara dalam Bahasa Indonesia\n",
    "# contohnya \"Amerika Serikat\", USA\n",
    "\n",
    "GDP_country = [[],]\n",
    "\n",
    "#kemudian print\n",
    "\n",
    "\n",
    "print()"
   ]
  },
  {
   "cell_type": "code",
   "execution_count": null,
   "metadata": {
    "id": "8kR3EEEZd2P1"
   },
   "outputs": [],
   "source": [
    "# dari GDP_country Subset data dan nama negara dari USA, CHN, dan JPN\n",
    "USA_CHN_JPN = \n",
    "\n",
    "#kemudian print\n",
    "\n",
    "\n",
    "print()"
   ]
  },
  {
   "cell_type": "code",
   "execution_count": null,
   "metadata": {
    "id": "fgPSKb5od2P4"
   },
   "outputs": [],
   "source": [
    "# Tambahan catatan:\n",
    "\n",
    "# a[-1]    # last item in the array\n",
    "# a[-2:]   # last two items in the array\n",
    "# a[:-2]   # everything except the last two items\n",
    "# Similarly, step may be a negative number:\n",
    "\n",
    "#a[::-1]    # all items in the array, reversed\n",
    "#a[1::-1]   # the first two items, reversed\n",
    "#a[:-3:-1]  # the last two items, reversed\n",
    "#a[-3::-1]  # everything except the last two items, reversed"
   ]
  },
  {
   "cell_type": "code",
   "execution_count": null,
   "metadata": {
    "id": "Xz-e-KzWd2P6"
   },
   "outputs": [],
   "source": [
    "# dari GDP_country Subset 5 negara dengan GDP terendah dari bawah\n",
    "five_least_GDP = \n",
    "\n",
    "#kemudian print\n",
    "\n",
    "\n",
    "print()"
   ]
  },
  {
   "cell_type": "code",
   "execution_count": null,
   "metadata": {
    "id": "Lz1RoGPmd2P8"
   },
   "outputs": [],
   "source": [
    "# dari list GDP_country_list, hitung selisih GDP USA dan DE\n",
    "USA_vs_DE = \n",
    "\n",
    "\n",
    "#kemudian print\n",
    "\n",
    "print()"
   ]
  },
  {
   "cell_type": "code",
   "execution_count": null,
   "metadata": {
    "id": "ktLNwHP2d2P-"
   },
   "outputs": [],
   "source": [
    "# dari list five_least_GDP, remove Brazil dan GDP-nya\n",
    "\n",
    "\n",
    "\n",
    "#kemudian print\n",
    "\n",
    "print()"
   ]
  },
  {
   "cell_type": "code",
   "execution_count": null,
   "metadata": {
    "id": "ed7niSJad2QA"
   },
   "outputs": [],
   "source": [
    "# dari list five_least_GDP, ganti Kanada menjadi Canada, dan 1.73 menjadi 1.75\n",
    "\n",
    "\n",
    "#kemudian print\n",
    "\n",
    "print()"
   ]
  },
  {
   "cell_type": "code",
   "execution_count": null,
   "metadata": {
    "id": "8jCIfBRvd2QC"
   },
   "outputs": [],
   "source": [
    "# tambahkan South Korea ke five_least_GDP, dengan nama list baru \n",
    "# South Korea, GDP 1.74 Tn USD\n",
    "\n",
    "five_least_GDP_new =\n",
    "\n",
    "\n",
    "#kemudian print\n",
    "\n",
    "print()"
   ]
  }
 ],
 "metadata": {
  "colab": {
   "name": "project_meeting_2_list.ipynb",
   "provenance": []
  },
  "kernelspec": {
   "display_name": "Python 3",
   "language": "python",
   "name": "python3"
  },
  "language_info": {
   "codemirror_mode": {
    "name": "ipython",
    "version": 3
   },
   "file_extension": ".py",
   "mimetype": "text/x-python",
   "name": "python",
   "nbconvert_exporter": "python",
   "pygments_lexer": "ipython3",
   "version": "3.8.5"
  }
 },
 "nbformat": 4,
 "nbformat_minor": 1
}
