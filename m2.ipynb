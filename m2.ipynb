{
 "cells": [
  {
   "cell_type": "markdown",
   "id": "sufficient-vehicle",
   "metadata": {},
   "source": [
    "# The Premium (Level 2 Model)\n",
    "\n",
    "In this model, we used the raw dataset from training.csv. The difference of this premium model from the Base Model is we using more features and do feature engineering for timestamp data (hour and weekday).\n",
    "\n",
    "The features we use for this \"Premium Model\":\n",
    "* 'ProductId', (dummy variable)\n",
    "* 'ChannelId', (dummy variable)\n",
    "* 'weekday',(cycling sin cos timestamp)\n",
    "* 'hour', (cycling sin cos timestamp)\n",
    "* 'PricingStrategy', (dummy variable)\n",
    "* 'ProviderId', (dummy variable)\n",
    "* Amount\n",
    "\n"
   ]
  },
  {
   "cell_type": "markdown",
   "id": "medium-resource",
   "metadata": {},
   "source": [
    "# Import Libraries"
   ]
  },
  {
   "cell_type": "code",
   "execution_count": 46,
   "id": "compatible-surrey",
   "metadata": {},
   "outputs": [],
   "source": [
    "import pandas as pd\n",
    "import seaborn as sns\n",
    "import matplotlib.pyplot as plt\n",
    "import numpy as np\n",
    "\n",
    "from sklearn.pipeline import Pipeline\n",
    "from sklearn.compose import ColumnTransformer\n",
    "from sklearn.preprocessing import OneHotEncoder, StandardScaler\n",
    "from sklearn.impute import SimpleImputer\n",
    "from sklearn.model_selection import train_test_split\n",
    "from sklearn.model_selection import GridSearchCV, RandomizedSearchCV\n",
    "from sklearn.model_selection import cross_val_predict, cross_val_score, cross_validate\n",
    "from sklearn.metrics import roc_curve, confusion_matrix, accuracy_score, recall_score, precision_score, matthews_corrcoef\n",
    "from sklearn.preprocessing import OneHotEncoder\n",
    "from sklearn import metrics, preprocessing, model_selection\n",
    "import xgboost as xgb\n",
    "from xgboost import XGBClassifier\n",
    "from sklearn.metrics import confusion_matrix\n",
    "from sklearn.metrics import plot_confusion_matrix\n",
    "from sklearn.metrics import classification_report\n",
    "from sklearn.ensemble import RandomForestClassifier\n",
    "from sklearn.tree import DecisionTreeClassifier\n",
    "from sklearn.neighbors import KNeighborsClassifier\n",
    "import warnings\n",
    "\n",
    "from sklearn.linear_model import LogisticRegression\n",
    "\n",
    "# Set random seed \n",
    "RSEED = 42"
   ]
  },
  {
   "cell_type": "markdown",
   "id": "excellent-claim",
   "metadata": {},
   "source": [
    "# Import raw training.csv dataset"
   ]
  },
  {
   "cell_type": "code",
   "execution_count": 47,
   "id": "modern-homework",
   "metadata": {},
   "outputs": [],
   "source": [
    "#import data\n",
    "\n",
    "df = pd.read_csv(\"data/training.csv\")"
   ]
  },
  {
   "cell_type": "code",
   "execution_count": 48,
   "id": "straight-parallel",
   "metadata": {},
   "outputs": [
    {
     "data": {
      "text/plain": [
       "(95662, 16)"
      ]
     },
     "execution_count": 48,
     "metadata": {},
     "output_type": "execute_result"
    }
   ],
   "source": [
    "df.shape"
   ]
  },
  {
   "cell_type": "markdown",
   "id": "competent-motorcycle",
   "metadata": {},
   "source": [
    "# Transforming Date & Create hour & weekday columns"
   ]
  },
  {
   "cell_type": "code",
   "execution_count": 49,
   "id": "difficult-investigation",
   "metadata": {},
   "outputs": [],
   "source": [
    "# to replace and remove value T and Z in column\n",
    "df[\"TransactionStartTime\"] = [c.replace(\"T\", \" \") for c in df[\"TransactionStartTime\"]] #replace T with blank space\n",
    "df[\"TransactionStartTime\"] = [c.replace(\"Z\", \"\") for c in df[\"TransactionStartTime\"]] # remove z"
   ]
  },
  {
   "cell_type": "code",
   "execution_count": 50,
   "id": "systematic-plymouth",
   "metadata": {},
   "outputs": [],
   "source": [
    "# Change \"TransactionStartTime\" into Datetime format \n",
    "df[\"TransactionStartTime\"] = pd.to_datetime(df[\"TransactionStartTime\"], infer_datetime_format = True)"
   ]
  },
  {
   "cell_type": "code",
   "execution_count": 51,
   "id": "demonstrated-brunei",
   "metadata": {},
   "outputs": [],
   "source": [
    "df[\"hour\"] = df[\"TransactionStartTime\"].dt.hour\n",
    "df[\"weekday\"] = df[\"TransactionStartTime\"].dt.weekday"
   ]
  },
  {
   "cell_type": "markdown",
   "id": "tamil-reflection",
   "metadata": {},
   "source": [
    "# Cycling Hour & Weekday (Sin Cos)"
   ]
  },
  {
   "cell_type": "code",
   "execution_count": 52,
   "id": "impossible-resistance",
   "metadata": {},
   "outputs": [],
   "source": [
    "df['hour_sin'] = np.sin(2 * np.pi * df['hour']/23.0)\n",
    "df['hour_cos'] = np.cos(2 * np.pi * df['hour']/23.0)"
   ]
  },
  {
   "cell_type": "code",
   "execution_count": 53,
   "id": "living-prototype",
   "metadata": {},
   "outputs": [
    {
     "data": {
      "image/png": "[encoded data removed]",
      "text/plain": [
       "<Figure size 432x288 with 1 Axes>"
      ]
     },
     "metadata": {
      "needs_background": "light"
     },
     "output_type": "display_data"
    }
   ],
   "source": [
    "ax = df.plot.scatter('hour_sin', 'hour_cos').set_aspect('equal')"
   ]
  },
  {
   "cell_type": "code",
   "execution_count": 54,
   "id": "lesser-missouri",
   "metadata": {},
   "outputs": [],
   "source": [
    "df['weekday_sin'] = np.sin(2 * np.pi * df['weekday']/6.0)\n",
    "df['weekday_cos'] = np.cos(2 * np.pi * df['weekday']/6.0)"
   ]
  },
  {
   "cell_type": "code",
   "execution_count": 55,
   "id": "monetary-offset",
   "metadata": {},
   "outputs": [
    {
     "data": {
      "image/png": "[encoded data removed]",
      "text/plain": [
       "<Figure size 432x288 with 1 Axes>"
      ]
     },
     "metadata": {
      "needs_background": "light"
     },
     "output_type": "display_data"
    }
   ],
   "source": [
    "ax = df.plot.scatter('weekday_sin', 'weekday_cos').set_aspect('equal')"
   ]
  },
  {
   "cell_type": "markdown",
   "id": "judicial-crest",
   "metadata": {},
   "source": [
    "# Get Dummies Variables"
   ]
  },
  {
   "cell_type": "code",
   "execution_count": 56,
   "id": "precise-american",
   "metadata": {},
   "outputs": [],
   "source": [
    "# import make_dummies function from python script\n",
    "from scripts.functions import make_dummies"
   ]
  },
  {
   "cell_type": "code",
   "execution_count": 57,
   "id": "retired-comedy",
   "metadata": {},
   "outputs": [],
   "source": [
    "# listing the features for One-hot-encoding\n",
    "\n",
    "ls = ['ProductId', 'ChannelId','PricingStrategy', 'ProviderId']\n",
    "\n",
    "# creating dummies, this function will automatically delete the original column\n",
    "df = make_dummies(df, ls)"
   ]
  },
  {
   "cell_type": "code",
   "execution_count": 58,
   "id": "metallic-business",
   "metadata": {},
   "outputs": [
    {
     "name": "stdout",
     "output_type": "stream",
     "text": [
      "<class 'pandas.core.frame.DataFrame'>\n",
      "RangeIndex: 95662 entries, 0 to 95661\n",
      "Data columns (total 51 columns):\n",
      " #   Column                Non-Null Count  Dtype         \n",
      "---  ------                --------------  -----         \n",
      " 0   TransactionId         95662 non-null  object        \n",
      " 1   BatchId               95662 non-null  object        \n",
      " 2   AccountId             95662 non-null  object        \n",
      " 3   SubscriptionId        95662 non-null  object        \n",
      " 4   CustomerId            95662 non-null  object        \n",
      " 5   CurrencyCode          95662 non-null  object        \n",
      " 6   CountryCode           95662 non-null  int64         \n",
      " 7   ProductCategory       95662 non-null  object        \n",
      " 8   Amount                95662 non-null  float64       \n",
      " 9   Value                 95662 non-null  int64         \n",
      " 10  TransactionStartTime  95662 non-null  datetime64[ns]\n",
      " 11  FraudResult           95662 non-null  int64         \n",
      " 12  hour                  95662 non-null  int64         \n",
      " 13  weekday               95662 non-null  int64         \n",
      " 14  hour_sin              95662 non-null  float64       \n",
      " 15  hour_cos              95662 non-null  float64       \n",
      " 16  weekday_sin           95662 non-null  float64       \n",
      " 17  weekday_cos           95662 non-null  float64       \n",
      " 18  ProductId_10          95662 non-null  uint8         \n",
      " 19  ProductId_11          95662 non-null  uint8         \n",
      " 20  ProductId_12          95662 non-null  uint8         \n",
      " 21  ProductId_13          95662 non-null  uint8         \n",
      " 22  ProductId_14          95662 non-null  uint8         \n",
      " 23  ProductId_15          95662 non-null  uint8         \n",
      " 24  ProductId_16          95662 non-null  uint8         \n",
      " 25  ProductId_19          95662 non-null  uint8         \n",
      " 26  ProductId_2           95662 non-null  uint8         \n",
      " 27  ProductId_20          95662 non-null  uint8         \n",
      " 28  ProductId_21          95662 non-null  uint8         \n",
      " 29  ProductId_22          95662 non-null  uint8         \n",
      " 30  ProductId_23          95662 non-null  uint8         \n",
      " 31  ProductId_24          95662 non-null  uint8         \n",
      " 32  ProductId_27          95662 non-null  uint8         \n",
      " 33  ProductId_3           95662 non-null  uint8         \n",
      " 34  ProductId_4           95662 non-null  uint8         \n",
      " 35  ProductId_5           95662 non-null  uint8         \n",
      " 36  ProductId_6           95662 non-null  uint8         \n",
      " 37  ProductId_7           95662 non-null  uint8         \n",
      " 38  ProductId_8           95662 non-null  uint8         \n",
      " 39  ProductId_9           95662 non-null  uint8         \n",
      " 40  ChannelId_2           95662 non-null  uint8         \n",
      " 41  ChannelId_3           95662 non-null  uint8         \n",
      " 42  ChannelId_5           95662 non-null  uint8         \n",
      " 43  PricingStrategy_1     95662 non-null  uint8         \n",
      " 44  PricingStrategy_2     95662 non-null  uint8         \n",
      " 45  PricingStrategy_4     95662 non-null  uint8         \n",
      " 46  ProviderId_2          95662 non-null  uint8         \n",
      " 47  ProviderId_3          95662 non-null  uint8         \n",
      " 48  ProviderId_4          95662 non-null  uint8         \n",
      " 49  ProviderId_5          95662 non-null  uint8         \n",
      " 50  ProviderId_6          95662 non-null  uint8         \n",
      "dtypes: datetime64[ns](1), float64(5), int64(5), object(7), uint8(33)\n",
      "memory usage: 16.1+ MB\n"
     ]
    }
   ],
   "source": [
    "df.info()"
   ]
  },
  {
   "cell_type": "markdown",
   "id": "inner-consent",
   "metadata": {},
   "source": [
    "# Features Selection Before Modeling"
   ]
  },
  {
   "cell_type": "code",
   "execution_count": 59,
   "id": "organizational-victim",
   "metadata": {},
   "outputs": [],
   "source": [
    "#drop unimportant features\n",
    "\n",
    "df.drop(['TransactionId', 'BatchId', 'AccountId', 'SubscriptionId', 'CustomerId',\n",
    "       'CurrencyCode', 'CountryCode', 'ProductCategory', 'Value', 'TransactionStartTime', \n",
    "        \"hour\", \"weekday\"], axis=1, inplace=True)"
   ]
  },
  {
   "cell_type": "code",
   "execution_count": 60,
   "id": "monthly-manhattan",
   "metadata": {},
   "outputs": [
    {
     "data": {
      "text/plain": [
       "Index(['Amount', 'hour_sin', 'hour_cos', 'weekday_sin', 'weekday_cos',\n",
       "       'ProductId_10', 'ProductId_11', 'ProductId_12', 'ProductId_13',\n",
       "       'ProductId_14', 'ProductId_15', 'ProductId_16', 'ProductId_19',\n",
       "       'ProductId_2', 'ProductId_20', 'ProductId_21', 'ProductId_22',\n",
       "       'ProductId_23', 'ProductId_24', 'ProductId_27', 'ProductId_3',\n",
       "       'ProductId_4', 'ProductId_5', 'ProductId_6', 'ProductId_7',\n",
       "       'ProductId_8', 'ProductId_9', 'ChannelId_2', 'ChannelId_3',\n",
       "       'ChannelId_5', 'PricingStrategy_1', 'PricingStrategy_2',\n",
       "       'PricingStrategy_4', 'ProviderId_2', 'ProviderId_3', 'ProviderId_4',\n",
       "       'ProviderId_5', 'ProviderId_6'],\n",
       "      dtype='object')"
      ]
     },
     "execution_count": 60,
     "metadata": {},
     "output_type": "execute_result"
    }
   ],
   "source": [
    "X = df.drop(\"FraudResult\", axis = 1)\n",
    "y = df.FraudResult\n",
    "\n",
    "X.columns"
   ]
  },
  {
   "cell_type": "code",
   "execution_count": 61,
   "id": "moved-gossip",
   "metadata": {},
   "outputs": [
    {
     "data": {
      "text/plain": [
       "(28699, 38)"
      ]
     },
     "execution_count": 61,
     "metadata": {},
     "output_type": "execute_result"
    }
   ],
   "source": [
    "# Split the data\n",
    "X_train, X_test, y_train, y_test = train_test_split(X, y, test_size = 0.3, random_state = 10, stratify = y)\n",
    "\n",
    "X_train.shape\n",
    "X_test.shape"
   ]
  },
  {
   "cell_type": "markdown",
   "id": "first-methodology",
   "metadata": {},
   "source": [
    "# M2 Modeling Using XGBoost"
   ]
  },
  {
   "cell_type": "code",
   "execution_count": 62,
   "id": "radical-cancellation",
   "metadata": {
    "jupyter": {
     "source_hidden": true
    }
   },
   "outputs": [
    {
     "name": "stdout",
     "output_type": "stream",
     "text": [
      "[23:30:57] WARNING: /Users/travis/build/dmlc/xgboost/src/learner.cc:1061: Starting in XGBoost 1.3.0, the default evaluation metric used with the objective 'binary:logistic' was changed from 'error' to 'logloss'. Explicitly set eval_metric if you'd like to restore the old behavior.\n",
      "              precision    recall  f1-score   support\n",
      "\n",
      "           0       1.00      1.00      1.00     28641\n",
      "           1       0.90      0.76      0.82        58\n",
      "\n",
      "    accuracy                           1.00     28699\n",
      "   macro avg       0.95      0.88      0.91     28699\n",
      "weighted avg       1.00      1.00      1.00     28699\n",
      "\n",
      "acc: 0.9993379560263423\n",
      "mcc: 0.8250351717738527\n",
      "Confusion matrix, without normalization\n",
      "[[28636     5]\n",
      " [   14    44]]\n"
     ]
    },
    {
     "data": {
      "image/png": "[encoded data removed]",
      "text/plain": [
       "<Figure size 720x720 with 2 Axes>"
      ]
     },
     "metadata": {
      "needs_background": "light"
     },
     "output_type": "display_data"
    }
   ],
   "source": [
    "xgb = XGBClassifier(use_label_encoder = False, n_estimators = 100)\n",
    "test = xgb.fit(X_train, y_train)\n",
    "\n",
    "# Make predictions on test set \n",
    "y_pred = xgb.predict(X_test)\n",
    "\n",
    "# Evaluate your model \n",
    "cm = confusion_matrix(y_test, y_pred)\n",
    "\n",
    "#classification Report\n",
    "\n",
    "report = classification_report(y_test, y_pred)\n",
    "print(report)\n",
    "\n",
    "accuracy = accuracy_score(y_test, y_pred)\n",
    "print(f\"acc: {accuracy}\")\n",
    "\n",
    "mcc = matthews_corrcoef(y_test, y_pred)\n",
    "print(f\"mcc: {mcc}\")\n",
    "\n",
    "\n",
    "#import function from python scripts\n",
    "from scripts.confusion_matrix import plot_confusion_matrix \n",
    "\n",
    "plot_confusion_matrix(cm, classes = ['not-fraud', 'fraud'], cmap='YlGnBu', title = \"Premium Model-XGBoost: Fraud Detection\")\n",
    "#sns.heatmap(cm, cmap='YlGnBu', annot=True, fmt='d', linewidths=.5);"
   ]
  },
  {
   "cell_type": "markdown",
   "id": "smooth-disposal",
   "metadata": {},
   "source": [
    "# M2 Modeling Using KNN"
   ]
  },
  {
   "cell_type": "code",
   "execution_count": 42,
   "id": "lovely-victim",
   "metadata": {
    "jupyter": {
     "source_hidden": true
    }
   },
   "outputs": [
    {
     "name": "stdout",
     "output_type": "stream",
     "text": [
      "              precision    recall  f1-score   support\n",
      "\n",
      "           0       1.00      1.00      1.00     28641\n",
      "           1       0.78      0.74      0.76        58\n",
      "\n",
      "    accuracy                           1.00     28699\n",
      "   macro avg       0.89      0.87      0.88     28699\n",
      "weighted avg       1.00      1.00      1.00     28699\n",
      "\n",
      "acc: 0.9990592006690129\n",
      "mcc: 0.7608601972977721\n",
      "Confusion matrix, without normalization\n",
      "[[28629    12]\n",
      " [   15    43]]\n"
     ]
    },
    {
     "data": {
      "image/png": "[encoded data removed]",
      "text/plain": [
       "<Figure size 720x720 with 2 Axes>"
      ]
     },
     "metadata": {
      "needs_background": "light"
     },
     "output_type": "display_data"
    }
   ],
   "source": [
    "dtc = DecisionTreeClassifier(random_state=RSEED)\n",
    "\n",
    "dtc.fit(X_train, y_train)\n",
    "y_pred = dtc.predict(X_test)\n",
    "\n",
    "# Evaluate your model \n",
    "cm = confusion_matrix(y_test, y_pred)\n",
    "\n",
    "#classification Report\n",
    "report = classification_report(y_test, y_pred)\n",
    "print(report)\n",
    "\n",
    "accuracy = accuracy_score(y_test, y_pred)\n",
    "print(f\"acc: {accuracy}\")\n",
    "\n",
    "mcc = matthews_corrcoef(y_test, y_pred)\n",
    "print(f\"mcc: {mcc}\")\n",
    "\n",
    "\n",
    "from scripts.confusion_matrix import plot_confusion_matrix #import function from script\n",
    "\n",
    "plot_confusion_matrix(cm, classes = ['not-fraud', 'fraud'], title = \"Premium Model-DecisionTree: Fraud Detection\");"
   ]
  }
 ],
 "metadata": {
  "kernelspec": {
   "display_name": "Python 3",
   "language": "python",
   "name": "python3"
  },
  "language_info": {
   "codemirror_mode": {
    "name": "ipython",
    "version": 3
   },
   "file_extension": ".py",
   "mimetype": "text/x-python",
   "name": "python",
   "nbconvert_exporter": "python",
   "pygments_lexer": "ipython3",
   "version": "3.8.5"
  }
 },
 "nbformat": 4,
 "nbformat_minor": 5
}
