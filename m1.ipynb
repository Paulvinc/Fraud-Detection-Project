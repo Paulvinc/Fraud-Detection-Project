{
 "cells": [
  {
   "cell_type": "markdown",
   "id": "swedish-russia",
   "metadata": {},
   "source": [
    "# The Base Model\n",
    "\n",
    "In this model, we use the raw dataset from training.csv file, without any feature engineering (except for creating dummy variables for some features (ProviderId and PricingStrategy), as it's necessary step for modeling).\n",
    "\n",
    "The Number of features we used for this base model is limited, only:\n",
    "* ProviderId\n",
    "* PricingStrategy\n",
    "* Amount"
   ]
  },
  {
   "cell_type": "markdown",
   "id": "ideal-secretariat",
   "metadata": {},
   "source": [
    "# Import some Libraries"
   ]
  },
  {
   "cell_type": "code",
   "execution_count": 60,
   "id": "static-hampshire",
   "metadata": {
    "jupyter": {
     "source_hidden": true
    }
   },
   "outputs": [],
   "source": [
    "import pandas as pd\n",
    "import seaborn as sns\n",
    "import matplotlib.pyplot as plt\n",
    "import numpy as np\n",
    "\n",
    "from sklearn.pipeline import Pipeline\n",
    "from sklearn.compose import ColumnTransformer\n",
    "from sklearn.preprocessing import OneHotEncoder, StandardScaler, MinMaxScaler\n",
    "from sklearn.impute import SimpleImputer\n",
    "from sklearn.model_selection import train_test_split\n",
    "from sklearn.model_selection import GridSearchCV, RandomizedSearchCV\n",
    "from sklearn.model_selection import cross_val_predict, cross_val_score, cross_validate\n",
    "from sklearn.metrics import roc_curve, confusion_matrix, accuracy_score, recall_score, precision_score, matthews_corrcoef\n",
    "from sklearn.preprocessing import OneHotEncoder\n",
    "from sklearn import metrics, preprocessing, model_selection\n",
    "import xgboost as xgb\n",
    "from xgboost import XGBClassifier\n",
    "from sklearn.metrics import confusion_matrix\n",
    "from sklearn.metrics import plot_confusion_matrix\n",
    "from sklearn.metrics import classification_report\n",
    "from sklearn.ensemble import RandomForestClassifier\n",
    "from sklearn.tree import DecisionTreeClassifier\n",
    "from sklearn.neighbors import KNeighborsClassifier\n",
    "from sklearn.svm import SVC\n",
    "import warnings\n",
    "\n",
    "from sklearn.linear_model import LogisticRegression\n",
    "\n",
    "# Set random seed \n",
    "RSEED = 42"
   ]
  },
  {
   "cell_type": "markdown",
   "id": "competent-strategy",
   "metadata": {},
   "source": [
    "# Import the raw data training.csv"
   ]
  },
  {
   "cell_type": "code",
   "execution_count": 61,
   "id": "latin-murray",
   "metadata": {},
   "outputs": [
    {
     "data": {
      "text/plain": [
       "(95662, 16)"
      ]
     },
     "execution_count": 61,
     "metadata": {},
     "output_type": "execute_result"
    }
   ],
   "source": [
    "#import data\n",
    "\n",
    "df = pd.read_csv(\"data/training.csv\")\n",
    "df.shape"
   ]
  },
  {
   "cell_type": "markdown",
   "id": "coral-constitutional",
   "metadata": {},
   "source": [
    "# Creating Dummy Variables"
   ]
  },
  {
   "cell_type": "code",
   "execution_count": 62,
   "id": "introductory-juvenile",
   "metadata": {},
   "outputs": [],
   "source": [
    "# import make_dummies function from python script\n",
    "from scripts.functions import make_dummies"
   ]
  },
  {
   "cell_type": "code",
   "execution_count": 63,
   "id": "reserved-guard",
   "metadata": {},
   "outputs": [],
   "source": [
    "# listing the features for One-hot-encoding\n",
    "\n",
    "ls = ['PricingStrategy', 'ProviderId']\n",
    "\n",
    "# creating dummies, this function will automatically delete the original column\n",
    "df = make_dummies(df, ls)"
   ]
  },
  {
   "cell_type": "code",
   "execution_count": 64,
   "id": "capable-gathering",
   "metadata": {
    "collapsed": true,
    "jupyter": {
     "outputs_hidden": true
    }
   },
   "outputs": [
    {
     "name": "stdout",
     "output_type": "stream",
     "text": [
      "<class 'pandas.core.frame.DataFrame'>\n",
      "RangeIndex: 95662 entries, 0 to 95661\n",
      "Data columns (total 22 columns):\n",
      " #   Column                Non-Null Count  Dtype  \n",
      "---  ------                --------------  -----  \n",
      " 0   TransactionId         95662 non-null  object \n",
      " 1   BatchId               95662 non-null  object \n",
      " 2   AccountId             95662 non-null  object \n",
      " 3   SubscriptionId        95662 non-null  object \n",
      " 4   CustomerId            95662 non-null  object \n",
      " 5   CurrencyCode          95662 non-null  object \n",
      " 6   CountryCode           95662 non-null  int64  \n",
      " 7   ProductId             95662 non-null  object \n",
      " 8   ProductCategory       95662 non-null  object \n",
      " 9   ChannelId             95662 non-null  object \n",
      " 10  Amount                95662 non-null  float64\n",
      " 11  Value                 95662 non-null  int64  \n",
      " 12  TransactionStartTime  95662 non-null  object \n",
      " 13  FraudResult           95662 non-null  int64  \n",
      " 14  PricingStrategy_1     95662 non-null  uint8  \n",
      " 15  PricingStrategy_2     95662 non-null  uint8  \n",
      " 16  PricingStrategy_4     95662 non-null  uint8  \n",
      " 17  ProviderId_2          95662 non-null  uint8  \n",
      " 18  ProviderId_3          95662 non-null  uint8  \n",
      " 19  ProviderId_4          95662 non-null  uint8  \n",
      " 20  ProviderId_5          95662 non-null  uint8  \n",
      " 21  ProviderId_6          95662 non-null  uint8  \n",
      "dtypes: float64(1), int64(3), object(10), uint8(8)\n",
      "memory usage: 10.9+ MB\n"
     ]
    }
   ],
   "source": [
    "df.info()"
   ]
  },
  {
   "cell_type": "markdown",
   "id": "resistant-numbers",
   "metadata": {},
   "source": [
    "# Features Selection"
   ]
  },
  {
   "cell_type": "code",
   "execution_count": 69,
   "id": "measured-snapshot",
   "metadata": {},
   "outputs": [],
   "source": [
    "# import function from script\n",
    "from scripts.functions import remove_columns"
   ]
  },
  {
   "cell_type": "code",
   "execution_count": 70,
   "id": "acoustic-intensity",
   "metadata": {},
   "outputs": [
    {
     "name": "stdout",
     "output_type": "stream",
     "text": [
      "<class 'pandas.core.frame.DataFrame'>\n",
      "RangeIndex: 95662 entries, 0 to 95661\n",
      "Data columns (total 10 columns):\n",
      " #   Column             Non-Null Count  Dtype  \n",
      "---  ------             --------------  -----  \n",
      " 0   Amount             95662 non-null  float64\n",
      " 1   FraudResult        95662 non-null  int64  \n",
      " 2   PricingStrategy_1  95662 non-null  uint8  \n",
      " 3   PricingStrategy_2  95662 non-null  uint8  \n",
      " 4   PricingStrategy_4  95662 non-null  uint8  \n",
      " 5   ProviderId_2       95662 non-null  uint8  \n",
      " 6   ProviderId_3       95662 non-null  uint8  \n",
      " 7   ProviderId_4       95662 non-null  uint8  \n",
      " 8   ProviderId_5       95662 non-null  uint8  \n",
      " 9   ProviderId_6       95662 non-null  uint8  \n",
      "dtypes: float64(1), int64(1), uint8(8)\n",
      "memory usage: 2.2 MB\n"
     ]
    }
   ],
   "source": [
    "drop_list = ['TransactionId', 'BatchId', 'AccountId', 'SubscriptionId', 'CustomerId', \"ChannelId\",\n",
    "           'CurrencyCode', 'CountryCode', 'ProductId', 'ProductCategory', 'Value', \n",
    "           'TransactionStartTime']\n",
    "df = remove_columns(df, drop_list)\n",
    "df.info()"
   ]
  },
  {
   "cell_type": "markdown",
   "id": "characteristic-socket",
   "metadata": {},
   "source": [
    "# Spliting X and Y sets"
   ]
  },
  {
   "cell_type": "code",
   "execution_count": 71,
   "id": "extra-spanish",
   "metadata": {},
   "outputs": [],
   "source": [
    "X_w = df.drop(\"FraudResult\", axis = 1)\n",
    "y_w= df.FraudResult"
   ]
  },
  {
   "cell_type": "code",
   "execution_count": 72,
   "id": "stuck-relaxation",
   "metadata": {},
   "outputs": [],
   "source": [
    "# Split the data\n",
    "X_trainW, X_testW, y_trainW, y_testW = train_test_split(X_w, y_w, test_size = 0.3, random_state = 10, stratify = y_w)"
   ]
  },
  {
   "cell_type": "code",
   "execution_count": 73,
   "id": "integrated-phone",
   "metadata": {},
   "outputs": [
    {
     "data": {
      "text/plain": [
       "(66963, 9)"
      ]
     },
     "metadata": {},
     "output_type": "display_data"
    },
    {
     "data": {
      "text/plain": [
       "(28699, 9)"
      ]
     },
     "metadata": {},
     "output_type": "display_data"
    }
   ],
   "source": [
    "display(X_trainW.shape)\n",
    "display(X_testW.shape)"
   ]
  },
  {
   "cell_type": "markdown",
   "id": "special-folder",
   "metadata": {},
   "source": [
    "# M1 KNN"
   ]
  },
  {
   "cell_type": "code",
   "execution_count": 81,
   "id": "listed-physics",
   "metadata": {
    "jupyter": {
     "source_hidden": true
    }
   },
   "outputs": [
    {
     "name": "stdout",
     "output_type": "stream",
     "text": [
      "              precision    recall  f1-score   support\n",
      "\n",
      "           0       1.00      1.00      1.00     28641\n",
      "           1       0.97      0.64      0.77        58\n",
      "\n",
      "    accuracy                           1.00     28699\n",
      "   macro avg       0.99      0.82      0.89     28699\n",
      "weighted avg       1.00      1.00      1.00     28699\n",
      "\n",
      "acc: 0.9992334227673438\n",
      "mcc: 0.7878083466990133\n",
      "Confusion matrix, without normalization\n",
      "[[28640     1]\n",
      " [   21    37]]\n"
     ]
    },
    {
     "data": {
      "image/png": "[encoded data removed]",
      "text/plain": [
       "<Figure size 720x720 with 2 Axes>"
      ]
     },
     "metadata": {
      "needs_background": "light"
     },
     "output_type": "display_data"
    }
   ],
   "source": [
    "knn = KNeighborsClassifier(n_neighbors=5, metric=\"euclidean\")\n",
    "\n",
    "knn_model = knn.fit(X_trainW, y_trainW)\n",
    "y_pred = knn.predict(X_testW)\n",
    "\n",
    "# Evaluate your model \n",
    "cm = confusion_matrix(y_testW, y_pred)\n",
    "\n",
    "#classification Report\n",
    "report = classification_report(y_testW, y_pred)\n",
    "print(report)\n",
    "\n",
    "\n",
    "accuracy = accuracy_score(y_testW, y_pred)\n",
    "print(f\"acc: {accuracy}\")\n",
    "\n",
    "#MCC score\n",
    "mcc = matthews_corrcoef(y_testW, y_pred)\n",
    "print(f\"mcc: {mcc}\")\n",
    "\n",
    "\n",
    "from scripts.confusion_matrix import plot_confusion_matrix #import function from script\n",
    "plot_confusion_matrix(cm, classes = ['not-fraud', 'fraud'], cmap='YlGnBu', title = \"Base Model-KNN: Fraud Detection\");"
   ]
  },
  {
   "cell_type": "markdown",
   "id": "deadly-deviation",
   "metadata": {},
   "source": [
    "# M1 Random Forest Base Models"
   ]
  },
  {
   "cell_type": "code",
   "execution_count": 76,
   "id": "hispanic-major",
   "metadata": {
    "jupyter": {
     "source_hidden": true
    }
   },
   "outputs": [
    {
     "name": "stdout",
     "output_type": "stream",
     "text": [
      "              precision    recall  f1-score   support\n",
      "\n",
      "           0       1.00      1.00      1.00     28641\n",
      "           1       0.87      0.69      0.77        58\n",
      "\n",
      "    accuracy                           1.00     28699\n",
      "   macro avg       0.93      0.84      0.88     28699\n",
      "weighted avg       1.00      1.00      1.00     28699\n",
      "\n",
      "acc: 0.9991637339280114\n",
      "mcc: 0.7740057303164004\n",
      "Confusion matrix, without normalization\n",
      "[[28635     6]\n",
      " [   18    40]]\n"
     ]
    },
    {
     "data": {
      "image/png": "[encoded data removed]",
      "text/plain": [
       "<Figure size 720x720 with 2 Axes>"
      ]
     },
     "metadata": {
      "needs_background": "light"
     },
     "output_type": "display_data"
    }
   ],
   "source": [
    "rdm = RandomForestClassifier() \n",
    "\n",
    "rdm_model = rdm.fit(X_trainW, y_trainW)\n",
    "y_pred = rdm.predict(X_testW)\n",
    "\n",
    "# Evaluate your model \n",
    "cm = confusion_matrix(y_testW, y_pred)\n",
    "\n",
    "#classification Report\n",
    "\n",
    "report = classification_report(y_testW, y_pred)\n",
    "print(report)\n",
    "\n",
    "accuracy = accuracy_score(y_testW, y_pred)\n",
    "print(f\"acc: {accuracy}\")\n",
    "\n",
    "#MCC score\n",
    "mcc = matthews_corrcoef(y_testW, y_pred)\n",
    "print(f\"mcc: {mcc}\")\n",
    "\n",
    "from scripts.confusion_matrix import plot_confusion_matrix #import function from script\n",
    "plot_confusion_matrix(cm, classes = ['not-fraud', 'fraud'], cmap='YlGnBu', title = \"Base Model-Random Forest: Fraud Detection\");\n",
    "\n",
    "warnings.filterwarnings('ignore')"
   ]
  },
  {
   "cell_type": "markdown",
   "id": "affecting-ancient",
   "metadata": {},
   "source": [
    "# M1 XGBoost Base Models"
   ]
  },
  {
   "cell_type": "code",
   "execution_count": 77,
   "id": "dietary-anniversary",
   "metadata": {
    "jupyter": {
     "source_hidden": true
    }
   },
   "outputs": [
    {
     "name": "stdout",
     "output_type": "stream",
     "text": [
      "[21:48:18] WARNING: /Users/travis/build/dmlc/xgboost/src/learner.cc:1061: Starting in XGBoost 1.3.0, the default evaluation metric used with the objective 'binary:logistic' was changed from 'error' to 'logloss'. Explicitly set eval_metric if you'd like to restore the old behavior.\n",
      "              precision    recall  f1-score   support\n",
      "\n",
      "           0       1.00      1.00      1.00     28641\n",
      "           1       0.91      0.67      0.77        58\n",
      "\n",
      "    accuracy                           1.00     28699\n",
      "   macro avg       0.95      0.84      0.89     28699\n",
      "weighted avg       1.00      1.00      1.00     28699\n",
      "\n",
      "acc: 0.9991985783476777\n",
      "mcc: 0.7805711124608172\n",
      "Confusion matrix, without normalization\n",
      "[[28637     4]\n",
      " [   19    39]]\n"
     ]
    },
    {
     "data": {
      "image/png": "[encoded data removed]",
      "text/plain": [
       "<Figure size 720x720 with 2 Axes>"
      ]
     },
     "metadata": {
      "needs_background": "light"
     },
     "output_type": "display_data"
    }
   ],
   "source": [
    "#XGBoost Model\n",
    "\n",
    "xgb = XGBClassifier()\n",
    "\n",
    "test = xgb.fit(X_trainW, y_trainW)\n",
    "\n",
    "# Make predictions on test set \n",
    "y_pred = xgb.predict(X_testW)\n",
    "\n",
    "# Evaluate your model \n",
    "cm = confusion_matrix(y_testW, y_pred)\n",
    "\n",
    "#classification Report\n",
    "\n",
    "report = classification_report(y_testW, y_pred)\n",
    "print(report)\n",
    "\n",
    "accuracy = accuracy_score(y_testW, y_pred)\n",
    "print(f\"acc: {accuracy}\")\n",
    "\n",
    "#MCC score\n",
    "mcc = matthews_corrcoef(y_testW, y_pred)\n",
    "print(f\"mcc: {mcc}\")\n",
    "\n",
    "\n",
    "#import function from python scripts\n",
    "from scripts.confusion_matrix import plot_confusion_matrix \n",
    "\n",
    "plot_confusion_matrix(cm, classes = ['not-fraud', 'fraud'], cmap='YlGnBu', title = \"Base Model-XGBoost: Fraud Detection\")\n",
    "#sns.heatmap(cm, cmap='YlGnBu', annot=True, fmt='d', linewidths=.5);"
   ]
  }
 ],
 "metadata": {
  "kernelspec": {
   "display_name": "Python 3",
   "language": "python",
   "name": "python3"
  },
  "language_info": {
   "codemirror_mode": {
    "name": "ipython",
    "version": 3
   },
   "file_extension": ".py",
   "mimetype": "text/x-python",
   "name": "python",
   "nbconvert_exporter": "python",
   "pygments_lexer": "ipython3",
   "version": "3.8.5"
  }
 },
 "nbformat": 4,
 "nbformat_minor": 5
}
