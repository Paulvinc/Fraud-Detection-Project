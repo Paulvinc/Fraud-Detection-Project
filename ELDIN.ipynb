{
 "cells": [
  {
   "cell_type": "code",
   "execution_count": 40,
   "id": "previous-idaho",
   "metadata": {},
   "outputs": [],
   "source": [
    "import pandas as pd\n",
    "import numpy as np\n",
    "import seaborn as sns\n",
    "\n",
    "from datetime import datetime\n",
    "from sklearn.model_selection import train_test_split\n",
    "from sklearn.linear_model import LogisticRegression\n",
    "from sklearn.pipeline import Pipeline\n",
    "from sklearn.compose import ColumnTransformer\n",
    "from sklearn.preprocessing import OneHotEncoder, StandardScaler\n",
    "from sklearn.metrics import accuracy_score\n",
    "from sklearn.metrics import confusion_matrix "
   ]
  },
  {
   "cell_type": "code",
   "execution_count": 2,
   "id": "related-arthritis",
   "metadata": {},
   "outputs": [
    {
     "output_type": "execute_result",
     "data": {
      "text/plain": [
       "(95662, 16)"
      ]
     },
     "metadata": {},
     "execution_count": 2
    }
   ],
   "source": [
    "df = pd.read_csv('data/training.csv')\n",
    "df.shape"
   ]
  },
  {
   "cell_type": "code",
   "execution_count": 3,
   "metadata": {},
   "outputs": [
    {
     "output_type": "execute_result",
     "data": {
      "text/plain": [
       "                    TransactionId         BatchId       AccountId  \\\n",
       "FraudResult                                                         \n",
       "0                 TransactionId_1     BatchId_100     AccountId_1   \n",
       "1            TransactionId_100029  BatchId_101131  AccountId_1178   \n",
       "\n",
       "                  SubscriptionId       CustomerId CurrencyCode  CountryCode  \\\n",
       "FraudResult                                                                   \n",
       "0              SubscriptionId_10     CustomerId_1          UGX          256   \n",
       "1            SubscriptionId_1100  CustomerId_1122          UGX          256   \n",
       "\n",
       "               ProviderId     ProductId ProductCategory    ChannelId  \\\n",
       "FraudResult                                                            \n",
       "0            ProviderId_1   ProductId_1         airtime  ChannelId_1   \n",
       "1            ProviderId_1  ProductId_10         airtime  ChannelId_1   \n",
       "\n",
       "                Amount  Value  TransactionStartTime  PricingStrategy  \n",
       "FraudResult                                                           \n",
       "0           -1000000.0      2  2018-11-15T02:18:49Z                0  \n",
       "1            -900000.0    500  2018-11-15T08:04:51Z                0  "
      ],
      "text/html": "<div>\n<style scoped>\n    .dataframe tbody tr th:only-of-type {\n        vertical-align: middle;\n    }\n\n    .dataframe tbody tr th {\n        vertical-align: top;\n    }\n\n    .dataframe thead th {\n        text-align: right;\n    }\n</style>\n<table border=\"1\" class=\"dataframe\">\n  <thead>\n    <tr style=\"text-align: right;\">\n      <th></th>\n      <th>TransactionId</th>\n      <th>BatchId</th>\n      <th>AccountId</th>\n      <th>SubscriptionId</th>\n      <th>CustomerId</th>\n      <th>CurrencyCode</th>\n      <th>CountryCode</th>\n      <th>ProviderId</th>\n      <th>ProductId</th>\n      <th>ProductCategory</th>\n      <th>ChannelId</th>\n      <th>Amount</th>\n      <th>Value</th>\n      <th>TransactionStartTime</th>\n      <th>PricingStrategy</th>\n    </tr>\n    <tr>\n      <th>FraudResult</th>\n      <th></th>\n      <th></th>\n      <th></th>\n      <th></th>\n      <th></th>\n      <th></th>\n      <th></th>\n      <th></th>\n      <th></th>\n      <th></th>\n      <th></th>\n      <th></th>\n      <th></th>\n      <th></th>\n      <th></th>\n    </tr>\n  </thead>\n  <tbody>\n    <tr>\n      <th>0</th>\n      <td>TransactionId_1</td>\n      <td>BatchId_100</td>\n      <td>AccountId_1</td>\n      <td>SubscriptionId_10</td>\n      <td>CustomerId_1</td>\n      <td>UGX</td>\n      <td>256</td>\n      <td>ProviderId_1</td>\n      <td>ProductId_1</td>\n      <td>airtime</td>\n      <td>ChannelId_1</td>\n      <td>-1000000.0</td>\n      <td>2</td>\n      <td>2018-11-15T02:18:49Z</td>\n      <td>0</td>\n    </tr>\n    <tr>\n      <th>1</th>\n      <td>TransactionId_100029</td>\n      <td>BatchId_101131</td>\n      <td>AccountId_1178</td>\n      <td>SubscriptionId_1100</td>\n      <td>CustomerId_1122</td>\n      <td>UGX</td>\n      <td>256</td>\n      <td>ProviderId_1</td>\n      <td>ProductId_10</td>\n      <td>airtime</td>\n      <td>ChannelId_1</td>\n      <td>-900000.0</td>\n      <td>500</td>\n      <td>2018-11-15T08:04:51Z</td>\n      <td>0</td>\n    </tr>\n  </tbody>\n</table>\n</div>"
     },
     "metadata": {},
     "execution_count": 3
    }
   ],
   "source": [
    "df.groupby('FraudResult').min()"
   ]
  },
  {
   "cell_type": "code",
   "execution_count": 4,
   "id": "finnish-basin",
   "metadata": {},
   "outputs": [
    {
     "output_type": "execute_result",
     "data": {
      "text/plain": [
       "         TransactionId         BatchId       AccountId       SubscriptionId  \\\n",
       "0  TransactionId_76871   BatchId_36123  AccountId_3957   SubscriptionId_887   \n",
       "1  TransactionId_73770   BatchId_15642  AccountId_4841  SubscriptionId_3829   \n",
       "2  TransactionId_26203   BatchId_53941  AccountId_4229   SubscriptionId_222   \n",
       "3    TransactionId_380  BatchId_102363   AccountId_648  SubscriptionId_2185   \n",
       "4  TransactionId_28195   BatchId_38780  AccountId_4841  SubscriptionId_3829   \n",
       "\n",
       "        CustomerId CurrencyCode  CountryCode    ProviderId     ProductId  \\\n",
       "0  CustomerId_4406          UGX          256  ProviderId_6  ProductId_10   \n",
       "1  CustomerId_4406          UGX          256  ProviderId_4   ProductId_6   \n",
       "2  CustomerId_4683          UGX          256  ProviderId_6   ProductId_1   \n",
       "3   CustomerId_988          UGX          256  ProviderId_1  ProductId_21   \n",
       "4   CustomerId_988          UGX          256  ProviderId_4   ProductId_6   \n",
       "\n",
       "      ProductCategory    ChannelId   Amount  Value  TransactionStartTime  \\\n",
       "0             airtime  ChannelId_3   1000.0   1000  2018-11-15T02:18:49Z   \n",
       "1  financial_services  ChannelId_2    -20.0     20  2018-11-15T02:19:08Z   \n",
       "2             airtime  ChannelId_3    500.0    500  2018-11-15T02:44:21Z   \n",
       "3        utility_bill  ChannelId_3  20000.0  21800  2018-11-15T03:32:55Z   \n",
       "4  financial_services  ChannelId_2   -644.0    644  2018-11-15T03:34:21Z   \n",
       "\n",
       "   PricingStrategy  FraudResult  \n",
       "0                2            0  \n",
       "1                2            0  \n",
       "2                2            0  \n",
       "3                2            0  \n",
       "4                2            0  "
      ],
      "text/html": "<div>\n<style scoped>\n    .dataframe tbody tr th:only-of-type {\n        vertical-align: middle;\n    }\n\n    .dataframe tbody tr th {\n        vertical-align: top;\n    }\n\n    .dataframe thead th {\n        text-align: right;\n    }\n</style>\n<table border=\"1\" class=\"dataframe\">\n  <thead>\n    <tr style=\"text-align: right;\">\n      <th></th>\n      <th>TransactionId</th>\n      <th>BatchId</th>\n      <th>AccountId</th>\n      <th>SubscriptionId</th>\n      <th>CustomerId</th>\n      <th>CurrencyCode</th>\n      <th>CountryCode</th>\n      <th>ProviderId</th>\n      <th>ProductId</th>\n      <th>ProductCategory</th>\n      <th>ChannelId</th>\n      <th>Amount</th>\n      <th>Value</th>\n      <th>TransactionStartTime</th>\n      <th>PricingStrategy</th>\n      <th>FraudResult</th>\n    </tr>\n  </thead>\n  <tbody>\n    <tr>\n      <th>0</th>\n      <td>TransactionId_76871</td>\n      <td>BatchId_36123</td>\n      <td>AccountId_3957</td>\n      <td>SubscriptionId_887</td>\n      <td>CustomerId_4406</td>\n      <td>UGX</td>\n      <td>256</td>\n      <td>ProviderId_6</td>\n      <td>ProductId_10</td>\n      <td>airtime</td>\n      <td>ChannelId_3</td>\n      <td>1000.0</td>\n      <td>1000</td>\n      <td>2018-11-15T02:18:49Z</td>\n      <td>2</td>\n      <td>0</td>\n    </tr>\n    <tr>\n      <th>1</th>\n      <td>TransactionId_73770</td>\n      <td>BatchId_15642</td>\n      <td>AccountId_4841</td>\n      <td>SubscriptionId_3829</td>\n      <td>CustomerId_4406</td>\n      <td>UGX</td>\n      <td>256</td>\n      <td>ProviderId_4</td>\n      <td>ProductId_6</td>\n      <td>financial_services</td>\n      <td>ChannelId_2</td>\n      <td>-20.0</td>\n      <td>20</td>\n      <td>2018-11-15T02:19:08Z</td>\n      <td>2</td>\n      <td>0</td>\n    </tr>\n    <tr>\n      <th>2</th>\n      <td>TransactionId_26203</td>\n      <td>BatchId_53941</td>\n      <td>AccountId_4229</td>\n      <td>SubscriptionId_222</td>\n      <td>CustomerId_4683</td>\n      <td>UGX</td>\n      <td>256</td>\n      <td>ProviderId_6</td>\n      <td>ProductId_1</td>\n      <td>airtime</td>\n      <td>ChannelId_3</td>\n      <td>500.0</td>\n      <td>500</td>\n      <td>2018-11-15T02:44:21Z</td>\n      <td>2</td>\n      <td>0</td>\n    </tr>\n    <tr>\n      <th>3</th>\n      <td>TransactionId_380</td>\n      <td>BatchId_102363</td>\n      <td>AccountId_648</td>\n      <td>SubscriptionId_2185</td>\n      <td>CustomerId_988</td>\n      <td>UGX</td>\n      <td>256</td>\n      <td>ProviderId_1</td>\n      <td>ProductId_21</td>\n      <td>utility_bill</td>\n      <td>ChannelId_3</td>\n      <td>20000.0</td>\n      <td>21800</td>\n      <td>2018-11-15T03:32:55Z</td>\n      <td>2</td>\n      <td>0</td>\n    </tr>\n    <tr>\n      <th>4</th>\n      <td>TransactionId_28195</td>\n      <td>BatchId_38780</td>\n      <td>AccountId_4841</td>\n      <td>SubscriptionId_3829</td>\n      <td>CustomerId_988</td>\n      <td>UGX</td>\n      <td>256</td>\n      <td>ProviderId_4</td>\n      <td>ProductId_6</td>\n      <td>financial_services</td>\n      <td>ChannelId_2</td>\n      <td>-644.0</td>\n      <td>644</td>\n      <td>2018-11-15T03:34:21Z</td>\n      <td>2</td>\n      <td>0</td>\n    </tr>\n  </tbody>\n</table>\n</div>"
     },
     "metadata": {},
     "execution_count": 4
    }
   ],
   "source": [
    "df.head()"
   ]
  },
  {
   "cell_type": "code",
   "execution_count": 5,
   "id": "banner-sigma",
   "metadata": {},
   "outputs": [
    {
     "output_type": "stream",
     "name": "stdout",
     "text": [
      "<class 'pandas.core.frame.DataFrame'>\nRangeIndex: 95662 entries, 0 to 95661\nData columns (total 16 columns):\n #   Column                Non-Null Count  Dtype  \n---  ------                --------------  -----  \n 0   TransactionId         95662 non-null  object \n 1   BatchId               95662 non-null  object \n 2   AccountId             95662 non-null  object \n 3   SubscriptionId        95662 non-null  object \n 4   CustomerId            95662 non-null  object \n 5   CurrencyCode          95662 non-null  object \n 6   CountryCode           95662 non-null  int64  \n 7   ProviderId            95662 non-null  object \n 8   ProductId             95662 non-null  object \n 9   ProductCategory       95662 non-null  object \n 10  ChannelId             95662 non-null  object \n 11  Amount                95662 non-null  float64\n 12  Value                 95662 non-null  int64  \n 13  TransactionStartTime  95662 non-null  object \n 14  PricingStrategy       95662 non-null  int64  \n 15  FraudResult           95662 non-null  int64  \ndtypes: float64(1), int64(4), object(11)\nmemory usage: 11.7+ MB\n"
     ]
    }
   ],
   "source": [
    "df.info()"
   ]
  },
  {
   "cell_type": "code",
   "execution_count": 6,
   "metadata": {},
   "outputs": [
    {
     "output_type": "execute_result",
     "data": {
      "text/plain": [
       "TransactionId           95662\n",
       "BatchId                 94809\n",
       "AccountId                3633\n",
       "SubscriptionId           3627\n",
       "CustomerId               3742\n",
       "CurrencyCode                1\n",
       "CountryCode                 1\n",
       "ProviderId                  6\n",
       "ProductId                  23\n",
       "ProductCategory             9\n",
       "ChannelId                   4\n",
       "Amount                   1676\n",
       "Value                    1517\n",
       "TransactionStartTime    94556\n",
       "PricingStrategy             4\n",
       "FraudResult                 2\n",
       "dtype: int64"
      ]
     },
     "metadata": {},
     "execution_count": 6
    }
   ],
   "source": [
    "df.nunique()"
   ]
  },
  {
   "source": [
    "## --> The following columns have just 1 distinct value and are therefore redundant:\n",
    "## - CurrencyCode\n",
    "## - CountryCode"
   ],
   "cell_type": "markdown",
   "metadata": {}
  },
  {
   "source": [
    "## Column \"Value\" is redundant as the same information (more distinct) is included in column \"amount\" "
   ],
   "cell_type": "markdown",
   "metadata": {}
  },
  {
   "source": [
    "## Checking logical relationship between BatchId and TransactionId: \n",
    "## --> One-to-many relatinship confirmed! BatchId column is just an aggregation and therefore redundant!"
   ],
   "cell_type": "markdown",
   "metadata": {}
  },
  {
   "cell_type": "code",
   "execution_count": 7,
   "metadata": {},
   "outputs": [
    {
     "output_type": "execute_result",
     "data": {
      "text/plain": [
       "TransactionId\n",
       "TransactionId_1        1\n",
       "TransactionId_57870    1\n",
       "TransactionId_57885    1\n",
       "TransactionId_57883    1\n",
       "TransactionId_57881    1\n",
       "                      ..\n",
       "TransactionId_1557     1\n",
       "TransactionId_15568    1\n",
       "TransactionId_15567    1\n",
       "TransactionId_15566    1\n",
       "TransactionId_99999    1\n",
       "Name: BatchId, Length: 95662, dtype: int64"
      ]
     },
     "metadata": {},
     "execution_count": 7
    }
   ],
   "source": [
    "# number of unique BatchId-values by TransactionId\n",
    "b_t = df.groupby('TransactionId').BatchId.nunique()\n",
    "b_t.sort_values(ascending = False)"
   ]
  },
  {
   "source": [
    "## Checking logical relationship between AccountId, SubscriptionId and CustomerId: \n",
    "## --> No consistent one-to-many relatinship detected!"
   ],
   "cell_type": "markdown",
   "metadata": {}
  },
  {
   "cell_type": "code",
   "execution_count": 8,
   "metadata": {},
   "outputs": [
    {
     "output_type": "execute_result",
     "data": {
      "text/plain": [
       "AccountId\n",
       "AccountId_4841    2\n",
       "AccountId_1       1\n",
       "AccountId_3871    1\n",
       "AccountId_3873    1\n",
       "AccountId_3875    1\n",
       "                 ..\n",
       "AccountId_2472    1\n",
       "AccountId_2473    1\n",
       "AccountId_2474    1\n",
       "AccountId_2476    1\n",
       "AccountId_998     1\n",
       "Name: SubscriptionId, Length: 3633, dtype: int64"
      ]
     },
     "metadata": {},
     "execution_count": 8
    }
   ],
   "source": [
    "# number of unique SubscriptionId-values by AccountId\n",
    "a_s = df.groupby('AccountId').SubscriptionId.nunique()\n",
    "a_s.sort_values(ascending = False)"
   ]
  },
  {
   "cell_type": "code",
   "execution_count": 9,
   "metadata": {},
   "outputs": [
    {
     "output_type": "execute_result",
     "data": {
      "text/plain": [
       "SubscriptionId\n",
       "SubscriptionId_4674    3\n",
       "SubscriptionId_3829    2\n",
       "SubscriptionId_375     2\n",
       "SubscriptionId_3495    2\n",
       "SubscriptionId_3489    2\n",
       "                      ..\n",
       "SubscriptionId_2484    1\n",
       "SubscriptionId_2485    1\n",
       "SubscriptionId_2487    1\n",
       "SubscriptionId_2488    1\n",
       "SubscriptionId_999     1\n",
       "Name: AccountId, Length: 3627, dtype: int64"
      ]
     },
     "metadata": {},
     "execution_count": 9
    }
   ],
   "source": [
    "# number of unique AccountId-values by SubscriptionId\n",
    "s_a = df.groupby('SubscriptionId').AccountId.nunique()\n",
    "s_a.sort_values(ascending = False)"
   ]
  },
  {
   "cell_type": "code",
   "execution_count": 10,
   "metadata": {},
   "outputs": [
    {
     "output_type": "execute_result",
     "data": {
      "text/plain": [
       "SubscriptionId\n",
       "SubscriptionId_3829    2623\n",
       "SubscriptionId_4346     182\n",
       "SubscriptionId_4429      56\n",
       "SubscriptionId_4836      31\n",
       "SubscriptionId_3350      14\n",
       "                       ... \n",
       "SubscriptionId_2485       1\n",
       "SubscriptionId_2487       1\n",
       "SubscriptionId_2488       1\n",
       "SubscriptionId_2489       1\n",
       "SubscriptionId_999        1\n",
       "Name: CustomerId, Length: 3627, dtype: int64"
      ]
     },
     "metadata": {},
     "execution_count": 10
    }
   ],
   "source": [
    "# number of unique CustomerId-values by SubscriptionId\n",
    "s_c = df.groupby('SubscriptionId').CustomerId.nunique()\n",
    "s_c.sort_values(ascending = False)"
   ]
  },
  {
   "cell_type": "code",
   "execution_count": 11,
   "metadata": {},
   "outputs": [
    {
     "output_type": "execute_result",
     "data": {
      "text/plain": [
       "CustomerId\n",
       "CustomerId_3716    3\n",
       "CustomerId_1335    3\n",
       "CustomerId_4113    3\n",
       "CustomerId_462     3\n",
       "CustomerId_4622    3\n",
       "                  ..\n",
       "CustomerId_4369    1\n",
       "CustomerId_4367    1\n",
       "CustomerId_2141    1\n",
       "CustomerId_2143    1\n",
       "CustomerId_1       1\n",
       "Name: SubscriptionId, Length: 3742, dtype: int64"
      ]
     },
     "metadata": {},
     "execution_count": 11
    }
   ],
   "source": [
    "# number of unique SubscriptionId-values by CustomerId\n",
    "c_s = df.groupby('CustomerId').SubscriptionId.nunique()\n",
    "c_s.sort_values(ascending = False)"
   ]
  },
  {
   "cell_type": "code",
   "execution_count": 12,
   "metadata": {},
   "outputs": [
    {
     "output_type": "execute_result",
     "data": {
      "text/plain": [
       "AccountId\n",
       "AccountId_4841    2577\n",
       "AccountId_4840    1723\n",
       "AccountId_10       182\n",
       "AccountId_4249      56\n",
       "AccountId_1074      20\n",
       "                  ... \n",
       "AccountId_2474       1\n",
       "AccountId_2476       1\n",
       "AccountId_2477       1\n",
       "AccountId_2478       1\n",
       "AccountId_998        1\n",
       "Name: CustomerId, Length: 3633, dtype: int64"
      ]
     },
     "metadata": {},
     "execution_count": 12
    }
   ],
   "source": [
    "# number of unique CustomerId-values by AccountId\n",
    "a_c = df.groupby('AccountId').CustomerId.nunique()\n",
    "a_c.sort_values(ascending = False)"
   ]
  },
  {
   "cell_type": "code",
   "execution_count": 13,
   "metadata": {},
   "outputs": [
    {
     "output_type": "execute_result",
     "data": {
      "text/plain": [
       "CustomerId\n",
       "CustomerId_606     5\n",
       "CustomerId_4336    4\n",
       "CustomerId_1438    4\n",
       "CustomerId_3716    4\n",
       "CustomerId_3391    4\n",
       "                  ..\n",
       "CustomerId_4683    1\n",
       "CustomerId_2636    1\n",
       "CustomerId_4678    1\n",
       "CustomerId_4677    1\n",
       "CustomerId_1       1\n",
       "Name: AccountId, Length: 3742, dtype: int64"
      ]
     },
     "metadata": {},
     "execution_count": 13
    }
   ],
   "source": [
    "# number of unique AccountId-values by CustomerId\n",
    "c_a = df.groupby('CustomerId').AccountId.nunique()\n",
    "c_a.sort_values(ascending = False)"
   ]
  },
  {
   "source": [
    "## Checking logical relationship between ProductCategory and ProductId: \n",
    "## --> One-to-many relatinship confirmed! ProductCategory column is just an aggregation and therefore redundant!"
   ],
   "cell_type": "markdown",
   "metadata": {}
  },
  {
   "cell_type": "code",
   "execution_count": 14,
   "metadata": {},
   "outputs": [
    {
     "output_type": "execute_result",
     "data": {
      "text/plain": [
       "ProductCategory     ProductId   \n",
       "airtime             ProductId_1      2885\n",
       "                    ProductId_10    15384\n",
       "                    ProductId_16       10\n",
       "                    ProductId_23        1\n",
       "                    ProductId_3     24344\n",
       "                    ProductId_4      2403\n",
       "data_bundles        ProductId_11     1377\n",
       "                    ProductId_2       236\n",
       "financial_services  ProductId_14      789\n",
       "                    ProductId_15    11964\n",
       "                    ProductId_6     32635\n",
       "                    ProductId_9        17\n",
       "movies              ProductId_24      175\n",
       "other               ProductId_12        2\n",
       "ticket              ProductId_20      216\n",
       "transport           ProductId_5        25\n",
       "tv                  ProductId_19      965\n",
       "                    ProductId_27       31\n",
       "                    ProductId_7        86\n",
       "                    ProductId_8       197\n",
       "utility_bill        ProductId_13      296\n",
       "                    ProductId_21     1512\n",
       "                    ProductId_22      112\n",
       "Name: TransactionId, dtype: int64"
      ]
     },
     "metadata": {},
     "execution_count": 14
    }
   ],
   "source": [
    "# list ProductId-values by ProductCategory (incl. count of Transactions)\n",
    "df.groupby(['ProductCategory', 'ProductId']).count()['TransactionId']"
   ]
  },
  {
   "cell_type": "code",
   "execution_count": 15,
   "metadata": {},
   "outputs": [
    {
     "output_type": "execute_result",
     "data": {
      "text/plain": [
       "ProductId\n",
       "ProductId_1     1\n",
       "ProductId_22    1\n",
       "ProductId_8     1\n",
       "ProductId_7     1\n",
       "ProductId_6     1\n",
       "ProductId_5     1\n",
       "ProductId_4     1\n",
       "ProductId_3     1\n",
       "ProductId_27    1\n",
       "ProductId_24    1\n",
       "ProductId_23    1\n",
       "ProductId_21    1\n",
       "ProductId_10    1\n",
       "ProductId_20    1\n",
       "ProductId_2     1\n",
       "ProductId_19    1\n",
       "ProductId_16    1\n",
       "ProductId_15    1\n",
       "ProductId_14    1\n",
       "ProductId_13    1\n",
       "ProductId_12    1\n",
       "ProductId_11    1\n",
       "ProductId_9     1\n",
       "Name: ProductCategory, dtype: int64"
      ]
     },
     "metadata": {},
     "execution_count": 15
    }
   ],
   "source": [
    "# number of unique ProductCategory-values by ProductId\n",
    "p_pc = df.groupby('ProductId').ProductCategory.nunique()\n",
    "p_pc.sort_values(ascending = False)"
   ]
  },
  {
   "cell_type": "code",
   "execution_count": 16,
   "metadata": {},
   "outputs": [
    {
     "output_type": "stream",
     "name": "stdout",
     "text": [
      "<class 'pandas.core.frame.DataFrame'>\nRangeIndex: 95662 entries, 0 to 95661\nData columns (total 16 columns):\n #   Column                Non-Null Count  Dtype  \n---  ------                --------------  -----  \n 0   TransactionId         95662 non-null  object \n 1   BatchId               95662 non-null  object \n 2   AccountId             95662 non-null  object \n 3   SubscriptionId        95662 non-null  object \n 4   CustomerId            95662 non-null  object \n 5   CurrencyCode          95662 non-null  object \n 6   CountryCode           95662 non-null  int64  \n 7   ProviderId            95662 non-null  object \n 8   ProductId             95662 non-null  object \n 9   ProductCategory       95662 non-null  object \n 10  ChannelId             95662 non-null  object \n 11  Amount                95662 non-null  float64\n 12  Value                 95662 non-null  int64  \n 13  TransactionStartTime  95662 non-null  object \n 14  PricingStrategy       95662 non-null  int64  \n 15  FraudResult           95662 non-null  int64  \ndtypes: float64(1), int64(4), object(11)\nmemory usage: 11.7+ MB\n"
     ]
    }
   ],
   "source": [
    "df.info()"
   ]
  },
  {
   "source": [
    "## --> Removing redundant columns"
   ],
   "cell_type": "markdown",
   "metadata": {}
  },
  {
   "cell_type": "code",
   "execution_count": 17,
   "metadata": {},
   "outputs": [
    {
     "output_type": "stream",
     "name": "stdout",
     "text": [
      "<class 'pandas.core.frame.DataFrame'>\nRangeIndex: 95662 entries, 0 to 95661\nData columns (total 11 columns):\n #   Column                Non-Null Count  Dtype  \n---  ------                --------------  -----  \n 0   TransactionId         95662 non-null  object \n 1   AccountId             95662 non-null  object \n 2   SubscriptionId        95662 non-null  object \n 3   CustomerId            95662 non-null  object \n 4   ProviderId            95662 non-null  object \n 5   ProductId             95662 non-null  object \n 6   ChannelId             95662 non-null  object \n 7   Amount                95662 non-null  float64\n 8   TransactionStartTime  95662 non-null  object \n 9   PricingStrategy       95662 non-null  int64  \n 10  FraudResult           95662 non-null  int64  \ndtypes: float64(1), int64(2), object(8)\nmemory usage: 8.0+ MB\n"
     ]
    }
   ],
   "source": [
    "# Remove these columns:\n",
    "drop_lst = ['BatchId', 'CurrencyCode', 'CountryCode', 'ProductCategory', 'Value']\n",
    "# we would like to consider all variables except the ones mentioned above\n",
    "remaining_features = [x for x in df.columns if x not in drop_lst]\n",
    "df2 = df[remaining_features]\n",
    "df2.info()"
   ]
  },
  {
   "source": [
    "## Feature Engineering"
   ],
   "cell_type": "markdown",
   "metadata": {}
  },
  {
   "cell_type": "code",
   "execution_count": 18,
   "metadata": {},
   "outputs": [
    {
     "output_type": "execute_result",
     "data": {
      "text/plain": [
       "{'Z'}"
      ]
     },
     "metadata": {},
     "execution_count": 18
    }
   ],
   "source": [
    "a = df['TransactionStartTime'].tolist()\n",
    "b = []\n",
    "for i in range (len(a)):\n",
    "    b.append(a[i][-1])\n",
    "set(b)"
   ]
  },
  {
   "cell_type": "code",
   "execution_count": 19,
   "metadata": {},
   "outputs": [
    {
     "output_type": "stream",
     "name": "stderr",
     "text": [
      "<ipython-input-19-d54e636aded6>:2: SettingWithCopyWarning: \nA value is trying to be set on a copy of a slice from a DataFrame.\nTry using .loc[row_indexer,col_indexer] = value instead\n\nSee the caveats in the documentation: https://pandas.pydata.org/pandas-docs/stable/user_guide/indexing.html#returning-a-view-versus-a-copy\n  df2['TransactionStartTime'] = df2['TransactionStartTime'].str.replace('T', ' ')\n<ipython-input-19-d54e636aded6>:3: SettingWithCopyWarning: \nA value is trying to be set on a copy of a slice from a DataFrame.\nTry using .loc[row_indexer,col_indexer] = value instead\n\nSee the caveats in the documentation: https://pandas.pydata.org/pandas-docs/stable/user_guide/indexing.html#returning-a-view-versus-a-copy\n  df2['TransactionStartTime'] = df2['TransactionStartTime'].str.replace('Z', '')\n<ipython-input-19-d54e636aded6>:4: SettingWithCopyWarning: \nA value is trying to be set on a copy of a slice from a DataFrame.\nTry using .loc[row_indexer,col_indexer] = value instead\n\nSee the caveats in the documentation: https://pandas.pydata.org/pandas-docs/stable/user_guide/indexing.html#returning-a-view-versus-a-copy\n  df2['TransactionStartTime'] = pd.to_datetime(df2['TransactionStartTime'])\n"
     ]
    }
   ],
   "source": [
    "# Datatype TransactionStartTime\n",
    "df2['TransactionStartTime'] = df2['TransactionStartTime'].str.replace('T', ' ')\n",
    "df2['TransactionStartTime'] = df2['TransactionStartTime'].str.replace('Z', '')\n",
    "df2['TransactionStartTime'] = pd.to_datetime(df2['TransactionStartTime']) "
   ]
  },
  {
   "cell_type": "code",
   "execution_count": 20,
   "metadata": {},
   "outputs": [
    {
     "output_type": "execute_result",
     "data": {
      "text/plain": [
       "Timestamp('2019-02-13 10:01:28')"
      ]
     },
     "metadata": {},
     "execution_count": 20
    }
   ],
   "source": [
    "df2.TransactionStartTime.max()"
   ]
  },
  {
   "cell_type": "code",
   "execution_count": 21,
   "metadata": {},
   "outputs": [
    {
     "output_type": "stream",
     "name": "stdout",
     "text": [
      "<class 'pandas.core.frame.DataFrame'>\nRangeIndex: 95662 entries, 0 to 95661\nData columns (total 11 columns):\n #   Column                Non-Null Count  Dtype         \n---  ------                --------------  -----         \n 0   TransactionId         95662 non-null  object        \n 1   AccountId             95662 non-null  object        \n 2   SubscriptionId        95662 non-null  object        \n 3   CustomerId            95662 non-null  object        \n 4   ProviderId            95662 non-null  object        \n 5   ProductId             95662 non-null  object        \n 6   ChannelId             95662 non-null  object        \n 7   Amount                95662 non-null  float64       \n 8   TransactionStartTime  95662 non-null  datetime64[ns]\n 9   PricingStrategy       95662 non-null  int64         \n 10  FraudResult           95662 non-null  int64         \ndtypes: datetime64[ns](1), float64(1), int64(2), object(7)\nmemory usage: 8.0+ MB\n"
     ]
    }
   ],
   "source": [
    "df2.info()"
   ]
  },
  {
   "cell_type": "code",
   "execution_count": 22,
   "metadata": {},
   "outputs": [
    {
     "output_type": "stream",
     "name": "stderr",
     "text": [
      "<ipython-input-22-426955cea94a>:5: SettingWithCopyWarning: \nA value is trying to be set on a copy of a slice from a DataFrame.\nTry using .loc[row_indexer,col_indexer] = value instead\n\nSee the caveats in the documentation: https://pandas.pydata.org/pandas-docs/stable/user_guide/indexing.html#returning-a-view-versus-a-copy\n  df2['Hour'] = df2['TransactionStartTime'].dt.hour\n<ipython-input-22-426955cea94a>:7: SettingWithCopyWarning: \nA value is trying to be set on a copy of a slice from a DataFrame.\nTry using .loc[row_indexer,col_indexer] = value instead\n\nSee the caveats in the documentation: https://pandas.pydata.org/pandas-docs/stable/user_guide/indexing.html#returning-a-view-versus-a-copy\n  df2['Seconds'] = df2['TransactionStartTime'].dt.second\n<ipython-input-22-426955cea94a>:9: SettingWithCopyWarning: \nA value is trying to be set on a copy of a slice from a DataFrame.\nTry using .loc[row_indexer,col_indexer] = value instead\n\nSee the caveats in the documentation: https://pandas.pydata.org/pandas-docs/stable/user_guide/indexing.html#returning-a-view-versus-a-copy\n  df2['Weekday'] = df2['TransactionStartTime'].dt.weekday\n/Users/eldinsaronjic/git/cavaloA/.venv/lib/python3.8/site-packages/pandas/core/frame.py:4305: SettingWithCopyWarning: \nA value is trying to be set on a copy of a slice from a DataFrame\n\nSee the caveats in the documentation: https://pandas.pydata.org/pandas-docs/stable/user_guide/indexing.html#returning-a-view-versus-a-copy\n  return super().drop(\n"
     ]
    }
   ],
   "source": [
    "# introducing columns for year, month, day, hour, minute, seconds, week and weekday\n",
    "#df2['Year'] = df2['TransactionStartTime'].dt.year\n",
    "#df2['Month'] = df2['TransactionStartTime'].dt.month\n",
    "#df2['Day'] = df2['TransactionStartTime'].dt.day\n",
    "df2['Hour'] = df2['TransactionStartTime'].dt.hour\n",
    "#df2['Minute'] = df2['TransactionStartTime'].dt.minute\n",
    "df2['Seconds'] = df2['TransactionStartTime'].dt.second\n",
    "#df2['week'] = df2['TransactionStartTime'].dt.week\n",
    "df2['Weekday'] = df2['TransactionStartTime'].dt.weekday\n",
    "df2.drop('TransactionStartTime', axis = 1, inplace = True)"
   ]
  },
  {
   "cell_type": "code",
   "execution_count": 23,
   "metadata": {},
   "outputs": [
    {
     "output_type": "stream",
     "name": "stdout",
     "text": [
      "<class 'pandas.core.frame.DataFrame'>\nRangeIndex: 95662 entries, 0 to 95661\nData columns (total 13 columns):\n #   Column           Non-Null Count  Dtype  \n---  ------           --------------  -----  \n 0   TransactionId    95662 non-null  object \n 1   AccountId        95662 non-null  object \n 2   SubscriptionId   95662 non-null  object \n 3   CustomerId       95662 non-null  object \n 4   ProviderId       95662 non-null  object \n 5   ProductId        95662 non-null  object \n 6   ChannelId        95662 non-null  object \n 7   Amount           95662 non-null  float64\n 8   PricingStrategy  95662 non-null  int64  \n 9   FraudResult      95662 non-null  int64  \n 10  Hour             95662 non-null  int64  \n 11  Seconds          95662 non-null  int64  \n 12  Weekday          95662 non-null  int64  \ndtypes: float64(1), int64(5), object(7)\nmemory usage: 9.5+ MB\n"
     ]
    }
   ],
   "source": [
    "df2.info()"
   ]
  },
  {
   "cell_type": "code",
   "execution_count": 24,
   "metadata": {},
   "outputs": [
    {
     "output_type": "execute_result",
     "data": {
      "text/plain": [
       "              TransactionId       AccountId       SubscriptionId  \\\n",
       "69563  TransactionId_101987  AccountId_1609  SubscriptionId_2872   \n",
       "55822   TransactionId_56954  AccountId_4249  SubscriptionId_4429   \n",
       "81757  TransactionId_107592   AccountId_572  SubscriptionId_2950   \n",
       "64357   TransactionId_85815   AccountId_953   SubscriptionId_162   \n",
       "82314    TransactionId_7569   AccountId_572  SubscriptionId_2950   \n",
       "81128   TransactionId_11322   AccountId_572  SubscriptionId_2950   \n",
       "82892   TransactionId_49929   AccountId_572  SubscriptionId_2950   \n",
       "36101   TransactionId_60447  AccountId_1825  SubscriptionId_4080   \n",
       "82333   TransactionId_82482   AccountId_572  SubscriptionId_2950   \n",
       "85515  TransactionId_114761  AccountId_2656  SubscriptionId_2912   \n",
       "\n",
       "            CustomerId    ProviderId     ProductId    ChannelId     Amount  \\\n",
       "69563  CustomerId_1988  ProviderId_3  ProductId_15  ChannelId_3   100000.0   \n",
       "55822  CustomerId_7339  ProviderId_4   ProductId_3  ChannelId_2  -900000.0   \n",
       "81757   CustomerId_909  ProviderId_5  ProductId_15  ChannelId_3  1000000.0   \n",
       "64357  CustomerId_1302  ProviderId_3  ProductId_15  ChannelId_3  2000000.0   \n",
       "82314   CustomerId_909  ProviderId_5  ProductId_15  ChannelId_3  7000000.0   \n",
       "81128   CustomerId_909  ProviderId_5  ProductId_15  ChannelId_3  3000000.0   \n",
       "82892   CustomerId_909  ProviderId_5  ProductId_15  ChannelId_3  3000000.0   \n",
       "36101  CustomerId_2216  ProviderId_3  ProductId_15  ChannelId_3   588668.0   \n",
       "82333   CustomerId_909  ProviderId_5  ProductId_15  ChannelId_3  5000000.0   \n",
       "85515  CustomerId_3075  ProviderId_5  ProductId_13  ChannelId_3   570035.0   \n",
       "\n",
       "       PricingStrategy  FraudResult  Hour  Seconds  Weekday  \n",
       "69563                2            1    20       59        2  \n",
       "55822                4            1    15       59        3  \n",
       "81757                2            1    14       59        4  \n",
       "64357                2            1    15       59        4  \n",
       "82314                2            1    17       59        4  \n",
       "81128                2            1    12       58        4  \n",
       "82892                2            1     3       58        5  \n",
       "36101                2            1    17       58        4  \n",
       "82333                2            1    17       58        4  \n",
       "85515                2            1    19       58        0  "
      ],
      "text/html": "<div>\n<style scoped>\n    .dataframe tbody tr th:only-of-type {\n        vertical-align: middle;\n    }\n\n    .dataframe tbody tr th {\n        vertical-align: top;\n    }\n\n    .dataframe thead th {\n        text-align: right;\n    }\n</style>\n<table border=\"1\" class=\"dataframe\">\n  <thead>\n    <tr style=\"text-align: right;\">\n      <th></th>\n      <th>TransactionId</th>\n      <th>AccountId</th>\n      <th>SubscriptionId</th>\n      <th>CustomerId</th>\n      <th>ProviderId</th>\n      <th>ProductId</th>\n      <th>ChannelId</th>\n      <th>Amount</th>\n      <th>PricingStrategy</th>\n      <th>FraudResult</th>\n      <th>Hour</th>\n      <th>Seconds</th>\n      <th>Weekday</th>\n    </tr>\n  </thead>\n  <tbody>\n    <tr>\n      <th>69563</th>\n      <td>TransactionId_101987</td>\n      <td>AccountId_1609</td>\n      <td>SubscriptionId_2872</td>\n      <td>CustomerId_1988</td>\n      <td>ProviderId_3</td>\n      <td>ProductId_15</td>\n      <td>ChannelId_3</td>\n      <td>100000.0</td>\n      <td>2</td>\n      <td>1</td>\n      <td>20</td>\n      <td>59</td>\n      <td>2</td>\n    </tr>\n    <tr>\n      <th>55822</th>\n      <td>TransactionId_56954</td>\n      <td>AccountId_4249</td>\n      <td>SubscriptionId_4429</td>\n      <td>CustomerId_7339</td>\n      <td>ProviderId_4</td>\n      <td>ProductId_3</td>\n      <td>ChannelId_2</td>\n      <td>-900000.0</td>\n      <td>4</td>\n      <td>1</td>\n      <td>15</td>\n      <td>59</td>\n      <td>3</td>\n    </tr>\n    <tr>\n      <th>81757</th>\n      <td>TransactionId_107592</td>\n      <td>AccountId_572</td>\n      <td>SubscriptionId_2950</td>\n      <td>CustomerId_909</td>\n      <td>ProviderId_5</td>\n      <td>ProductId_15</td>\n      <td>ChannelId_3</td>\n      <td>1000000.0</td>\n      <td>2</td>\n      <td>1</td>\n      <td>14</td>\n      <td>59</td>\n      <td>4</td>\n    </tr>\n    <tr>\n      <th>64357</th>\n      <td>TransactionId_85815</td>\n      <td>AccountId_953</td>\n      <td>SubscriptionId_162</td>\n      <td>CustomerId_1302</td>\n      <td>ProviderId_3</td>\n      <td>ProductId_15</td>\n      <td>ChannelId_3</td>\n      <td>2000000.0</td>\n      <td>2</td>\n      <td>1</td>\n      <td>15</td>\n      <td>59</td>\n      <td>4</td>\n    </tr>\n    <tr>\n      <th>82314</th>\n      <td>TransactionId_7569</td>\n      <td>AccountId_572</td>\n      <td>SubscriptionId_2950</td>\n      <td>CustomerId_909</td>\n      <td>ProviderId_5</td>\n      <td>ProductId_15</td>\n      <td>ChannelId_3</td>\n      <td>7000000.0</td>\n      <td>2</td>\n      <td>1</td>\n      <td>17</td>\n      <td>59</td>\n      <td>4</td>\n    </tr>\n    <tr>\n      <th>81128</th>\n      <td>TransactionId_11322</td>\n      <td>AccountId_572</td>\n      <td>SubscriptionId_2950</td>\n      <td>CustomerId_909</td>\n      <td>ProviderId_5</td>\n      <td>ProductId_15</td>\n      <td>ChannelId_3</td>\n      <td>3000000.0</td>\n      <td>2</td>\n      <td>1</td>\n      <td>12</td>\n      <td>58</td>\n      <td>4</td>\n    </tr>\n    <tr>\n      <th>82892</th>\n      <td>TransactionId_49929</td>\n      <td>AccountId_572</td>\n      <td>SubscriptionId_2950</td>\n      <td>CustomerId_909</td>\n      <td>ProviderId_5</td>\n      <td>ProductId_15</td>\n      <td>ChannelId_3</td>\n      <td>3000000.0</td>\n      <td>2</td>\n      <td>1</td>\n      <td>3</td>\n      <td>58</td>\n      <td>5</td>\n    </tr>\n    <tr>\n      <th>36101</th>\n      <td>TransactionId_60447</td>\n      <td>AccountId_1825</td>\n      <td>SubscriptionId_4080</td>\n      <td>CustomerId_2216</td>\n      <td>ProviderId_3</td>\n      <td>ProductId_15</td>\n      <td>ChannelId_3</td>\n      <td>588668.0</td>\n      <td>2</td>\n      <td>1</td>\n      <td>17</td>\n      <td>58</td>\n      <td>4</td>\n    </tr>\n    <tr>\n      <th>82333</th>\n      <td>TransactionId_82482</td>\n      <td>AccountId_572</td>\n      <td>SubscriptionId_2950</td>\n      <td>CustomerId_909</td>\n      <td>ProviderId_5</td>\n      <td>ProductId_15</td>\n      <td>ChannelId_3</td>\n      <td>5000000.0</td>\n      <td>2</td>\n      <td>1</td>\n      <td>17</td>\n      <td>58</td>\n      <td>4</td>\n    </tr>\n    <tr>\n      <th>85515</th>\n      <td>TransactionId_114761</td>\n      <td>AccountId_2656</td>\n      <td>SubscriptionId_2912</td>\n      <td>CustomerId_3075</td>\n      <td>ProviderId_5</td>\n      <td>ProductId_13</td>\n      <td>ChannelId_3</td>\n      <td>570035.0</td>\n      <td>2</td>\n      <td>1</td>\n      <td>19</td>\n      <td>58</td>\n      <td>0</td>\n    </tr>\n  </tbody>\n</table>\n</div>"
     },
     "metadata": {},
     "execution_count": 24
    }
   ],
   "source": [
    "df_fraud=df2[df2['FraudResult'] == 1]\n",
    "df_safe=df2[df2['FraudResult'] == 0]\n",
    "df_fraud.sort_values('Seconds', ascending=False).head(10)"
   ]
  },
  {
   "cell_type": "code",
   "execution_count": 25,
   "metadata": {},
   "outputs": [],
   "source": [
    "df3=df2[['PricingStrategy', 'Amount', 'Hour', 'Seconds', 'Weekday', 'FraudResult']]"
   ]
  },
  {
   "cell_type": "code",
   "execution_count": 26,
   "metadata": {},
   "outputs": [],
   "source": [
    "X_train,X_test,y_train,y_test=train_test_split(df3.drop('FraudResult',axis=1),df3['FraudResult'],test_size=0.30,random_state=101)"
   ]
  },
  {
   "cell_type": "code",
   "execution_count": 34,
   "metadata": {},
   "outputs": [
    {
     "output_type": "execute_result",
     "data": {
      "text/plain": [
       "LogisticRegression()"
      ]
     },
     "metadata": {},
     "execution_count": 34
    }
   ],
   "source": [
    "logmodel=LogisticRegression()\n",
    "logmodel.fit(X_train,y_train)"
   ]
  },
  {
   "cell_type": "code",
   "execution_count": 35,
   "metadata": {},
   "outputs": [],
   "source": [
    "predictions=logmodel.predict(X_test)"
   ]
  },
  {
   "cell_type": "code",
   "execution_count": 36,
   "metadata": {},
   "outputs": [
    {
     "output_type": "execute_result",
     "data": {
      "text/plain": [
       "99.84668455346876"
      ]
     },
     "metadata": {},
     "execution_count": 36
    }
   ],
   "source": [
    "accuracy=accuracy_score(y_test,predictions)\n",
    "accuracy*100"
   ]
  },
  {
   "cell_type": "code",
   "execution_count": 42,
   "metadata": {},
   "outputs": [],
   "source": [
    "from sklearn.model_selection import cross_val_predict, cross_val_score, cross_validate\n",
    "\n",
    "y_train_predicted = cross_val_predict(logmodel, X_train, y_train, cv=5)\n",
    "\n",
    "actual =    y_train \n",
    "predicted = y_train_predicted\n",
    "\n",
    "results = confusion_matrix(actual, predicted)"
   ]
  },
  {
   "cell_type": "code",
   "execution_count": 43,
   "metadata": {},
   "outputs": [
    {
     "output_type": "display_data",
     "data": {
      "text/plain": "<Figure size 432x288 with 2 Axes>",
      "image/svg+xml": "<?xml version=\"1.0\" encoding=\"utf-8\" standalone=\"no\"?>\n<!DOCTYPE svg PUBLIC \"-//W3C//DTD SVG 1.1//EN\"\n  \"http://www.w3.org/Graphics/SVG/1.1/DTD/svg11.dtd\">\n<!-- Created with matplotlib (https://matplotlib.org/) -->\n<svg height=\"248.518125pt\" version=\"1.1\" viewBox=\"0 0 365.342625 248.518125\" width=\"365.342625pt\" xmlns=\"http://www.w3.org/2000/svg\" xmlns:xlink=\"http://www.w3.org/1999/xlink\">\n <metadata>\n  <rdf:RDF xmlns:cc=\"http://creativecommons.org/ns#\" xmlns:dc=\"http://purl.org/dc/elements/1.1/\" xmlns:rdf=\"http://www.w3.org/1999/02/22-rdf-syntax-ns#\">\n   <cc:Work>\n    <dc:type rdf:resource=\"http://purl.org/dc/dcmitype/StillImage\"/>\n    <dc:date>2021-03-10T23:42:08.983223</dc:date>\n    <dc:format>image/svg+xml</dc:format>\n    <dc:creator>\n     <cc:Agent>\n      <dc:title>Matplotlib v3.3.4, https://matplotlib.org/</dc:title>\n     </cc:Agent>\n    </dc:creator>\n   </cc:Work>\n  </rdf:RDF>\n </metadata>\n <defs>\n  <style type=\"text/css\">*{stroke-linecap:butt;stroke-linejoin:round;}</style>\n </defs>\n <g id=\"figure_1\">\n  <g id=\"patch_1\">\n   <path d=\"M -0 248.518125 \nL 365.342625 248.518125 \nL 365.342625 0 \nL -0 0 \nz\n\" style=\"fill:none;\"/>\n  </g>\n  <g id=\"axes_1\">\n   <g id=\"patch_2\">\n    <path d=\"M 23.878125 224.64 \nL 291.718125 224.64 \nL 291.718125 7.2 \nL 23.878125 7.2 \nz\n\" style=\"fill:#ffffff;\"/>\n   </g>\n   <g id=\"QuadMesh_1\">\n    <path clip-path=\"url(#p02a43579da)\" d=\"M 23.878125 7.2 \nL 157.798125 7.2 \nL 157.798125 115.92 \nL 23.878125 115.92 \nL 23.878125 7.2 \n\" style=\"fill:#081d58;stroke:#ffffff;stroke-width:0.5;\"/>\n    <path clip-path=\"url(#p02a43579da)\" d=\"M 157.798125 7.2 \nL 291.718125 7.2 \nL 291.718125 115.92 \nL 157.798125 115.92 \nL 157.798125 7.2 \n\" style=\"fill:#ffffd9;stroke:#ffffff;stroke-width:0.5;\"/>\n    <path clip-path=\"url(#p02a43579da)\" d=\"M 23.878125 115.92 \nL 157.798125 115.92 \nL 157.798125 224.64 \nL 23.878125 224.64 \nL 23.878125 115.92 \n\" style=\"fill:#ffffd9;stroke:#ffffff;stroke-width:0.5;\"/>\n    <path clip-path=\"url(#p02a43579da)\" d=\"M 157.798125 115.92 \nL 291.718125 115.92 \nL 291.718125 224.64 \nL 157.798125 224.64 \nL 157.798125 115.92 \n\" style=\"fill:#ffffd9;stroke:#ffffff;stroke-width:0.5;\"/>\n   </g>\n   <g id=\"matplotlib.axis_1\">\n    <g id=\"xtick_1\">\n     <g id=\"line2d_1\">\n      <defs>\n       <path d=\"M 0 0 \nL 0 3.5 \n\" id=\"m757ff5fd58\" style=\"stroke:#000000;stroke-width:0.8;\"/>\n      </defs>\n      <g>\n       <use style=\"stroke:#000000;stroke-width:0.8;\" x=\"90.838125\" xlink:href=\"#m757ff5fd58\" y=\"224.64\"/>\n      </g>\n     </g>\n     <g id=\"text_1\">\n      <!-- 0 -->\n      <g transform=\"translate(87.656875 239.238437)scale(0.1 -0.1)\">\n       <defs>\n        <path d=\"M 31.78125 66.40625 \nQ 24.171875 66.40625 20.328125 58.90625 \nQ 16.5 51.421875 16.5 36.375 \nQ 16.5 21.390625 20.328125 13.890625 \nQ 24.171875 6.390625 31.78125 6.390625 \nQ 39.453125 6.390625 43.28125 13.890625 \nQ 47.125 21.390625 47.125 36.375 \nQ 47.125 51.421875 43.28125 58.90625 \nQ 39.453125 66.40625 31.78125 66.40625 \nz\nM 31.78125 74.21875 \nQ 44.046875 74.21875 50.515625 64.515625 \nQ 56.984375 54.828125 56.984375 36.375 \nQ 56.984375 17.96875 50.515625 8.265625 \nQ 44.046875 -1.421875 31.78125 -1.421875 \nQ 19.53125 -1.421875 13.0625 8.265625 \nQ 6.59375 17.96875 6.59375 36.375 \nQ 6.59375 54.828125 13.0625 64.515625 \nQ 19.53125 74.21875 31.78125 74.21875 \nz\n\" id=\"DejaVuSans-48\"/>\n       </defs>\n       <use xlink:href=\"#DejaVuSans-48\"/>\n      </g>\n     </g>\n    </g>\n    <g id=\"xtick_2\">\n     <g id=\"line2d_2\">\n      <g>\n       <use style=\"stroke:#000000;stroke-width:0.8;\" x=\"224.758125\" xlink:href=\"#m757ff5fd58\" y=\"224.64\"/>\n      </g>\n     </g>\n     <g id=\"text_2\">\n      <!-- 1 -->\n      <g transform=\"translate(221.576875 239.238437)scale(0.1 -0.1)\">\n       <defs>\n        <path d=\"M 12.40625 8.296875 \nL 28.515625 8.296875 \nL 28.515625 63.921875 \nL 10.984375 60.40625 \nL 10.984375 69.390625 \nL 28.421875 72.90625 \nL 38.28125 72.90625 \nL 38.28125 8.296875 \nL 54.390625 8.296875 \nL 54.390625 0 \nL 12.40625 0 \nz\n\" id=\"DejaVuSans-49\"/>\n       </defs>\n       <use xlink:href=\"#DejaVuSans-49\"/>\n      </g>\n     </g>\n    </g>\n   </g>\n   <g id=\"matplotlib.axis_2\">\n    <g id=\"ytick_1\">\n     <g id=\"line2d_3\">\n      <defs>\n       <path d=\"M 0 0 \nL -3.5 0 \n\" id=\"m7ac7da89d3\" style=\"stroke:#000000;stroke-width:0.8;\"/>\n      </defs>\n      <g>\n       <use style=\"stroke:#000000;stroke-width:0.8;\" x=\"23.878125\" xlink:href=\"#m7ac7da89d3\" y=\"61.56\"/>\n      </g>\n     </g>\n     <g id=\"text_3\">\n      <!-- 0 -->\n      <g transform=\"translate(14.798438 64.123281)rotate(-90)scale(0.1 -0.1)\">\n       <use xlink:href=\"#DejaVuSans-48\"/>\n      </g>\n     </g>\n    </g>\n    <g id=\"ytick_2\">\n     <g id=\"line2d_4\">\n      <g>\n       <use style=\"stroke:#000000;stroke-width:0.8;\" x=\"23.878125\" xlink:href=\"#m7ac7da89d3\" y=\"170.28\"/>\n      </g>\n     </g>\n     <g id=\"text_4\">\n      <!-- 1 -->\n      <g transform=\"translate(14.798438 172.843281)rotate(-90)scale(0.1 -0.1)\">\n       <use xlink:href=\"#DejaVuSans-49\"/>\n      </g>\n     </g>\n    </g>\n   </g>\n   <g id=\"text_5\">\n    <!-- 66794 -->\n    <g style=\"fill:#ffffff;\" transform=\"translate(74.931875 64.319375)scale(0.1 -0.1)\">\n     <defs>\n      <path d=\"M 33.015625 40.375 \nQ 26.375 40.375 22.484375 35.828125 \nQ 18.609375 31.296875 18.609375 23.390625 \nQ 18.609375 15.53125 22.484375 10.953125 \nQ 26.375 6.390625 33.015625 6.390625 \nQ 39.65625 6.390625 43.53125 10.953125 \nQ 47.40625 15.53125 47.40625 23.390625 \nQ 47.40625 31.296875 43.53125 35.828125 \nQ 39.65625 40.375 33.015625 40.375 \nz\nM 52.59375 71.296875 \nL 52.59375 62.3125 \nQ 48.875 64.0625 45.09375 64.984375 \nQ 41.3125 65.921875 37.59375 65.921875 \nQ 27.828125 65.921875 22.671875 59.328125 \nQ 17.53125 52.734375 16.796875 39.40625 \nQ 19.671875 43.65625 24.015625 45.921875 \nQ 28.375 48.1875 33.59375 48.1875 \nQ 44.578125 48.1875 50.953125 41.515625 \nQ 57.328125 34.859375 57.328125 23.390625 \nQ 57.328125 12.15625 50.6875 5.359375 \nQ 44.046875 -1.421875 33.015625 -1.421875 \nQ 20.359375 -1.421875 13.671875 8.265625 \nQ 6.984375 17.96875 6.984375 36.375 \nQ 6.984375 53.65625 15.1875 63.9375 \nQ 23.390625 74.21875 37.203125 74.21875 \nQ 40.921875 74.21875 44.703125 73.484375 \nQ 48.484375 72.75 52.59375 71.296875 \nz\n\" id=\"DejaVuSans-54\"/>\n      <path d=\"M 8.203125 72.90625 \nL 55.078125 72.90625 \nL 55.078125 68.703125 \nL 28.609375 0 \nL 18.3125 0 \nL 43.21875 64.59375 \nL 8.203125 64.59375 \nz\n\" id=\"DejaVuSans-55\"/>\n      <path d=\"M 10.984375 1.515625 \nL 10.984375 10.5 \nQ 14.703125 8.734375 18.5 7.8125 \nQ 22.3125 6.890625 25.984375 6.890625 \nQ 35.75 6.890625 40.890625 13.453125 \nQ 46.046875 20.015625 46.78125 33.40625 \nQ 43.953125 29.203125 39.59375 26.953125 \nQ 35.25 24.703125 29.984375 24.703125 \nQ 19.046875 24.703125 12.671875 31.3125 \nQ 6.296875 37.9375 6.296875 49.421875 \nQ 6.296875 60.640625 12.9375 67.421875 \nQ 19.578125 74.21875 30.609375 74.21875 \nQ 43.265625 74.21875 49.921875 64.515625 \nQ 56.59375 54.828125 56.59375 36.375 \nQ 56.59375 19.140625 48.40625 8.859375 \nQ 40.234375 -1.421875 26.421875 -1.421875 \nQ 22.703125 -1.421875 18.890625 -0.6875 \nQ 15.09375 0.046875 10.984375 1.515625 \nz\nM 30.609375 32.421875 \nQ 37.25 32.421875 41.125 36.953125 \nQ 45.015625 41.5 45.015625 49.421875 \nQ 45.015625 57.28125 41.125 61.84375 \nQ 37.25 66.40625 30.609375 66.40625 \nQ 23.96875 66.40625 20.09375 61.84375 \nQ 16.21875 57.28125 16.21875 49.421875 \nQ 16.21875 41.5 20.09375 36.953125 \nQ 23.96875 32.421875 30.609375 32.421875 \nz\n\" id=\"DejaVuSans-57\"/>\n      <path d=\"M 37.796875 64.3125 \nL 12.890625 25.390625 \nL 37.796875 25.390625 \nz\nM 35.203125 72.90625 \nL 47.609375 72.90625 \nL 47.609375 25.390625 \nL 58.015625 25.390625 \nL 58.015625 17.1875 \nL 47.609375 17.1875 \nL 47.609375 0 \nL 37.796875 0 \nL 37.796875 17.1875 \nL 4.890625 17.1875 \nL 4.890625 26.703125 \nz\n\" id=\"DejaVuSans-52\"/>\n     </defs>\n     <use xlink:href=\"#DejaVuSans-54\"/>\n     <use x=\"63.623047\" xlink:href=\"#DejaVuSans-54\"/>\n     <use x=\"127.246094\" xlink:href=\"#DejaVuSans-55\"/>\n     <use x=\"190.869141\" xlink:href=\"#DejaVuSans-57\"/>\n     <use x=\"254.492188\" xlink:href=\"#DejaVuSans-52\"/>\n    </g>\n   </g>\n   <g id=\"text_6\">\n    <!-- 25 -->\n    <g style=\"fill:#262626;\" transform=\"translate(218.395625 64.319375)scale(0.1 -0.1)\">\n     <defs>\n      <path d=\"M 19.1875 8.296875 \nL 53.609375 8.296875 \nL 53.609375 0 \nL 7.328125 0 \nL 7.328125 8.296875 \nQ 12.9375 14.109375 22.625 23.890625 \nQ 32.328125 33.6875 34.8125 36.53125 \nQ 39.546875 41.84375 41.421875 45.53125 \nQ 43.3125 49.21875 43.3125 52.78125 \nQ 43.3125 58.59375 39.234375 62.25 \nQ 35.15625 65.921875 28.609375 65.921875 \nQ 23.96875 65.921875 18.8125 64.3125 \nQ 13.671875 62.703125 7.8125 59.421875 \nL 7.8125 69.390625 \nQ 13.765625 71.78125 18.9375 73 \nQ 24.125 74.21875 28.421875 74.21875 \nQ 39.75 74.21875 46.484375 68.546875 \nQ 53.21875 62.890625 53.21875 53.421875 \nQ 53.21875 48.921875 51.53125 44.890625 \nQ 49.859375 40.875 45.40625 35.40625 \nQ 44.1875 33.984375 37.640625 27.21875 \nQ 31.109375 20.453125 19.1875 8.296875 \nz\n\" id=\"DejaVuSans-50\"/>\n      <path d=\"M 10.796875 72.90625 \nL 49.515625 72.90625 \nL 49.515625 64.59375 \nL 19.828125 64.59375 \nL 19.828125 46.734375 \nQ 21.96875 47.46875 24.109375 47.828125 \nQ 26.265625 48.1875 28.421875 48.1875 \nQ 40.625 48.1875 47.75 41.5 \nQ 54.890625 34.8125 54.890625 23.390625 \nQ 54.890625 11.625 47.5625 5.09375 \nQ 40.234375 -1.421875 26.90625 -1.421875 \nQ 22.3125 -1.421875 17.546875 -0.640625 \nQ 12.796875 0.140625 7.71875 1.703125 \nL 7.71875 11.625 \nQ 12.109375 9.234375 16.796875 8.0625 \nQ 21.484375 6.890625 26.703125 6.890625 \nQ 35.15625 6.890625 40.078125 11.328125 \nQ 45.015625 15.765625 45.015625 23.390625 \nQ 45.015625 31 40.078125 35.4375 \nQ 35.15625 39.890625 26.703125 39.890625 \nQ 22.75 39.890625 18.8125 39.015625 \nQ 14.890625 38.140625 10.796875 36.28125 \nz\n\" id=\"DejaVuSans-53\"/>\n     </defs>\n     <use xlink:href=\"#DejaVuSans-50\"/>\n     <use x=\"63.623047\" xlink:href=\"#DejaVuSans-53\"/>\n    </g>\n   </g>\n   <g id=\"text_7\">\n    <!-- 94 -->\n    <g style=\"fill:#262626;\" transform=\"translate(84.475625 173.039375)scale(0.1 -0.1)\">\n     <use xlink:href=\"#DejaVuSans-57\"/>\n     <use x=\"63.623047\" xlink:href=\"#DejaVuSans-52\"/>\n    </g>\n   </g>\n   <g id=\"text_8\">\n    <!-- 50 -->\n    <g style=\"fill:#262626;\" transform=\"translate(218.395625 173.039375)scale(0.1 -0.1)\">\n     <use xlink:href=\"#DejaVuSans-53\"/>\n     <use x=\"63.623047\" xlink:href=\"#DejaVuSans-48\"/>\n    </g>\n   </g>\n  </g>\n  <g id=\"axes_2\">\n   <g id=\"patch_3\">\n    <path clip-path=\"url(#p2769cb4569)\" d=\"M 308.458125 224.64 \nL 308.458125 223.790625 \nL 308.458125 8.049375 \nL 308.458125 7.2 \nL 319.330125 7.2 \nL 319.330125 8.049375 \nL 319.330125 223.790625 \nL 319.330125 224.64 \nz\n\" style=\"fill:#ffffff;stroke:#ffffff;stroke-linejoin:miter;stroke-width:0.01;\"/>\n   </g>\n   <image height=\"217\" id=\"imageda672e16a2\" transform=\"scale(1 -1)translate(0 -217)\" width=\"11\" x=\"308\" xlink:href=\"data:image/png;base64,\niVBORw0KGgoAAAANSUhEUgAAAAsAAADZCAYAAAD2WsoCAAABb0lEQVR4nN2aQY7AIAwDjcT/37d/WUj2C5nDSHR7tizHMTQtrOqfzvDZSU2x2d1j4uwEgDtXktFEBtQMrGPMTZoiyvB8tgqEEUUyLDe6QfhhRLXws4haqZuLSPacN9lABWZec/AVZTzBbBYIfEbMpWn+IjNqd5GmsNX9SIGE+QA0sw4tK5QNVCDS/MvcsMAXRZQwnzdkmNYB8CmS5zkxLtDyGboBwGwrmBOb2Tiaz+hFb+51AOy5IYZ/TkzdIFuBJ8Nz46IC34io5wZrtxZ+NjEiGUAHlEFeE3Ay15iRZs+6T7qBZDxh3RUL9MCWdReMXxv8J8sOWSkhBS7GPMZmB4y5TDP4lZu9GDMBg/QzzdCNN9rN3PhguxEz+P432+1tMuCLVyyQRdTbGLU8M+sYmMgQ3UB5/ucFenn2ZCxvK9CmAsRcfeZgOF6iGck7SQdg6IZ1oO9dnICaPTc0MDmjr9IKFJuC7smQ8Be6vPSCG3+tXKbtOR2HywAAAABJRU5ErkJggg==\" y=\"-7\"/>\n   <g id=\"matplotlib.axis_3\"/>\n   <g id=\"matplotlib.axis_4\">\n    <g id=\"ytick_3\">\n     <g id=\"line2d_5\">\n      <defs>\n       <path d=\"M 0 0 \nL 3.5 0 \n\" id=\"m70fb74aff9\" style=\"stroke:#000000;stroke-width:0.8;\"/>\n      </defs>\n      <g>\n       <use style=\"stroke:#000000;stroke-width:0.8;\" x=\"319.330125\" xlink:href=\"#m70fb74aff9\" y=\"192.155404\"/>\n      </g>\n     </g>\n     <g id=\"text_9\">\n      <!-- 10000 -->\n      <g transform=\"translate(326.330125 195.954623)scale(0.1 -0.1)\">\n       <use xlink:href=\"#DejaVuSans-49\"/>\n       <use x=\"63.623047\" xlink:href=\"#DejaVuSans-48\"/>\n       <use x=\"127.246094\" xlink:href=\"#DejaVuSans-48\"/>\n       <use x=\"190.869141\" xlink:href=\"#DejaVuSans-48\"/>\n       <use x=\"254.492188\" xlink:href=\"#DejaVuSans-48\"/>\n      </g>\n     </g>\n    </g>\n    <g id=\"ytick_4\">\n     <g id=\"line2d_6\">\n      <g>\n       <use style=\"stroke:#000000;stroke-width:0.8;\" x=\"319.330125\" xlink:href=\"#m70fb74aff9\" y=\"159.589393\"/>\n      </g>\n     </g>\n     <g id=\"text_10\">\n      <!-- 20000 -->\n      <g transform=\"translate(326.330125 163.388611)scale(0.1 -0.1)\">\n       <use xlink:href=\"#DejaVuSans-50\"/>\n       <use x=\"63.623047\" xlink:href=\"#DejaVuSans-48\"/>\n       <use x=\"127.246094\" xlink:href=\"#DejaVuSans-48\"/>\n       <use x=\"190.869141\" xlink:href=\"#DejaVuSans-48\"/>\n       <use x=\"254.492188\" xlink:href=\"#DejaVuSans-48\"/>\n      </g>\n     </g>\n    </g>\n    <g id=\"ytick_5\">\n     <g id=\"line2d_7\">\n      <g>\n       <use style=\"stroke:#000000;stroke-width:0.8;\" x=\"319.330125\" xlink:href=\"#m70fb74aff9\" y=\"127.023382\"/>\n      </g>\n     </g>\n     <g id=\"text_11\">\n      <!-- 30000 -->\n      <g transform=\"translate(326.330125 130.8226)scale(0.1 -0.1)\">\n       <defs>\n        <path d=\"M 40.578125 39.3125 \nQ 47.65625 37.796875 51.625 33 \nQ 55.609375 28.21875 55.609375 21.1875 \nQ 55.609375 10.40625 48.1875 4.484375 \nQ 40.765625 -1.421875 27.09375 -1.421875 \nQ 22.515625 -1.421875 17.65625 -0.515625 \nQ 12.796875 0.390625 7.625 2.203125 \nL 7.625 11.71875 \nQ 11.71875 9.328125 16.59375 8.109375 \nQ 21.484375 6.890625 26.8125 6.890625 \nQ 36.078125 6.890625 40.9375 10.546875 \nQ 45.796875 14.203125 45.796875 21.1875 \nQ 45.796875 27.640625 41.28125 31.265625 \nQ 36.765625 34.90625 28.71875 34.90625 \nL 20.21875 34.90625 \nL 20.21875 43.015625 \nL 29.109375 43.015625 \nQ 36.375 43.015625 40.234375 45.921875 \nQ 44.09375 48.828125 44.09375 54.296875 \nQ 44.09375 59.90625 40.109375 62.90625 \nQ 36.140625 65.921875 28.71875 65.921875 \nQ 24.65625 65.921875 20.015625 65.03125 \nQ 15.375 64.15625 9.8125 62.3125 \nL 9.8125 71.09375 \nQ 15.4375 72.65625 20.34375 73.4375 \nQ 25.25 74.21875 29.59375 74.21875 \nQ 40.828125 74.21875 47.359375 69.109375 \nQ 53.90625 64.015625 53.90625 55.328125 \nQ 53.90625 49.265625 50.4375 45.09375 \nQ 46.96875 40.921875 40.578125 39.3125 \nz\n\" id=\"DejaVuSans-51\"/>\n       </defs>\n       <use xlink:href=\"#DejaVuSans-51\"/>\n       <use x=\"63.623047\" xlink:href=\"#DejaVuSans-48\"/>\n       <use x=\"127.246094\" xlink:href=\"#DejaVuSans-48\"/>\n       <use x=\"190.869141\" xlink:href=\"#DejaVuSans-48\"/>\n       <use x=\"254.492188\" xlink:href=\"#DejaVuSans-48\"/>\n      </g>\n     </g>\n    </g>\n    <g id=\"ytick_6\">\n     <g id=\"line2d_8\">\n      <g>\n       <use style=\"stroke:#000000;stroke-width:0.8;\" x=\"319.330125\" xlink:href=\"#m70fb74aff9\" y=\"94.45737\"/>\n      </g>\n     </g>\n     <g id=\"text_12\">\n      <!-- 40000 -->\n      <g transform=\"translate(326.330125 98.256589)scale(0.1 -0.1)\">\n       <use xlink:href=\"#DejaVuSans-52\"/>\n       <use x=\"63.623047\" xlink:href=\"#DejaVuSans-48\"/>\n       <use x=\"127.246094\" xlink:href=\"#DejaVuSans-48\"/>\n       <use x=\"190.869141\" xlink:href=\"#DejaVuSans-48\"/>\n       <use x=\"254.492188\" xlink:href=\"#DejaVuSans-48\"/>\n      </g>\n     </g>\n    </g>\n    <g id=\"ytick_7\">\n     <g id=\"line2d_9\">\n      <g>\n       <use style=\"stroke:#000000;stroke-width:0.8;\" x=\"319.330125\" xlink:href=\"#m70fb74aff9\" y=\"61.891359\"/>\n      </g>\n     </g>\n     <g id=\"text_13\">\n      <!-- 50000 -->\n      <g transform=\"translate(326.330125 65.690578)scale(0.1 -0.1)\">\n       <use xlink:href=\"#DejaVuSans-53\"/>\n       <use x=\"63.623047\" xlink:href=\"#DejaVuSans-48\"/>\n       <use x=\"127.246094\" xlink:href=\"#DejaVuSans-48\"/>\n       <use x=\"190.869141\" xlink:href=\"#DejaVuSans-48\"/>\n       <use x=\"254.492188\" xlink:href=\"#DejaVuSans-48\"/>\n      </g>\n     </g>\n    </g>\n    <g id=\"ytick_8\">\n     <g id=\"line2d_10\">\n      <g>\n       <use style=\"stroke:#000000;stroke-width:0.8;\" x=\"319.330125\" xlink:href=\"#m70fb74aff9\" y=\"29.325348\"/>\n      </g>\n     </g>\n     <g id=\"text_14\">\n      <!-- 60000 -->\n      <g transform=\"translate(326.330125 33.124567)scale(0.1 -0.1)\">\n       <use xlink:href=\"#DejaVuSans-54\"/>\n       <use x=\"63.623047\" xlink:href=\"#DejaVuSans-48\"/>\n       <use x=\"127.246094\" xlink:href=\"#DejaVuSans-48\"/>\n       <use x=\"190.869141\" xlink:href=\"#DejaVuSans-48\"/>\n       <use x=\"254.492188\" xlink:href=\"#DejaVuSans-48\"/>\n      </g>\n     </g>\n    </g>\n   </g>\n   <g id=\"patch_4\">\n    <path d=\"M 308.458125 224.64 \nL 308.458125 223.790625 \nL 308.458125 8.049375 \nL 308.458125 7.2 \nL 319.330125 7.2 \nL 319.330125 8.049375 \nL 319.330125 223.790625 \nL 319.330125 224.64 \nz\n\" style=\"fill:none;\"/>\n   </g>\n  </g>\n </g>\n <defs>\n  <clipPath id=\"p02a43579da\">\n   <rect height=\"217.44\" width=\"267.84\" x=\"23.878125\" y=\"7.2\"/>\n  </clipPath>\n  <clipPath id=\"p2769cb4569\">\n   <rect height=\"217.44\" width=\"10.872\" x=\"308.458125\" y=\"7.2\"/>\n  </clipPath>\n </defs>\n</svg>\n",
      "image/png": "[encoded data removed]"
     },
     "metadata": {
      "needs_background": "light"
     }
    }
   ],
   "source": [
    "cm = confusion_matrix(actual, predicted)\n",
    "sns.heatmap(cm, cmap='YlGnBu', annot=True, fmt='d', linewidths=.5);"
   ]
  },
  {
   "cell_type": "code",
   "execution_count": 45,
   "metadata": {},
   "outputs": [
    {
     "output_type": "stream",
     "name": "stdout",
     "text": [
      "[[-6.64444808e-01  7.19333657e-06 -2.10174121e-01 -4.98494917e-02\n  -7.62426015e-01]]\n[-0.29361026]\n"
     ]
    }
   ],
   "source": [
    "lr = LogisticRegression()\n",
    "lr.fit(X_train, y_train)\n",
    "print(lr.coef_)\n",
    "print(lr.intercept_)"
   ]
  },
  {
   "cell_type": "code",
   "execution_count": 66,
   "metadata": {},
   "outputs": [
    {
     "output_type": "execute_result",
     "data": {
      "text/plain": [
       "array([[28619,    31],\n",
       "       [   28,    21]])"
      ]
     },
     "metadata": {},
     "execution_count": 66
    }
   ],
   "source": [
    "mythreshold = 0.07\n",
    "decisions = (lr.predict_proba(X_test)[:,1] >= mythreshold).astype(int)\n",
    "confusion_matrix(y_test, decisions)"
   ]
  },
  {
   "cell_type": "code",
   "execution_count": null,
   "metadata": {},
   "outputs": [],
   "source": []
  }
 ],
 "metadata": {
  "kernelspec": {
   "display_name": "Python 3",
   "language": "python",
   "name": "python3"
  },
  "language_info": {
   "codemirror_mode": {
    "name": "ipython",
    "version": 3
   },
   "file_extension": ".py",
   "mimetype": "text/x-python",
   "name": "python",
   "nbconvert_exporter": "python",
   "pygments_lexer": "ipython3",
   "version": "3.8.5-final"
  }
 },
 "nbformat": 4,
 "nbformat_minor": 5
}