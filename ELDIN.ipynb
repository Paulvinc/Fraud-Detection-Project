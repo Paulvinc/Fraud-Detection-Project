{
 "cells": [
  {
   "cell_type": "code",
   "execution_count": 1,
   "id": "previous-idaho",
   "metadata": {},
   "outputs": [],
   "source": [
    "import pandas as pd\n",
    "import numpy as np\n",
    "\n",
    "from datetime import datetime"
   ]
  },
  {
   "cell_type": "code",
   "execution_count": 2,
   "id": "related-arthritis",
   "metadata": {},
   "outputs": [
    {
     "output_type": "execute_result",
     "data": {
      "text/plain": [
       "(95662, 16)"
      ]
     },
     "metadata": {},
     "execution_count": 2
    }
   ],
   "source": [
    "df = pd.read_csv('data/training.csv')\n",
    "df.shape"
   ]
  },
  {
   "cell_type": "code",
   "execution_count": 3,
   "id": "finnish-basin",
   "metadata": {},
   "outputs": [
    {
     "output_type": "execute_result",
     "data": {
      "text/plain": [
       "         TransactionId         BatchId       AccountId       SubscriptionId  \\\n",
       "0  TransactionId_76871   BatchId_36123  AccountId_3957   SubscriptionId_887   \n",
       "1  TransactionId_73770   BatchId_15642  AccountId_4841  SubscriptionId_3829   \n",
       "2  TransactionId_26203   BatchId_53941  AccountId_4229   SubscriptionId_222   \n",
       "3    TransactionId_380  BatchId_102363   AccountId_648  SubscriptionId_2185   \n",
       "4  TransactionId_28195   BatchId_38780  AccountId_4841  SubscriptionId_3829   \n",
       "\n",
       "        CustomerId CurrencyCode  CountryCode    ProviderId     ProductId  \\\n",
       "0  CustomerId_4406          UGX          256  ProviderId_6  ProductId_10   \n",
       "1  CustomerId_4406          UGX          256  ProviderId_4   ProductId_6   \n",
       "2  CustomerId_4683          UGX          256  ProviderId_6   ProductId_1   \n",
       "3   CustomerId_988          UGX          256  ProviderId_1  ProductId_21   \n",
       "4   CustomerId_988          UGX          256  ProviderId_4   ProductId_6   \n",
       "\n",
       "      ProductCategory    ChannelId   Amount  Value  TransactionStartTime  \\\n",
       "0             airtime  ChannelId_3   1000.0   1000  2018-11-15T02:18:49Z   \n",
       "1  financial_services  ChannelId_2    -20.0     20  2018-11-15T02:19:08Z   \n",
       "2             airtime  ChannelId_3    500.0    500  2018-11-15T02:44:21Z   \n",
       "3        utility_bill  ChannelId_3  20000.0  21800  2018-11-15T03:32:55Z   \n",
       "4  financial_services  ChannelId_2   -644.0    644  2018-11-15T03:34:21Z   \n",
       "\n",
       "   PricingStrategy  FraudResult  \n",
       "0                2            0  \n",
       "1                2            0  \n",
       "2                2            0  \n",
       "3                2            0  \n",
       "4                2            0  "
      ],
      "text/html": "<div>\n<style scoped>\n    .dataframe tbody tr th:only-of-type {\n        vertical-align: middle;\n    }\n\n    .dataframe tbody tr th {\n        vertical-align: top;\n    }\n\n    .dataframe thead th {\n        text-align: right;\n    }\n</style>\n<table border=\"1\" class=\"dataframe\">\n  <thead>\n    <tr style=\"text-align: right;\">\n      <th></th>\n      <th>TransactionId</th>\n      <th>BatchId</th>\n      <th>AccountId</th>\n      <th>SubscriptionId</th>\n      <th>CustomerId</th>\n      <th>CurrencyCode</th>\n      <th>CountryCode</th>\n      <th>ProviderId</th>\n      <th>ProductId</th>\n      <th>ProductCategory</th>\n      <th>ChannelId</th>\n      <th>Amount</th>\n      <th>Value</th>\n      <th>TransactionStartTime</th>\n      <th>PricingStrategy</th>\n      <th>FraudResult</th>\n    </tr>\n  </thead>\n  <tbody>\n    <tr>\n      <th>0</th>\n      <td>TransactionId_76871</td>\n      <td>BatchId_36123</td>\n      <td>AccountId_3957</td>\n      <td>SubscriptionId_887</td>\n      <td>CustomerId_4406</td>\n      <td>UGX</td>\n      <td>256</td>\n      <td>ProviderId_6</td>\n      <td>ProductId_10</td>\n      <td>airtime</td>\n      <td>ChannelId_3</td>\n      <td>1000.0</td>\n      <td>1000</td>\n      <td>2018-11-15T02:18:49Z</td>\n      <td>2</td>\n      <td>0</td>\n    </tr>\n    <tr>\n      <th>1</th>\n      <td>TransactionId_73770</td>\n      <td>BatchId_15642</td>\n      <td>AccountId_4841</td>\n      <td>SubscriptionId_3829</td>\n      <td>CustomerId_4406</td>\n      <td>UGX</td>\n      <td>256</td>\n      <td>ProviderId_4</td>\n      <td>ProductId_6</td>\n      <td>financial_services</td>\n      <td>ChannelId_2</td>\n      <td>-20.0</td>\n      <td>20</td>\n      <td>2018-11-15T02:19:08Z</td>\n      <td>2</td>\n      <td>0</td>\n    </tr>\n    <tr>\n      <th>2</th>\n      <td>TransactionId_26203</td>\n      <td>BatchId_53941</td>\n      <td>AccountId_4229</td>\n      <td>SubscriptionId_222</td>\n      <td>CustomerId_4683</td>\n      <td>UGX</td>\n      <td>256</td>\n      <td>ProviderId_6</td>\n      <td>ProductId_1</td>\n      <td>airtime</td>\n      <td>ChannelId_3</td>\n      <td>500.0</td>\n      <td>500</td>\n      <td>2018-11-15T02:44:21Z</td>\n      <td>2</td>\n      <td>0</td>\n    </tr>\n    <tr>\n      <th>3</th>\n      <td>TransactionId_380</td>\n      <td>BatchId_102363</td>\n      <td>AccountId_648</td>\n      <td>SubscriptionId_2185</td>\n      <td>CustomerId_988</td>\n      <td>UGX</td>\n      <td>256</td>\n      <td>ProviderId_1</td>\n      <td>ProductId_21</td>\n      <td>utility_bill</td>\n      <td>ChannelId_3</td>\n      <td>20000.0</td>\n      <td>21800</td>\n      <td>2018-11-15T03:32:55Z</td>\n      <td>2</td>\n      <td>0</td>\n    </tr>\n    <tr>\n      <th>4</th>\n      <td>TransactionId_28195</td>\n      <td>BatchId_38780</td>\n      <td>AccountId_4841</td>\n      <td>SubscriptionId_3829</td>\n      <td>CustomerId_988</td>\n      <td>UGX</td>\n      <td>256</td>\n      <td>ProviderId_4</td>\n      <td>ProductId_6</td>\n      <td>financial_services</td>\n      <td>ChannelId_2</td>\n      <td>-644.0</td>\n      <td>644</td>\n      <td>2018-11-15T03:34:21Z</td>\n      <td>2</td>\n      <td>0</td>\n    </tr>\n  </tbody>\n</table>\n</div>"
     },
     "metadata": {},
     "execution_count": 3
    }
   ],
   "source": [
    "df.head()"
   ]
  },
  {
   "cell_type": "code",
   "execution_count": 4,
   "id": "banner-sigma",
   "metadata": {},
   "outputs": [
    {
     "output_type": "stream",
     "name": "stdout",
     "text": [
      "<class 'pandas.core.frame.DataFrame'>\nRangeIndex: 95662 entries, 0 to 95661\nData columns (total 16 columns):\n #   Column                Non-Null Count  Dtype  \n---  ------                --------------  -----  \n 0   TransactionId         95662 non-null  object \n 1   BatchId               95662 non-null  object \n 2   AccountId             95662 non-null  object \n 3   SubscriptionId        95662 non-null  object \n 4   CustomerId            95662 non-null  object \n 5   CurrencyCode          95662 non-null  object \n 6   CountryCode           95662 non-null  int64  \n 7   ProviderId            95662 non-null  object \n 8   ProductId             95662 non-null  object \n 9   ProductCategory       95662 non-null  object \n 10  ChannelId             95662 non-null  object \n 11  Amount                95662 non-null  float64\n 12  Value                 95662 non-null  int64  \n 13  TransactionStartTime  95662 non-null  object \n 14  PricingStrategy       95662 non-null  int64  \n 15  FraudResult           95662 non-null  int64  \ndtypes: float64(1), int64(4), object(11)\nmemory usage: 11.7+ MB\n"
     ]
    }
   ],
   "source": [
    "df.info()"
   ]
  },
  {
   "cell_type": "code",
   "execution_count": 5,
   "metadata": {},
   "outputs": [
    {
     "output_type": "execute_result",
     "data": {
      "text/plain": [
       "TransactionId           95662\n",
       "BatchId                 94809\n",
       "AccountId                3633\n",
       "SubscriptionId           3627\n",
       "CustomerId               3742\n",
       "CurrencyCode                1\n",
       "CountryCode                 1\n",
       "ProviderId                  6\n",
       "ProductId                  23\n",
       "ProductCategory             9\n",
       "ChannelId                   4\n",
       "Amount                   1676\n",
       "Value                    1517\n",
       "TransactionStartTime    94556\n",
       "PricingStrategy             4\n",
       "FraudResult                 2\n",
       "dtype: int64"
      ]
     },
     "metadata": {},
     "execution_count": 5
    }
   ],
   "source": [
    "df.nunique()"
   ]
  },
  {
   "source": [
    "## --> The following columns have just 1 distinct value and are therefore redundant:\n",
    "## - CurrencyCode\n",
    "## - CountryCode"
   ],
   "cell_type": "markdown",
   "metadata": {}
  },
  {
   "source": [
    "## Column \"Value\" is redundant as the same information (more distinct) is included in column \"amount\" "
   ],
   "cell_type": "markdown",
   "metadata": {}
  },
  {
   "source": [
    "## Checking logical relationship between BatchId and TransactionId: \n",
    "## --> One-to-many relatinship confirmed! BatchId column is just an aggregation and therefore redundant!"
   ],
   "cell_type": "markdown",
   "metadata": {}
  },
  {
   "cell_type": "code",
   "execution_count": 6,
   "metadata": {},
   "outputs": [
    {
     "output_type": "execute_result",
     "data": {
      "text/plain": [
       "TransactionId\n",
       "TransactionId_1        1\n",
       "TransactionId_57870    1\n",
       "TransactionId_57885    1\n",
       "TransactionId_57883    1\n",
       "TransactionId_57881    1\n",
       "                      ..\n",
       "TransactionId_1557     1\n",
       "TransactionId_15568    1\n",
       "TransactionId_15567    1\n",
       "TransactionId_15566    1\n",
       "TransactionId_99999    1\n",
       "Name: BatchId, Length: 95662, dtype: int64"
      ]
     },
     "metadata": {},
     "execution_count": 6
    }
   ],
   "source": [
    "# number of unique BatchId-values by TransactionId\n",
    "b_t = df.groupby('TransactionId').BatchId.nunique()\n",
    "b_t.sort_values(ascending = False)"
   ]
  },
  {
   "source": [
    "## Checking logical relationship between AccountId, SubscriptionId and CustomerId: \n",
    "## --> No consistent one-to-many relatinship detected!"
   ],
   "cell_type": "markdown",
   "metadata": {}
  },
  {
   "cell_type": "code",
   "execution_count": 7,
   "metadata": {},
   "outputs": [
    {
     "output_type": "execute_result",
     "data": {
      "text/plain": [
       "AccountId\n",
       "AccountId_4841    2\n",
       "AccountId_1       1\n",
       "AccountId_3871    1\n",
       "AccountId_3873    1\n",
       "AccountId_3875    1\n",
       "                 ..\n",
       "AccountId_2472    1\n",
       "AccountId_2473    1\n",
       "AccountId_2474    1\n",
       "AccountId_2476    1\n",
       "AccountId_998     1\n",
       "Name: SubscriptionId, Length: 3633, dtype: int64"
      ]
     },
     "metadata": {},
     "execution_count": 7
    }
   ],
   "source": [
    "# number of unique SubscriptionId-values by AccountId\n",
    "a_s = df.groupby('AccountId').SubscriptionId.nunique()\n",
    "a_s.sort_values(ascending = False)"
   ]
  },
  {
   "cell_type": "code",
   "execution_count": 8,
   "metadata": {},
   "outputs": [
    {
     "output_type": "execute_result",
     "data": {
      "text/plain": [
       "SubscriptionId\n",
       "SubscriptionId_4674    3\n",
       "SubscriptionId_3829    2\n",
       "SubscriptionId_375     2\n",
       "SubscriptionId_3495    2\n",
       "SubscriptionId_3489    2\n",
       "                      ..\n",
       "SubscriptionId_2484    1\n",
       "SubscriptionId_2485    1\n",
       "SubscriptionId_2487    1\n",
       "SubscriptionId_2488    1\n",
       "SubscriptionId_999     1\n",
       "Name: AccountId, Length: 3627, dtype: int64"
      ]
     },
     "metadata": {},
     "execution_count": 8
    }
   ],
   "source": [
    "# number of unique AccountId-values by SubscriptionId\n",
    "s_a = df.groupby('SubscriptionId').AccountId.nunique()\n",
    "s_a.sort_values(ascending = False)"
   ]
  },
  {
   "cell_type": "code",
   "execution_count": 9,
   "metadata": {},
   "outputs": [
    {
     "output_type": "execute_result",
     "data": {
      "text/plain": [
       "SubscriptionId\n",
       "SubscriptionId_3829    2623\n",
       "SubscriptionId_4346     182\n",
       "SubscriptionId_4429      56\n",
       "SubscriptionId_4836      31\n",
       "SubscriptionId_3350      14\n",
       "                       ... \n",
       "SubscriptionId_2485       1\n",
       "SubscriptionId_2487       1\n",
       "SubscriptionId_2488       1\n",
       "SubscriptionId_2489       1\n",
       "SubscriptionId_999        1\n",
       "Name: CustomerId, Length: 3627, dtype: int64"
      ]
     },
     "metadata": {},
     "execution_count": 9
    }
   ],
   "source": [
    "# number of unique CustomerId-values by SubscriptionId\n",
    "s_c = df.groupby('SubscriptionId').CustomerId.nunique()\n",
    "s_c.sort_values(ascending = False)"
   ]
  },
  {
   "cell_type": "code",
   "execution_count": 10,
   "metadata": {},
   "outputs": [
    {
     "output_type": "execute_result",
     "data": {
      "text/plain": [
       "CustomerId\n",
       "CustomerId_3716    3\n",
       "CustomerId_1335    3\n",
       "CustomerId_4113    3\n",
       "CustomerId_462     3\n",
       "CustomerId_4622    3\n",
       "                  ..\n",
       "CustomerId_4369    1\n",
       "CustomerId_4367    1\n",
       "CustomerId_2141    1\n",
       "CustomerId_2143    1\n",
       "CustomerId_1       1\n",
       "Name: SubscriptionId, Length: 3742, dtype: int64"
      ]
     },
     "metadata": {},
     "execution_count": 10
    }
   ],
   "source": [
    "# number of unique SubscriptionId-values by CustomerId\n",
    "c_s = df.groupby('CustomerId').SubscriptionId.nunique()\n",
    "c_s.sort_values(ascending = False)"
   ]
  },
  {
   "cell_type": "code",
   "execution_count": 11,
   "metadata": {},
   "outputs": [
    {
     "output_type": "execute_result",
     "data": {
      "text/plain": [
       "AccountId\n",
       "AccountId_4841    2577\n",
       "AccountId_4840    1723\n",
       "AccountId_10       182\n",
       "AccountId_4249      56\n",
       "AccountId_1074      20\n",
       "                  ... \n",
       "AccountId_2474       1\n",
       "AccountId_2476       1\n",
       "AccountId_2477       1\n",
       "AccountId_2478       1\n",
       "AccountId_998        1\n",
       "Name: CustomerId, Length: 3633, dtype: int64"
      ]
     },
     "metadata": {},
     "execution_count": 11
    }
   ],
   "source": [
    "# number of unique CustomerId-values by AccountId\n",
    "a_c = df.groupby('AccountId').CustomerId.nunique()\n",
    "a_c.sort_values(ascending = False)"
   ]
  },
  {
   "cell_type": "code",
   "execution_count": 12,
   "metadata": {},
   "outputs": [
    {
     "output_type": "execute_result",
     "data": {
      "text/plain": [
       "CustomerId\n",
       "CustomerId_606     5\n",
       "CustomerId_4336    4\n",
       "CustomerId_1438    4\n",
       "CustomerId_3716    4\n",
       "CustomerId_3391    4\n",
       "                  ..\n",
       "CustomerId_4683    1\n",
       "CustomerId_2636    1\n",
       "CustomerId_4678    1\n",
       "CustomerId_4677    1\n",
       "CustomerId_1       1\n",
       "Name: AccountId, Length: 3742, dtype: int64"
      ]
     },
     "metadata": {},
     "execution_count": 12
    }
   ],
   "source": [
    "# number of unique AccountId-values by CustomerId\n",
    "c_a = df.groupby('CustomerId').AccountId.nunique()\n",
    "c_a.sort_values(ascending = False)"
   ]
  },
  {
   "source": [
    "## Checking logical relationship between ProductCategory and ProductId: \n",
    "## --> One-to-many relatinship confirmed! ProductCategory column is just an aggregation and therefore redundant!"
   ],
   "cell_type": "markdown",
   "metadata": {}
  },
  {
   "cell_type": "code",
   "execution_count": 13,
   "metadata": {},
   "outputs": [
    {
     "output_type": "execute_result",
     "data": {
      "text/plain": [
       "ProductCategory     ProductId   \n",
       "airtime             ProductId_1      2885\n",
       "                    ProductId_10    15384\n",
       "                    ProductId_16       10\n",
       "                    ProductId_23        1\n",
       "                    ProductId_3     24344\n",
       "                    ProductId_4      2403\n",
       "data_bundles        ProductId_11     1377\n",
       "                    ProductId_2       236\n",
       "financial_services  ProductId_14      789\n",
       "                    ProductId_15    11964\n",
       "                    ProductId_6     32635\n",
       "                    ProductId_9        17\n",
       "movies              ProductId_24      175\n",
       "other               ProductId_12        2\n",
       "ticket              ProductId_20      216\n",
       "transport           ProductId_5        25\n",
       "tv                  ProductId_19      965\n",
       "                    ProductId_27       31\n",
       "                    ProductId_7        86\n",
       "                    ProductId_8       197\n",
       "utility_bill        ProductId_13      296\n",
       "                    ProductId_21     1512\n",
       "                    ProductId_22      112\n",
       "Name: TransactionId, dtype: int64"
      ]
     },
     "metadata": {},
     "execution_count": 13
    }
   ],
   "source": [
    "# list ProductId-values by ProductCategory (incl. count of Transactions)\n",
    "df.groupby(['ProductCategory', 'ProductId']).count()['TransactionId']"
   ]
  },
  {
   "cell_type": "code",
   "execution_count": 14,
   "metadata": {},
   "outputs": [
    {
     "output_type": "execute_result",
     "data": {
      "text/plain": [
       "ProductId\n",
       "ProductId_1     1\n",
       "ProductId_22    1\n",
       "ProductId_8     1\n",
       "ProductId_7     1\n",
       "ProductId_6     1\n",
       "ProductId_5     1\n",
       "ProductId_4     1\n",
       "ProductId_3     1\n",
       "ProductId_27    1\n",
       "ProductId_24    1\n",
       "ProductId_23    1\n",
       "ProductId_21    1\n",
       "ProductId_10    1\n",
       "ProductId_20    1\n",
       "ProductId_2     1\n",
       "ProductId_19    1\n",
       "ProductId_16    1\n",
       "ProductId_15    1\n",
       "ProductId_14    1\n",
       "ProductId_13    1\n",
       "ProductId_12    1\n",
       "ProductId_11    1\n",
       "ProductId_9     1\n",
       "Name: ProductCategory, dtype: int64"
      ]
     },
     "metadata": {},
     "execution_count": 14
    }
   ],
   "source": [
    "# number of unique ProductCategory-values by ProductId\n",
    "p_pc = df.groupby('ProductId').ProductCategory.nunique()\n",
    "p_pc.sort_values(ascending = False)"
   ]
  },
  {
   "cell_type": "code",
   "execution_count": 15,
   "metadata": {},
   "outputs": [
    {
     "output_type": "stream",
     "name": "stdout",
     "text": [
      "<class 'pandas.core.frame.DataFrame'>\nRangeIndex: 95662 entries, 0 to 95661\nData columns (total 16 columns):\n #   Column                Non-Null Count  Dtype  \n---  ------                --------------  -----  \n 0   TransactionId         95662 non-null  object \n 1   BatchId               95662 non-null  object \n 2   AccountId             95662 non-null  object \n 3   SubscriptionId        95662 non-null  object \n 4   CustomerId            95662 non-null  object \n 5   CurrencyCode          95662 non-null  object \n 6   CountryCode           95662 non-null  int64  \n 7   ProviderId            95662 non-null  object \n 8   ProductId             95662 non-null  object \n 9   ProductCategory       95662 non-null  object \n 10  ChannelId             95662 non-null  object \n 11  Amount                95662 non-null  float64\n 12  Value                 95662 non-null  int64  \n 13  TransactionStartTime  95662 non-null  object \n 14  PricingStrategy       95662 non-null  int64  \n 15  FraudResult           95662 non-null  int64  \ndtypes: float64(1), int64(4), object(11)\nmemory usage: 11.7+ MB\n"
     ]
    }
   ],
   "source": [
    "df.info()"
   ]
  },
  {
   "source": [
    "## --> Removing redundant columns"
   ],
   "cell_type": "markdown",
   "metadata": {}
  },
  {
   "cell_type": "code",
   "execution_count": 16,
   "metadata": {},
   "outputs": [
    {
     "output_type": "stream",
     "name": "stdout",
     "text": [
      "<class 'pandas.core.frame.DataFrame'>\nRangeIndex: 95662 entries, 0 to 95661\nData columns (total 11 columns):\n #   Column                Non-Null Count  Dtype \n---  ------                --------------  ----- \n 0   TransactionId         95662 non-null  object\n 1   AccountId             95662 non-null  object\n 2   SubscriptionId        95662 non-null  object\n 3   CustomerId            95662 non-null  object\n 4   ProviderId            95662 non-null  object\n 5   ProductId             95662 non-null  object\n 6   ChannelId             95662 non-null  object\n 7   Value                 95662 non-null  int64 \n 8   TransactionStartTime  95662 non-null  object\n 9   PricingStrategy       95662 non-null  int64 \n 10  FraudResult           95662 non-null  int64 \ndtypes: int64(3), object(8)\nmemory usage: 8.0+ MB\n"
     ]
    }
   ],
   "source": [
    "# Remove these columns:\n",
    "drop_lst = ['BatchId', 'CurrencyCode', 'CountryCode', 'ProductCategory', 'Amount']\n",
    "# we would like to consider all variables except the ones mentioned above\n",
    "remaining_features = [x for x in df.columns if x not in drop_lst]\n",
    "df2 = df[remaining_features]\n",
    "df2.info()"
   ]
  },
  {
   "source": [
    "## Feature Engineering"
   ],
   "cell_type": "markdown",
   "metadata": {}
  },
  {
   "cell_type": "code",
   "execution_count": 17,
   "metadata": {},
   "outputs": [
    {
     "output_type": "stream",
     "name": "stderr",
     "text": [
      "<ipython-input-17-d54e636aded6>:2: SettingWithCopyWarning: \nA value is trying to be set on a copy of a slice from a DataFrame.\nTry using .loc[row_indexer,col_indexer] = value instead\n\nSee the caveats in the documentation: https://pandas.pydata.org/pandas-docs/stable/user_guide/indexing.html#returning-a-view-versus-a-copy\n  df2['TransactionStartTime'] = df2['TransactionStartTime'].str.replace('T', ' ')\n<ipython-input-17-d54e636aded6>:3: SettingWithCopyWarning: \nA value is trying to be set on a copy of a slice from a DataFrame.\nTry using .loc[row_indexer,col_indexer] = value instead\n\nSee the caveats in the documentation: https://pandas.pydata.org/pandas-docs/stable/user_guide/indexing.html#returning-a-view-versus-a-copy\n  df2['TransactionStartTime'] = df2['TransactionStartTime'].str.replace('Z', '')\n<ipython-input-17-d54e636aded6>:4: SettingWithCopyWarning: \nA value is trying to be set on a copy of a slice from a DataFrame.\nTry using .loc[row_indexer,col_indexer] = value instead\n\nSee the caveats in the documentation: https://pandas.pydata.org/pandas-docs/stable/user_guide/indexing.html#returning-a-view-versus-a-copy\n  df2['TransactionStartTime'] = pd.to_datetime(df2['TransactionStartTime'])\n"
     ]
    }
   ],
   "source": [
    "# Datatype TransactionStartTime\n",
    "df2['TransactionStartTime'] = df2['TransactionStartTime'].str.replace('T', ' ')\n",
    "df2['TransactionStartTime'] = df2['TransactionStartTime'].str.replace('Z', '')\n",
    "df2['TransactionStartTime'] = pd.to_datetime(df2['TransactionStartTime']) "
   ]
  },
  {
   "cell_type": "code",
   "execution_count": 18,
   "metadata": {},
   "outputs": [
    {
     "output_type": "stream",
     "name": "stdout",
     "text": [
      "<class 'pandas.core.frame.DataFrame'>\nRangeIndex: 95662 entries, 0 to 95661\nData columns (total 11 columns):\n #   Column                Non-Null Count  Dtype         \n---  ------                --------------  -----         \n 0   TransactionId         95662 non-null  object        \n 1   AccountId             95662 non-null  object        \n 2   SubscriptionId        95662 non-null  object        \n 3   CustomerId            95662 non-null  object        \n 4   ProviderId            95662 non-null  object        \n 5   ProductId             95662 non-null  object        \n 6   ChannelId             95662 non-null  object        \n 7   Value                 95662 non-null  int64         \n 8   TransactionStartTime  95662 non-null  datetime64[ns]\n 9   PricingStrategy       95662 non-null  int64         \n 10  FraudResult           95662 non-null  int64         \ndtypes: datetime64[ns](1), int64(3), object(7)\nmemory usage: 8.0+ MB\n"
     ]
    }
   ],
   "source": [
    "df2.info()"
   ]
  },
  {
   "cell_type": "code",
   "execution_count": 19,
   "metadata": {},
   "outputs": [
    {
     "output_type": "stream",
     "name": "stderr",
     "text": [
      "<ipython-input-19-f06ace958de2>:2: SettingWithCopyWarning: \nA value is trying to be set on a copy of a slice from a DataFrame.\nTry using .loc[row_indexer,col_indexer] = value instead\n\nSee the caveats in the documentation: https://pandas.pydata.org/pandas-docs/stable/user_guide/indexing.html#returning-a-view-versus-a-copy\n  df2['Year'] = df2['TransactionStartTime'].dt.year\n<ipython-input-19-f06ace958de2>:3: SettingWithCopyWarning: \nA value is trying to be set on a copy of a slice from a DataFrame.\nTry using .loc[row_indexer,col_indexer] = value instead\n\nSee the caveats in the documentation: https://pandas.pydata.org/pandas-docs/stable/user_guide/indexing.html#returning-a-view-versus-a-copy\n  df2['Month'] = df2['TransactionStartTime'].dt.month\n<ipython-input-19-f06ace958de2>:4: SettingWithCopyWarning: \nA value is trying to be set on a copy of a slice from a DataFrame.\nTry using .loc[row_indexer,col_indexer] = value instead\n\nSee the caveats in the documentation: https://pandas.pydata.org/pandas-docs/stable/user_guide/indexing.html#returning-a-view-versus-a-copy\n  df2['Day'] = df2['TransactionStartTime'].dt.day\n<ipython-input-19-f06ace958de2>:5: SettingWithCopyWarning: \nA value is trying to be set on a copy of a slice from a DataFrame.\nTry using .loc[row_indexer,col_indexer] = value instead\n\nSee the caveats in the documentation: https://pandas.pydata.org/pandas-docs/stable/user_guide/indexing.html#returning-a-view-versus-a-copy\n  df2['Hour'] = df2['TransactionStartTime'].dt.hour\n<ipython-input-19-f06ace958de2>:8: FutureWarning: Series.dt.weekofyear and Series.dt.week have been deprecated.  Please use Series.dt.isocalendar().week instead.\n  df2['week'] = df2['TransactionStartTime'].dt.week\n"
     ]
    }
   ],
   "source": [
    "# introducing columns for year, month, day, hour, minute, seconds, week and weekday\n",
    "df2['Year'] = df2['TransactionStartTime'].dt.year\n",
    "df2['Month'] = df2['TransactionStartTime'].dt.month\n",
    "df2['Day'] = df2['TransactionStartTime'].dt.day\n",
    "df2['Hour'] = df2['TransactionStartTime'].dt.hour\n",
    "df2['Minute'] = df2['TransactionStartTime'].dt.minute\n",
    "df2['Seconds'] = df2['TransactionStartTime'].dt.second\n",
    "df2['week'] = df2['TransactionStartTime'].dt.week\n",
    "df2['weekday'] = df2['TransactionStartTime'].dt.weekday"
   ]
  },
  {
   "cell_type": "code",
   "execution_count": 20,
   "metadata": {},
   "outputs": [
    {
     "output_type": "stream",
     "name": "stdout",
     "text": [
      "<class 'pandas.core.frame.DataFrame'>\nRangeIndex: 95662 entries, 0 to 95661\nData columns (total 19 columns):\n #   Column                Non-Null Count  Dtype         \n---  ------                --------------  -----         \n 0   TransactionId         95662 non-null  object        \n 1   AccountId             95662 non-null  object        \n 2   SubscriptionId        95662 non-null  object        \n 3   CustomerId            95662 non-null  object        \n 4   ProviderId            95662 non-null  object        \n 5   ProductId             95662 non-null  object        \n 6   ChannelId             95662 non-null  object        \n 7   Value                 95662 non-null  int64         \n 8   TransactionStartTime  95662 non-null  datetime64[ns]\n 9   PricingStrategy       95662 non-null  int64         \n 10  FraudResult           95662 non-null  int64         \n 11  Year                  95662 non-null  int64         \n 12  Month                 95662 non-null  int64         \n 13  Day                   95662 non-null  int64         \n 14  Hour                  95662 non-null  int64         \n 15  Minute                95662 non-null  int64         \n 16  Seconds               95662 non-null  int64         \n 17  week                  95662 non-null  int64         \n 18  weekday               95662 non-null  int64         \ndtypes: datetime64[ns](1), int64(11), object(7)\nmemory usage: 13.9+ MB\n"
     ]
    }
   ],
   "source": [
    "df2.info()"
   ]
  },
  {
   "cell_type": "code",
   "execution_count": 21,
   "metadata": {},
   "outputs": [
    {
     "output_type": "execute_result",
     "data": {
      "text/plain": [
       "array([3, 4, 5, 6, 0, 1, 2])"
      ]
     },
     "metadata": {},
     "execution_count": 21
    }
   ],
   "source": [
    "df2.weekday.unique()"
   ]
  },
  {
   "cell_type": "code",
   "execution_count": null,
   "metadata": {},
   "outputs": [],
   "source": []
  }
 ],
 "metadata": {
  "kernelspec": {
   "display_name": "Python 3",
   "language": "python",
   "name": "python3"
  },
  "language_info": {
   "codemirror_mode": {
    "name": "ipython",
    "version": 3
   },
   "file_extension": ".py",
   "mimetype": "text/x-python",
   "name": "python",
   "nbconvert_exporter": "python",
   "pygments_lexer": "ipython3",
   "version": "3.8.5-final"
  }
 },
 "nbformat": 4,
 "nbformat_minor": 5
}