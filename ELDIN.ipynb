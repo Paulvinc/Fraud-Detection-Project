{
 "cells": [
  {
   "cell_type": "code",
   "execution_count": 1,
   "id": "native-sight",
   "metadata": {},
   "outputs": [],
   "source": [
    "import pandas as pd\n",
    "import numpy as np\n",
    "import seaborn as sns\n",
    "\n",
    "from datetime import datetime\n",
    "from sklearn.model_selection import train_test_split\n",
    "from sklearn.linear_model import LogisticRegression\n",
    "from sklearn.pipeline import Pipeline\n",
    "from sklearn.compose import ColumnTransformer\n",
    "from sklearn.preprocessing import OneHotEncoder, StandardScaler\n",
    "from sklearn.metrics import accuracy_score\n",
    "from sklearn.metrics import confusion_matrix "
   ]
  },
  {
   "cell_type": "code",
   "execution_count": 2,
   "id": "swedish-wright",
   "metadata": {},
   "outputs": [
    {
     "data": {
      "text/plain": [
       "(95662, 16)"
      ]
     },
     "execution_count": 2,
     "metadata": {},
     "output_type": "execute_result"
    }
   ],
   "source": [
    "df = pd.read_csv('data/training.csv')\n",
    "df.shape"
   ]
  },
  {
   "cell_type": "code",
   "execution_count": 3,
   "id": "thirty-injection",
   "metadata": {},
   "outputs": [
    {
     "data": {
      "text/plain": [
       "(95662, 24)"
      ]
     },
     "execution_count": 3,
     "metadata": {},
     "output_type": "execute_result"
    }
   ],
   "source": [
    "df = pd.read_csv('data/zindi_paul.csv')\n",
    "df.shape"
   ]
  },
  {
   "cell_type": "code",
   "execution_count": 4,
   "id": "olive-diagnosis",
   "metadata": {},
   "outputs": [
    {
     "name": "stdout",
     "output_type": "stream",
     "text": [
      "<class 'pandas.core.frame.DataFrame'>\n",
      "Int64Index: 193 entries, 131 to 95268\n",
      "Data columns (total 24 columns):\n",
      " #   Column                Non-Null Count  Dtype  \n",
      "---  ------                --------------  -----  \n",
      " 0   Unnamed: 0            193 non-null    int64  \n",
      " 1   TransactionId         193 non-null    int64  \n",
      " 2   BatchId               193 non-null    int64  \n",
      " 3   AccountId             193 non-null    int64  \n",
      " 4   SubscriptionId        193 non-null    int64  \n",
      " 5   CustomerId            193 non-null    int64  \n",
      " 6   ProviderId            193 non-null    int64  \n",
      " 7   ProductId             193 non-null    int64  \n",
      " 8   ProductCategory       193 non-null    object \n",
      " 9   ChannelId             193 non-null    int64  \n",
      " 10  Amount                193 non-null    float64\n",
      " 11  Value                 193 non-null    int64  \n",
      " 12  TransactionStartTime  193 non-null    object \n",
      " 13  PricingStrategy       193 non-null    int64  \n",
      " 14  FraudResult           193 non-null    int64  \n",
      " 15  weekday               193 non-null    int64  \n",
      " 16  hour                  193 non-null    int64  \n",
      " 17  month                 193 non-null    int64  \n",
      " 18  Date                  193 non-null    object \n",
      " 19  transaction_day_cum   193 non-null    int64  \n",
      " 20  cum                   193 non-null    int64  \n",
      " 21  Amount_cum            193 non-null    float64\n",
      " 22  amount_day_cum        193 non-null    float64\n",
      " 23  amount_mean_day_cum   193 non-null    float64\n",
      "dtypes: float64(4), int64(17), object(3)\n",
      "memory usage: 37.7+ KB\n"
     ]
    }
   ],
   "source": [
    "fraud_df = df[df['FraudResult'] == 1]\n",
    "good_df = df[df['FraudResult'] == 0]\n",
    "fraud_df.info()"
   ]
  },
  {
   "cell_type": "code",
   "execution_count": 5,
   "id": "ongoing-royal",
   "metadata": {},
   "outputs": [
    {
     "data": {
      "text/plain": [
       "hour\n",
       "0      167\n",
       "1      176\n",
       "2      289\n",
       "3      707\n",
       "4     2329\n",
       "5     4155\n",
       "6     5318\n",
       "7     5714\n",
       "8     5631\n",
       "9     5433\n",
       "10    5982\n",
       "11    6217\n",
       "12    5238\n",
       "13    5207\n",
       "14    5171\n",
       "15    6277\n",
       "16    7288\n",
       "17    7279\n",
       "18    6319\n",
       "19    5128\n",
       "20    3017\n",
       "21    1464\n",
       "22     679\n",
       "23     284\n",
       "Name: TransactionId, dtype: int64"
      ]
     },
     "execution_count": 5,
     "metadata": {},
     "output_type": "execute_result"
    }
   ],
   "source": [
    "good_df.groupby('hour').count()['TransactionId']"
   ]
  },
  {
   "cell_type": "code",
   "execution_count": 6,
   "id": "higher-allah",
   "metadata": {},
   "outputs": [
    {
     "data": {
      "text/html": [
       "<div>\n",
       "<style scoped>\n",
       "    .dataframe tbody tr th:only-of-type {\n",
       "        vertical-align: middle;\n",
       "    }\n",
       "\n",
       "    .dataframe tbody tr th {\n",
       "        vertical-align: top;\n",
       "    }\n",
       "\n",
       "    .dataframe thead th {\n",
       "        text-align: right;\n",
       "    }\n",
       "</style>\n",
       "<table border=\"1\" class=\"dataframe\">\n",
       "  <thead>\n",
       "    <tr style=\"text-align: right;\">\n",
       "      <th></th>\n",
       "      <th>Unnamed: 0</th>\n",
       "      <th>TransactionId</th>\n",
       "      <th>BatchId</th>\n",
       "      <th>AccountId</th>\n",
       "      <th>SubscriptionId</th>\n",
       "      <th>CustomerId</th>\n",
       "      <th>ProviderId</th>\n",
       "      <th>ProductId</th>\n",
       "      <th>ProductCategory</th>\n",
       "      <th>ChannelId</th>\n",
       "      <th>...</th>\n",
       "      <th>PricingStrategy</th>\n",
       "      <th>weekday</th>\n",
       "      <th>hour</th>\n",
       "      <th>month</th>\n",
       "      <th>Date</th>\n",
       "      <th>transaction_day_cum</th>\n",
       "      <th>cum</th>\n",
       "      <th>Amount_cum</th>\n",
       "      <th>amount_day_cum</th>\n",
       "      <th>amount_mean_day_cum</th>\n",
       "    </tr>\n",
       "    <tr>\n",
       "      <th>FraudResult</th>\n",
       "      <th></th>\n",
       "      <th></th>\n",
       "      <th></th>\n",
       "      <th></th>\n",
       "      <th></th>\n",
       "      <th></th>\n",
       "      <th></th>\n",
       "      <th></th>\n",
       "      <th></th>\n",
       "      <th></th>\n",
       "      <th></th>\n",
       "      <th></th>\n",
       "      <th></th>\n",
       "      <th></th>\n",
       "      <th></th>\n",
       "      <th></th>\n",
       "      <th></th>\n",
       "      <th></th>\n",
       "      <th></th>\n",
       "      <th></th>\n",
       "      <th></th>\n",
       "    </tr>\n",
       "  </thead>\n",
       "  <tbody>\n",
       "    <tr>\n",
       "      <th>0</th>\n",
       "      <td>0</td>\n",
       "      <td>1</td>\n",
       "      <td>2</td>\n",
       "      <td>1</td>\n",
       "      <td>2</td>\n",
       "      <td>1</td>\n",
       "      <td>1</td>\n",
       "      <td>1</td>\n",
       "      <td>airtime</td>\n",
       "      <td>1</td>\n",
       "      <td>...</td>\n",
       "      <td>0</td>\n",
       "      <td>0</td>\n",
       "      <td>0</td>\n",
       "      <td>1</td>\n",
       "      <td>2018-11-15</td>\n",
       "      <td>1</td>\n",
       "      <td>0</td>\n",
       "      <td>-104900000.0</td>\n",
       "      <td>-50930000.0</td>\n",
       "      <td>-425000.0</td>\n",
       "    </tr>\n",
       "    <tr>\n",
       "      <th>1</th>\n",
       "      <td>131</td>\n",
       "      <td>381</td>\n",
       "      <td>640</td>\n",
       "      <td>352</td>\n",
       "      <td>135</td>\n",
       "      <td>682</td>\n",
       "      <td>1</td>\n",
       "      <td>3</td>\n",
       "      <td>airtime</td>\n",
       "      <td>1</td>\n",
       "      <td>...</td>\n",
       "      <td>0</td>\n",
       "      <td>0</td>\n",
       "      <td>0</td>\n",
       "      <td>1</td>\n",
       "      <td>2018-11-15</td>\n",
       "      <td>1</td>\n",
       "      <td>1</td>\n",
       "      <td>-1500000.0</td>\n",
       "      <td>-1700000.0</td>\n",
       "      <td>-425000.0</td>\n",
       "    </tr>\n",
       "  </tbody>\n",
       "</table>\n",
       "<p>2 rows × 23 columns</p>\n",
       "</div>"
      ],
      "text/plain": [
       "             Unnamed: 0  TransactionId  BatchId  AccountId  SubscriptionId  \\\n",
       "FraudResult                                                                  \n",
       "0                     0              1        2          1               2   \n",
       "1                   131            381      640        352             135   \n",
       "\n",
       "             CustomerId  ProviderId  ProductId ProductCategory  ChannelId  \\\n",
       "FraudResult                                                                 \n",
       "0                     1           1          1         airtime          1   \n",
       "1                   682           1          3         airtime          1   \n",
       "\n",
       "             ...  PricingStrategy  weekday hour  month        Date  \\\n",
       "FraudResult  ...                                                     \n",
       "0            ...                0        0    0      1  2018-11-15   \n",
       "1            ...                0        0    0      1  2018-11-15   \n",
       "\n",
       "             transaction_day_cum  cum   Amount_cum  amount_day_cum  \\\n",
       "FraudResult                                                          \n",
       "0                              1    0 -104900000.0     -50930000.0   \n",
       "1                              1    1   -1500000.0      -1700000.0   \n",
       "\n",
       "             amount_mean_day_cum  \n",
       "FraudResult                       \n",
       "0                      -425000.0  \n",
       "1                      -425000.0  \n",
       "\n",
       "[2 rows x 23 columns]"
      ]
     },
     "execution_count": 6,
     "metadata": {},
     "output_type": "execute_result"
    }
   ],
   "source": [
    "df.groupby('FraudResult').min()"
   ]
  },
  {
   "cell_type": "code",
   "execution_count": 7,
   "id": "stuffed-guyana",
   "metadata": {},
   "outputs": [
    {
     "data": {
      "text/html": [
       "<div>\n",
       "<style scoped>\n",
       "    .dataframe tbody tr th:only-of-type {\n",
       "        vertical-align: middle;\n",
       "    }\n",
       "\n",
       "    .dataframe tbody tr th {\n",
       "        vertical-align: top;\n",
       "    }\n",
       "\n",
       "    .dataframe thead th {\n",
       "        text-align: right;\n",
       "    }\n",
       "</style>\n",
       "<table border=\"1\" class=\"dataframe\">\n",
       "  <thead>\n",
       "    <tr style=\"text-align: right;\">\n",
       "      <th></th>\n",
       "      <th>Unnamed: 0</th>\n",
       "      <th>TransactionId</th>\n",
       "      <th>BatchId</th>\n",
       "      <th>AccountId</th>\n",
       "      <th>SubscriptionId</th>\n",
       "      <th>CustomerId</th>\n",
       "      <th>ProviderId</th>\n",
       "      <th>ProductId</th>\n",
       "      <th>ProductCategory</th>\n",
       "      <th>ChannelId</th>\n",
       "      <th>...</th>\n",
       "      <th>FraudResult</th>\n",
       "      <th>weekday</th>\n",
       "      <th>hour</th>\n",
       "      <th>month</th>\n",
       "      <th>Date</th>\n",
       "      <th>transaction_day_cum</th>\n",
       "      <th>cum</th>\n",
       "      <th>Amount_cum</th>\n",
       "      <th>amount_day_cum</th>\n",
       "      <th>amount_mean_day_cum</th>\n",
       "    </tr>\n",
       "  </thead>\n",
       "  <tbody>\n",
       "    <tr>\n",
       "      <th>0</th>\n",
       "      <td>0</td>\n",
       "      <td>76871</td>\n",
       "      <td>36123</td>\n",
       "      <td>3957</td>\n",
       "      <td>887</td>\n",
       "      <td>4406</td>\n",
       "      <td>6</td>\n",
       "      <td>10</td>\n",
       "      <td>airtime</td>\n",
       "      <td>3</td>\n",
       "      <td>...</td>\n",
       "      <td>0</td>\n",
       "      <td>3</td>\n",
       "      <td>2</td>\n",
       "      <td>15</td>\n",
       "      <td>2018-11-15</td>\n",
       "      <td>2</td>\n",
       "      <td>0</td>\n",
       "      <td>1000.0</td>\n",
       "      <td>980.0</td>\n",
       "      <td>490.0</td>\n",
       "    </tr>\n",
       "    <tr>\n",
       "      <th>1</th>\n",
       "      <td>1</td>\n",
       "      <td>73770</td>\n",
       "      <td>15642</td>\n",
       "      <td>4841</td>\n",
       "      <td>3829</td>\n",
       "      <td>4406</td>\n",
       "      <td>4</td>\n",
       "      <td>6</td>\n",
       "      <td>financial_services</td>\n",
       "      <td>2</td>\n",
       "      <td>...</td>\n",
       "      <td>0</td>\n",
       "      <td>3</td>\n",
       "      <td>2</td>\n",
       "      <td>15</td>\n",
       "      <td>2018-11-15</td>\n",
       "      <td>2</td>\n",
       "      <td>0</td>\n",
       "      <td>980.0</td>\n",
       "      <td>980.0</td>\n",
       "      <td>490.0</td>\n",
       "    </tr>\n",
       "    <tr>\n",
       "      <th>2</th>\n",
       "      <td>2</td>\n",
       "      <td>26203</td>\n",
       "      <td>53941</td>\n",
       "      <td>4229</td>\n",
       "      <td>222</td>\n",
       "      <td>4683</td>\n",
       "      <td>6</td>\n",
       "      <td>1</td>\n",
       "      <td>airtime</td>\n",
       "      <td>3</td>\n",
       "      <td>...</td>\n",
       "      <td>0</td>\n",
       "      <td>3</td>\n",
       "      <td>2</td>\n",
       "      <td>15</td>\n",
       "      <td>2018-11-15</td>\n",
       "      <td>1</td>\n",
       "      <td>0</td>\n",
       "      <td>500.0</td>\n",
       "      <td>500.0</td>\n",
       "      <td>500.0</td>\n",
       "    </tr>\n",
       "    <tr>\n",
       "      <th>3</th>\n",
       "      <td>3</td>\n",
       "      <td>380</td>\n",
       "      <td>102363</td>\n",
       "      <td>648</td>\n",
       "      <td>2185</td>\n",
       "      <td>988</td>\n",
       "      <td>1</td>\n",
       "      <td>21</td>\n",
       "      <td>utility_bill</td>\n",
       "      <td>3</td>\n",
       "      <td>...</td>\n",
       "      <td>0</td>\n",
       "      <td>3</td>\n",
       "      <td>3</td>\n",
       "      <td>15</td>\n",
       "      <td>2018-11-15</td>\n",
       "      <td>4</td>\n",
       "      <td>0</td>\n",
       "      <td>20000.0</td>\n",
       "      <td>48756.0</td>\n",
       "      <td>12189.0</td>\n",
       "    </tr>\n",
       "    <tr>\n",
       "      <th>4</th>\n",
       "      <td>4</td>\n",
       "      <td>28195</td>\n",
       "      <td>38780</td>\n",
       "      <td>4841</td>\n",
       "      <td>3829</td>\n",
       "      <td>988</td>\n",
       "      <td>4</td>\n",
       "      <td>6</td>\n",
       "      <td>financial_services</td>\n",
       "      <td>2</td>\n",
       "      <td>...</td>\n",
       "      <td>0</td>\n",
       "      <td>3</td>\n",
       "      <td>3</td>\n",
       "      <td>15</td>\n",
       "      <td>2018-11-15</td>\n",
       "      <td>4</td>\n",
       "      <td>0</td>\n",
       "      <td>19356.0</td>\n",
       "      <td>48756.0</td>\n",
       "      <td>12189.0</td>\n",
       "    </tr>\n",
       "  </tbody>\n",
       "</table>\n",
       "<p>5 rows × 24 columns</p>\n",
       "</div>"
      ],
      "text/plain": [
       "   Unnamed: 0  TransactionId  BatchId  AccountId  SubscriptionId  CustomerId  \\\n",
       "0           0          76871    36123       3957             887        4406   \n",
       "1           1          73770    15642       4841            3829        4406   \n",
       "2           2          26203    53941       4229             222        4683   \n",
       "3           3            380   102363        648            2185         988   \n",
       "4           4          28195    38780       4841            3829         988   \n",
       "\n",
       "   ProviderId  ProductId     ProductCategory  ChannelId  ...  FraudResult  \\\n",
       "0           6         10             airtime          3  ...            0   \n",
       "1           4          6  financial_services          2  ...            0   \n",
       "2           6          1             airtime          3  ...            0   \n",
       "3           1         21        utility_bill          3  ...            0   \n",
       "4           4          6  financial_services          2  ...            0   \n",
       "\n",
       "   weekday hour  month        Date  transaction_day_cum  cum  Amount_cum  \\\n",
       "0        3    2     15  2018-11-15                    2    0      1000.0   \n",
       "1        3    2     15  2018-11-15                    2    0       980.0   \n",
       "2        3    2     15  2018-11-15                    1    0       500.0   \n",
       "3        3    3     15  2018-11-15                    4    0     20000.0   \n",
       "4        3    3     15  2018-11-15                    4    0     19356.0   \n",
       "\n",
       "  amount_day_cum  amount_mean_day_cum  \n",
       "0          980.0                490.0  \n",
       "1          980.0                490.0  \n",
       "2          500.0                500.0  \n",
       "3        48756.0              12189.0  \n",
       "4        48756.0              12189.0  \n",
       "\n",
       "[5 rows x 24 columns]"
      ]
     },
     "execution_count": 7,
     "metadata": {},
     "output_type": "execute_result"
    }
   ],
   "source": [
    "df.head()"
   ]
  },
  {
   "cell_type": "code",
   "execution_count": 8,
   "id": "iraqi-broadcasting",
   "metadata": {},
   "outputs": [
    {
     "name": "stdout",
     "output_type": "stream",
     "text": [
      "<class 'pandas.core.frame.DataFrame'>\n",
      "RangeIndex: 95662 entries, 0 to 95661\n",
      "Data columns (total 24 columns):\n",
      " #   Column                Non-Null Count  Dtype  \n",
      "---  ------                --------------  -----  \n",
      " 0   Unnamed: 0            95662 non-null  int64  \n",
      " 1   TransactionId         95662 non-null  int64  \n",
      " 2   BatchId               95662 non-null  int64  \n",
      " 3   AccountId             95662 non-null  int64  \n",
      " 4   SubscriptionId        95662 non-null  int64  \n",
      " 5   CustomerId            95662 non-null  int64  \n",
      " 6   ProviderId            95662 non-null  int64  \n",
      " 7   ProductId             95662 non-null  int64  \n",
      " 8   ProductCategory       95662 non-null  object \n",
      " 9   ChannelId             95662 non-null  int64  \n",
      " 10  Amount                95662 non-null  float64\n",
      " 11  Value                 95662 non-null  int64  \n",
      " 12  TransactionStartTime  95662 non-null  object \n",
      " 13  PricingStrategy       95662 non-null  int64  \n",
      " 14  FraudResult           95662 non-null  int64  \n",
      " 15  weekday               95662 non-null  int64  \n",
      " 16  hour                  95662 non-null  int64  \n",
      " 17  month                 95662 non-null  int64  \n",
      " 18  Date                  95662 non-null  object \n",
      " 19  transaction_day_cum   95662 non-null  int64  \n",
      " 20  cum                   95662 non-null  int64  \n",
      " 21  Amount_cum            95662 non-null  float64\n",
      " 22  amount_day_cum        95662 non-null  float64\n",
      " 23  amount_mean_day_cum   95662 non-null  float64\n",
      "dtypes: float64(4), int64(17), object(3)\n",
      "memory usage: 17.5+ MB\n"
     ]
    }
   ],
   "source": [
    "df.info()"
   ]
  },
  {
   "cell_type": "code",
   "execution_count": 9,
   "id": "proud-thumbnail",
   "metadata": {},
   "outputs": [
    {
     "data": {
      "text/plain": [
       "Unnamed: 0              95662\n",
       "TransactionId           95662\n",
       "BatchId                 94809\n",
       "AccountId                3633\n",
       "SubscriptionId           3627\n",
       "CustomerId               3742\n",
       "ProviderId                  6\n",
       "ProductId                  23\n",
       "ProductCategory             9\n",
       "ChannelId                   4\n",
       "Amount                   1676\n",
       "Value                    1517\n",
       "TransactionStartTime    94556\n",
       "PricingStrategy             4\n",
       "FraudResult                 2\n",
       "weekday                     7\n",
       "hour                       24\n",
       "month                      31\n",
       "Date                       91\n",
       "transaction_day_cum       102\n",
       "cum                        32\n",
       "Amount_cum              63010\n",
       "amount_day_cum           4549\n",
       "amount_mean_day_cum      5376\n",
       "dtype: int64"
      ]
     },
     "execution_count": 9,
     "metadata": {},
     "output_type": "execute_result"
    }
   ],
   "source": [
    "df.nunique()"
   ]
  },
  {
   "cell_type": "markdown",
   "id": "compact-education",
   "metadata": {},
   "source": [
    "## --> The following columns have just 1 distinct value and are therefore redundant:\n",
    "## - CurrencyCode\n",
    "## - CountryCode"
   ]
  },
  {
   "cell_type": "markdown",
   "id": "embedded-yukon",
   "metadata": {},
   "source": [
    "## Column \"Value\" is redundant as the same information (more distinct) is included in column \"amount\" "
   ]
  },
  {
   "cell_type": "markdown",
   "id": "downtown-zimbabwe",
   "metadata": {},
   "source": [
    "## Checking logical relationship between BatchId and TransactionId: \n",
    "## --> One-to-many relatinship confirmed! BatchId column is just an aggregation and therefore redundant!"
   ]
  },
  {
   "cell_type": "code",
   "execution_count": 10,
   "id": "serial-comment",
   "metadata": {},
   "outputs": [
    {
     "data": {
      "text/plain": [
       "TransactionId\n",
       "1         1\n",
       "93832     1\n",
       "93849     1\n",
       "93848     1\n",
       "93847     1\n",
       "         ..\n",
       "46940     1\n",
       "46938     1\n",
       "46937     1\n",
       "46935     1\n",
       "140681    1\n",
       "Name: BatchId, Length: 95662, dtype: int64"
      ]
     },
     "execution_count": 10,
     "metadata": {},
     "output_type": "execute_result"
    }
   ],
   "source": [
    "# number of unique BatchId-values by TransactionId\n",
    "b_t = df.groupby('TransactionId').BatchId.nunique()\n",
    "b_t.sort_values(ascending = False)"
   ]
  },
  {
   "cell_type": "markdown",
   "id": "eight-queue",
   "metadata": {},
   "source": [
    "## Checking logical relationship between AccountId, SubscriptionId and CustomerId: \n",
    "## --> No consistent one-to-many relatinship detected!"
   ]
  },
  {
   "cell_type": "code",
   "execution_count": 11,
   "id": "editorial-blond",
   "metadata": {},
   "outputs": [
    {
     "data": {
      "text/plain": [
       "AccountId\n",
       "4841    2\n",
       "3252    1\n",
       "3215    1\n",
       "3217    1\n",
       "3218    1\n",
       "       ..\n",
       "1655    1\n",
       "1656    1\n",
       "1658    1\n",
       "1659    1\n",
       "2465    1\n",
       "Name: SubscriptionId, Length: 3633, dtype: int64"
      ]
     },
     "execution_count": 11,
     "metadata": {},
     "output_type": "execute_result"
    }
   ],
   "source": [
    "# number of unique SubscriptionId-values by AccountId\n",
    "a_s = df.groupby('AccountId').SubscriptionId.nunique()\n",
    "a_s.sort_values(ascending = False)"
   ]
  },
  {
   "cell_type": "code",
   "execution_count": 12,
   "id": "certain-helen",
   "metadata": {},
   "outputs": [
    {
     "data": {
      "text/plain": [
       "SubscriptionId\n",
       "4674    3\n",
       "4836    2\n",
       "375     2\n",
       "3489    2\n",
       "3829    2\n",
       "       ..\n",
       "1651    1\n",
       "1653    1\n",
       "1654    1\n",
       "1655    1\n",
       "2470    1\n",
       "Name: AccountId, Length: 3627, dtype: int64"
      ]
     },
     "execution_count": 12,
     "metadata": {},
     "output_type": "execute_result"
    }
   ],
   "source": [
    "# number of unique AccountId-values by SubscriptionId\n",
    "s_a = df.groupby('SubscriptionId').AccountId.nunique()\n",
    "s_a.sort_values(ascending = False)"
   ]
  },
  {
   "cell_type": "code",
   "execution_count": 13,
   "id": "abroad-poland",
   "metadata": {},
   "outputs": [
    {
     "data": {
      "text/plain": [
       "SubscriptionId\n",
       "3829    2623\n",
       "4346     182\n",
       "4429      56\n",
       "4836      31\n",
       "3350      14\n",
       "        ... \n",
       "1651       1\n",
       "1653       1\n",
       "1654       1\n",
       "1655       1\n",
       "2470       1\n",
       "Name: CustomerId, Length: 3627, dtype: int64"
      ]
     },
     "execution_count": 13,
     "metadata": {},
     "output_type": "execute_result"
    }
   ],
   "source": [
    "# number of unique CustomerId-values by SubscriptionId\n",
    "s_c = df.groupby('SubscriptionId').CustomerId.nunique()\n",
    "s_c.sort_values(ascending = False)"
   ]
  },
  {
   "cell_type": "code",
   "execution_count": 14,
   "id": "flying-inquiry",
   "metadata": {},
   "outputs": [
    {
     "data": {
      "text/plain": [
       "CustomerId\n",
       "4152    3\n",
       "4181    3\n",
       "3405    3\n",
       "1503    3\n",
       "2773    3\n",
       "       ..\n",
       "2834    1\n",
       "2827    1\n",
       "2826    1\n",
       "2817    1\n",
       "7479    1\n",
       "Name: SubscriptionId, Length: 3742, dtype: int64"
      ]
     },
     "execution_count": 14,
     "metadata": {},
     "output_type": "execute_result"
    }
   ],
   "source": [
    "# number of unique SubscriptionId-values by CustomerId\n",
    "c_s = df.groupby('CustomerId').SubscriptionId.nunique()\n",
    "c_s.sort_values(ascending = False)"
   ]
  },
  {
   "cell_type": "code",
   "execution_count": 15,
   "id": "flush-defensive",
   "metadata": {},
   "outputs": [
    {
     "data": {
      "text/plain": [
       "AccountId\n",
       "4841    2577\n",
       "4840    1723\n",
       "10       182\n",
       "4249      56\n",
       "1074      20\n",
       "        ... \n",
       "1658       1\n",
       "1659       1\n",
       "1660       1\n",
       "1661       1\n",
       "2465       1\n",
       "Name: CustomerId, Length: 3633, dtype: int64"
      ]
     },
     "execution_count": 15,
     "metadata": {},
     "output_type": "execute_result"
    }
   ],
   "source": [
    "# number of unique CustomerId-values by AccountId\n",
    "a_c = df.groupby('AccountId').CustomerId.nunique()\n",
    "a_c.sort_values(ascending = False)"
   ]
  },
  {
   "cell_type": "code",
   "execution_count": 16,
   "id": "accredited-cancer",
   "metadata": {},
   "outputs": [
    {
     "data": {
      "text/plain": [
       "CustomerId\n",
       "606     5\n",
       "1171    4\n",
       "1074    4\n",
       "2184    4\n",
       "4038    4\n",
       "       ..\n",
       "2834    1\n",
       "2827    1\n",
       "2826    1\n",
       "2817    1\n",
       "7479    1\n",
       "Name: AccountId, Length: 3742, dtype: int64"
      ]
     },
     "execution_count": 16,
     "metadata": {},
     "output_type": "execute_result"
    }
   ],
   "source": [
    "# number of unique AccountId-values by CustomerId\n",
    "c_a = df.groupby('CustomerId').AccountId.nunique()\n",
    "c_a.sort_values(ascending = False)"
   ]
  },
  {
   "cell_type": "markdown",
   "id": "structured-ancient",
   "metadata": {},
   "source": [
    "## Checking logical relationship between ProductCategory and ProductId: \n",
    "## --> One-to-many relatinship confirmed! ProductCategory column is just an aggregation and therefore redundant!"
   ]
  },
  {
   "cell_type": "code",
   "execution_count": 17,
   "id": "forced-nerve",
   "metadata": {},
   "outputs": [
    {
     "data": {
      "text/plain": [
       "ProductCategory     ProductId\n",
       "airtime             1             2885\n",
       "                    3            24344\n",
       "                    4             2403\n",
       "                    10           15384\n",
       "                    16              10\n",
       "                    23               1\n",
       "data_bundles        2              236\n",
       "                    11            1377\n",
       "financial_services  6            32635\n",
       "                    9               17\n",
       "                    14             789\n",
       "                    15           11964\n",
       "movies              24             175\n",
       "other               12               2\n",
       "ticket              20             216\n",
       "transport           5               25\n",
       "tv                  7               86\n",
       "                    8              197\n",
       "                    19             965\n",
       "                    27              31\n",
       "utility_bill        13             296\n",
       "                    21            1512\n",
       "                    22             112\n",
       "Name: TransactionId, dtype: int64"
      ]
     },
     "execution_count": 17,
     "metadata": {},
     "output_type": "execute_result"
    }
   ],
   "source": [
    "# list ProductId-values by ProductCategory (incl. count of Transactions)\n",
    "df.groupby(['ProductCategory', 'ProductId']).count()['TransactionId']"
   ]
  },
  {
   "cell_type": "code",
   "execution_count": 18,
   "id": "extreme-frame",
   "metadata": {},
   "outputs": [
    {
     "data": {
      "text/plain": [
       "ProductId\n",
       "1     1\n",
       "13    1\n",
       "24    1\n",
       "23    1\n",
       "22    1\n",
       "21    1\n",
       "20    1\n",
       "19    1\n",
       "16    1\n",
       "15    1\n",
       "14    1\n",
       "12    1\n",
       "2     1\n",
       "11    1\n",
       "10    1\n",
       "9     1\n",
       "8     1\n",
       "7     1\n",
       "6     1\n",
       "5     1\n",
       "4     1\n",
       "3     1\n",
       "27    1\n",
       "Name: ProductCategory, dtype: int64"
      ]
     },
     "execution_count": 18,
     "metadata": {},
     "output_type": "execute_result"
    }
   ],
   "source": [
    "# number of unique ProductCategory-values by ProductId\n",
    "p_pc = df.groupby('ProductId').ProductCategory.nunique()\n",
    "p_pc.sort_values(ascending = False)"
   ]
  },
  {
   "cell_type": "code",
   "execution_count": 19,
   "id": "valid-selling",
   "metadata": {},
   "outputs": [
    {
     "name": "stdout",
     "output_type": "stream",
     "text": [
      "<class 'pandas.core.frame.DataFrame'>\n",
      "RangeIndex: 95662 entries, 0 to 95661\n",
      "Data columns (total 24 columns):\n",
      " #   Column                Non-Null Count  Dtype  \n",
      "---  ------                --------------  -----  \n",
      " 0   Unnamed: 0            95662 non-null  int64  \n",
      " 1   TransactionId         95662 non-null  int64  \n",
      " 2   BatchId               95662 non-null  int64  \n",
      " 3   AccountId             95662 non-null  int64  \n",
      " 4   SubscriptionId        95662 non-null  int64  \n",
      " 5   CustomerId            95662 non-null  int64  \n",
      " 6   ProviderId            95662 non-null  int64  \n",
      " 7   ProductId             95662 non-null  int64  \n",
      " 8   ProductCategory       95662 non-null  object \n",
      " 9   ChannelId             95662 non-null  int64  \n",
      " 10  Amount                95662 non-null  float64\n",
      " 11  Value                 95662 non-null  int64  \n",
      " 12  TransactionStartTime  95662 non-null  object \n",
      " 13  PricingStrategy       95662 non-null  int64  \n",
      " 14  FraudResult           95662 non-null  int64  \n",
      " 15  weekday               95662 non-null  int64  \n",
      " 16  hour                  95662 non-null  int64  \n",
      " 17  month                 95662 non-null  int64  \n",
      " 18  Date                  95662 non-null  object \n",
      " 19  transaction_day_cum   95662 non-null  int64  \n",
      " 20  cum                   95662 non-null  int64  \n",
      " 21  Amount_cum            95662 non-null  float64\n",
      " 22  amount_day_cum        95662 non-null  float64\n",
      " 23  amount_mean_day_cum   95662 non-null  float64\n",
      "dtypes: float64(4), int64(17), object(3)\n",
      "memory usage: 17.5+ MB\n"
     ]
    }
   ],
   "source": [
    "df.info()"
   ]
  },
  {
   "cell_type": "markdown",
   "id": "rational-canvas",
   "metadata": {},
   "source": [
    "## --> Removing redundant columns"
   ]
  },
  {
   "cell_type": "code",
   "execution_count": 20,
   "id": "revised-class",
   "metadata": {},
   "outputs": [
    {
     "name": "stdout",
     "output_type": "stream",
     "text": [
      "<class 'pandas.core.frame.DataFrame'>\n",
      "RangeIndex: 95662 entries, 0 to 95661\n",
      "Data columns (total 21 columns):\n",
      " #   Column                Non-Null Count  Dtype  \n",
      "---  ------                --------------  -----  \n",
      " 0   Unnamed: 0            95662 non-null  int64  \n",
      " 1   TransactionId         95662 non-null  int64  \n",
      " 2   AccountId             95662 non-null  int64  \n",
      " 3   SubscriptionId        95662 non-null  int64  \n",
      " 4   CustomerId            95662 non-null  int64  \n",
      " 5   ProviderId            95662 non-null  int64  \n",
      " 6   ProductId             95662 non-null  int64  \n",
      " 7   ChannelId             95662 non-null  int64  \n",
      " 8   Amount                95662 non-null  float64\n",
      " 9   TransactionStartTime  95662 non-null  object \n",
      " 10  PricingStrategy       95662 non-null  int64  \n",
      " 11  FraudResult           95662 non-null  int64  \n",
      " 12  weekday               95662 non-null  int64  \n",
      " 13  hour                  95662 non-null  int64  \n",
      " 14  month                 95662 non-null  int64  \n",
      " 15  Date                  95662 non-null  object \n",
      " 16  transaction_day_cum   95662 non-null  int64  \n",
      " 17  cum                   95662 non-null  int64  \n",
      " 18  Amount_cum            95662 non-null  float64\n",
      " 19  amount_day_cum        95662 non-null  float64\n",
      " 20  amount_mean_day_cum   95662 non-null  float64\n",
      "dtypes: float64(4), int64(15), object(2)\n",
      "memory usage: 15.3+ MB\n"
     ]
    }
   ],
   "source": [
    "# Remove these columns:\n",
    "drop_lst = ['BatchId', 'CurrencyCode', 'CountryCode', 'ProductCategory', 'Value']\n",
    "# we would like to consider all variables except the ones mentioned above\n",
    "remaining_features = [x for x in df.columns if x not in drop_lst]\n",
    "df2 = df[remaining_features]\n",
    "df2.info()"
   ]
  },
  {
   "cell_type": "markdown",
   "id": "settled-period",
   "metadata": {},
   "source": [
    "## Feature Engineering"
   ]
  },
  {
   "cell_type": "code",
   "execution_count": 21,
   "id": "brazilian-samuel",
   "metadata": {},
   "outputs": [
    {
     "data": {
      "text/plain": [
       "{'0'}"
      ]
     },
     "execution_count": 21,
     "metadata": {},
     "output_type": "execute_result"
    }
   ],
   "source": [
    "a = df['TransactionStartTime'].tolist()\n",
    "b = []\n",
    "for i in range (len(a)):\n",
    "    b.append(a[i][-1])\n",
    "set(b)"
   ]
  },
  {
   "cell_type": "code",
   "execution_count": 22,
   "id": "played-austria",
   "metadata": {},
   "outputs": [
    {
     "name": "stderr",
     "output_type": "stream",
     "text": [
      "<ipython-input-22-d54e636aded6>:2: SettingWithCopyWarning: \n",
      "A value is trying to be set on a copy of a slice from a DataFrame.\n",
      "Try using .loc[row_indexer,col_indexer] = value instead\n",
      "\n",
      "See the caveats in the documentation: https://pandas.pydata.org/pandas-docs/stable/user_guide/indexing.html#returning-a-view-versus-a-copy\n",
      "  df2['TransactionStartTime'] = df2['TransactionStartTime'].str.replace('T', ' ')\n",
      "<ipython-input-22-d54e636aded6>:3: SettingWithCopyWarning: \n",
      "A value is trying to be set on a copy of a slice from a DataFrame.\n",
      "Try using .loc[row_indexer,col_indexer] = value instead\n",
      "\n",
      "See the caveats in the documentation: https://pandas.pydata.org/pandas-docs/stable/user_guide/indexing.html#returning-a-view-versus-a-copy\n",
      "  df2['TransactionStartTime'] = df2['TransactionStartTime'].str.replace('Z', '')\n",
      "<ipython-input-22-d54e636aded6>:4: SettingWithCopyWarning: \n",
      "A value is trying to be set on a copy of a slice from a DataFrame.\n",
      "Try using .loc[row_indexer,col_indexer] = value instead\n",
      "\n",
      "See the caveats in the documentation: https://pandas.pydata.org/pandas-docs/stable/user_guide/indexing.html#returning-a-view-versus-a-copy\n",
      "  df2['TransactionStartTime'] = pd.to_datetime(df2['TransactionStartTime'])\n"
     ]
    }
   ],
   "source": [
    "# Datatype TransactionStartTime\n",
    "df2['TransactionStartTime'] = df2['TransactionStartTime'].str.replace('T', ' ')\n",
    "df2['TransactionStartTime'] = df2['TransactionStartTime'].str.replace('Z', '')\n",
    "df2['TransactionStartTime'] = pd.to_datetime(df2['TransactionStartTime']) "
   ]
  },
  {
   "cell_type": "code",
   "execution_count": 23,
   "id": "level-humanity",
   "metadata": {},
   "outputs": [
    {
     "data": {
      "text/plain": [
       "Timestamp('2019-02-13 10:01:28+0000', tz='UTC')"
      ]
     },
     "execution_count": 23,
     "metadata": {},
     "output_type": "execute_result"
    }
   ],
   "source": [
    "df2.TransactionStartTime.max()"
   ]
  },
  {
   "cell_type": "code",
   "execution_count": 24,
   "id": "illegal-wayne",
   "metadata": {},
   "outputs": [
    {
     "name": "stdout",
     "output_type": "stream",
     "text": [
      "<class 'pandas.core.frame.DataFrame'>\n",
      "RangeIndex: 95662 entries, 0 to 95661\n",
      "Data columns (total 21 columns):\n",
      " #   Column                Non-Null Count  Dtype              \n",
      "---  ------                --------------  -----              \n",
      " 0   Unnamed: 0            95662 non-null  int64              \n",
      " 1   TransactionId         95662 non-null  int64              \n",
      " 2   AccountId             95662 non-null  int64              \n",
      " 3   SubscriptionId        95662 non-null  int64              \n",
      " 4   CustomerId            95662 non-null  int64              \n",
      " 5   ProviderId            95662 non-null  int64              \n",
      " 6   ProductId             95662 non-null  int64              \n",
      " 7   ChannelId             95662 non-null  int64              \n",
      " 8   Amount                95662 non-null  float64            \n",
      " 9   TransactionStartTime  95662 non-null  datetime64[ns, UTC]\n",
      " 10  PricingStrategy       95662 non-null  int64              \n",
      " 11  FraudResult           95662 non-null  int64              \n",
      " 12  weekday               95662 non-null  int64              \n",
      " 13  hour                  95662 non-null  int64              \n",
      " 14  month                 95662 non-null  int64              \n",
      " 15  Date                  95662 non-null  object             \n",
      " 16  transaction_day_cum   95662 non-null  int64              \n",
      " 17  cum                   95662 non-null  int64              \n",
      " 18  Amount_cum            95662 non-null  float64            \n",
      " 19  amount_day_cum        95662 non-null  float64            \n",
      " 20  amount_mean_day_cum   95662 non-null  float64            \n",
      "dtypes: datetime64[ns, UTC](1), float64(4), int64(15), object(1)\n",
      "memory usage: 15.3+ MB\n"
     ]
    }
   ],
   "source": [
    "df2.info()"
   ]
  },
  {
   "cell_type": "code",
   "execution_count": 25,
   "id": "optical-eight",
   "metadata": {},
   "outputs": [
    {
     "name": "stderr",
     "output_type": "stream",
     "text": [
      "<ipython-input-25-426955cea94a>:5: SettingWithCopyWarning: \n",
      "A value is trying to be set on a copy of a slice from a DataFrame.\n",
      "Try using .loc[row_indexer,col_indexer] = value instead\n",
      "\n",
      "See the caveats in the documentation: https://pandas.pydata.org/pandas-docs/stable/user_guide/indexing.html#returning-a-view-versus-a-copy\n",
      "  df2['Hour'] = df2['TransactionStartTime'].dt.hour\n",
      "<ipython-input-25-426955cea94a>:7: SettingWithCopyWarning: \n",
      "A value is trying to be set on a copy of a slice from a DataFrame.\n",
      "Try using .loc[row_indexer,col_indexer] = value instead\n",
      "\n",
      "See the caveats in the documentation: https://pandas.pydata.org/pandas-docs/stable/user_guide/indexing.html#returning-a-view-versus-a-copy\n",
      "  df2['Seconds'] = df2['TransactionStartTime'].dt.second\n"
     ]
    }
   ],
   "source": [
    "# introducing columns for year, month, day, hour, minute, seconds, week and weekday\n",
    "#df2['Year'] = df2['TransactionStartTime'].dt.year\n",
    "#df2['Month'] = df2['TransactionStartTime'].dt.month\n",
    "#df2['Day'] = df2['TransactionStartTime'].dt.day\n",
    "df2['Hour'] = df2['TransactionStartTime'].dt.hour\n",
    "#df2['Minute'] = df2['TransactionStartTime'].dt.minute\n",
    "df2['Seconds'] = df2['TransactionStartTime'].dt.second\n",
    "#df2['week'] = df2['TransactionStartTime'].dt.week\n",
    "df2['Weekday'] = df2['TransactionStartTime'].dt.weekday\n",
    "df2.drop('TransactionStartTime', axis = 1, inplace = True)"
   ]
  },
  {
   "cell_type": "code",
   "execution_count": 26,
   "id": "heated-degree",
   "metadata": {},
   "outputs": [
    {
     "name": "stdout",
     "output_type": "stream",
     "text": [
      "<class 'pandas.core.frame.DataFrame'>\n",
      "RangeIndex: 95662 entries, 0 to 95661\n",
      "Data columns (total 23 columns):\n",
      " #   Column               Non-Null Count  Dtype  \n",
      "---  ------               --------------  -----  \n",
      " 0   Unnamed: 0           95662 non-null  int64  \n",
      " 1   TransactionId        95662 non-null  int64  \n",
      " 2   AccountId            95662 non-null  int64  \n",
      " 3   SubscriptionId       95662 non-null  int64  \n",
      " 4   CustomerId           95662 non-null  int64  \n",
      " 5   ProviderId           95662 non-null  int64  \n",
      " 6   ProductId            95662 non-null  int64  \n",
      " 7   ChannelId            95662 non-null  int64  \n",
      " 8   Amount               95662 non-null  float64\n",
      " 9   PricingStrategy      95662 non-null  int64  \n",
      " 10  FraudResult          95662 non-null  int64  \n",
      " 11  weekday              95662 non-null  int64  \n",
      " 12  hour                 95662 non-null  int64  \n",
      " 13  month                95662 non-null  int64  \n",
      " 14  Date                 95662 non-null  object \n",
      " 15  transaction_day_cum  95662 non-null  int64  \n",
      " 16  cum                  95662 non-null  int64  \n",
      " 17  Amount_cum           95662 non-null  float64\n",
      " 18  amount_day_cum       95662 non-null  float64\n",
      " 19  amount_mean_day_cum  95662 non-null  float64\n",
      " 20  Hour                 95662 non-null  int64  \n",
      " 21  Seconds              95662 non-null  int64  \n",
      " 22  Weekday              95662 non-null  int64  \n",
      "dtypes: float64(4), int64(18), object(1)\n",
      "memory usage: 16.8+ MB\n"
     ]
    }
   ],
   "source": [
    "df2.info()"
   ]
  },
  {
   "cell_type": "code",
   "execution_count": 27,
   "id": "adverse-viewer",
   "metadata": {},
   "outputs": [
    {
     "data": {
      "text/html": [
       "<div>\n",
       "<style scoped>\n",
       "    .dataframe tbody tr th:only-of-type {\n",
       "        vertical-align: middle;\n",
       "    }\n",
       "\n",
       "    .dataframe tbody tr th {\n",
       "        vertical-align: top;\n",
       "    }\n",
       "\n",
       "    .dataframe thead th {\n",
       "        text-align: right;\n",
       "    }\n",
       "</style>\n",
       "<table border=\"1\" class=\"dataframe\">\n",
       "  <thead>\n",
       "    <tr style=\"text-align: right;\">\n",
       "      <th></th>\n",
       "      <th>Unnamed: 0</th>\n",
       "      <th>TransactionId</th>\n",
       "      <th>AccountId</th>\n",
       "      <th>SubscriptionId</th>\n",
       "      <th>CustomerId</th>\n",
       "      <th>ProviderId</th>\n",
       "      <th>ProductId</th>\n",
       "      <th>ChannelId</th>\n",
       "      <th>Amount</th>\n",
       "      <th>PricingStrategy</th>\n",
       "      <th>...</th>\n",
       "      <th>month</th>\n",
       "      <th>Date</th>\n",
       "      <th>transaction_day_cum</th>\n",
       "      <th>cum</th>\n",
       "      <th>Amount_cum</th>\n",
       "      <th>amount_day_cum</th>\n",
       "      <th>amount_mean_day_cum</th>\n",
       "      <th>Hour</th>\n",
       "      <th>Seconds</th>\n",
       "      <th>Weekday</th>\n",
       "    </tr>\n",
       "  </thead>\n",
       "  <tbody>\n",
       "    <tr>\n",
       "      <th>69563</th>\n",
       "      <td>69563</td>\n",
       "      <td>101987</td>\n",
       "      <td>1609</td>\n",
       "      <td>2872</td>\n",
       "      <td>1988</td>\n",
       "      <td>3</td>\n",
       "      <td>15</td>\n",
       "      <td>3</td>\n",
       "      <td>100000.0</td>\n",
       "      <td>2</td>\n",
       "      <td>...</td>\n",
       "      <td>23</td>\n",
       "      <td>2019-01-23</td>\n",
       "      <td>9</td>\n",
       "      <td>1</td>\n",
       "      <td>300000.0</td>\n",
       "      <td>519805.0</td>\n",
       "      <td>5.775611e+04</td>\n",
       "      <td>20</td>\n",
       "      <td>59</td>\n",
       "      <td>2</td>\n",
       "    </tr>\n",
       "    <tr>\n",
       "      <th>55822</th>\n",
       "      <td>55822</td>\n",
       "      <td>56954</td>\n",
       "      <td>4249</td>\n",
       "      <td>4429</td>\n",
       "      <td>7339</td>\n",
       "      <td>4</td>\n",
       "      <td>3</td>\n",
       "      <td>2</td>\n",
       "      <td>-900000.0</td>\n",
       "      <td>4</td>\n",
       "      <td>...</td>\n",
       "      <td>10</td>\n",
       "      <td>2019-01-10</td>\n",
       "      <td>4</td>\n",
       "      <td>1</td>\n",
       "      <td>-900000.0</td>\n",
       "      <td>-1700000.0</td>\n",
       "      <td>-4.250000e+05</td>\n",
       "      <td>15</td>\n",
       "      <td>59</td>\n",
       "      <td>3</td>\n",
       "    </tr>\n",
       "    <tr>\n",
       "      <th>81757</th>\n",
       "      <td>81757</td>\n",
       "      <td>107592</td>\n",
       "      <td>572</td>\n",
       "      <td>2950</td>\n",
       "      <td>909</td>\n",
       "      <td>5</td>\n",
       "      <td>15</td>\n",
       "      <td>3</td>\n",
       "      <td>1000000.0</td>\n",
       "      <td>2</td>\n",
       "      <td>...</td>\n",
       "      <td>1</td>\n",
       "      <td>2019-02-01</td>\n",
       "      <td>36</td>\n",
       "      <td>19</td>\n",
       "      <td>41025240.0</td>\n",
       "      <td>40082000.0</td>\n",
       "      <td>1.113389e+06</td>\n",
       "      <td>14</td>\n",
       "      <td>59</td>\n",
       "      <td>4</td>\n",
       "    </tr>\n",
       "    <tr>\n",
       "      <th>64357</th>\n",
       "      <td>64357</td>\n",
       "      <td>85815</td>\n",
       "      <td>953</td>\n",
       "      <td>162</td>\n",
       "      <td>1302</td>\n",
       "      <td>3</td>\n",
       "      <td>15</td>\n",
       "      <td>3</td>\n",
       "      <td>2000000.0</td>\n",
       "      <td>2</td>\n",
       "      <td>...</td>\n",
       "      <td>18</td>\n",
       "      <td>2019-01-18</td>\n",
       "      <td>3</td>\n",
       "      <td>3</td>\n",
       "      <td>7531465.0</td>\n",
       "      <td>2150000.0</td>\n",
       "      <td>7.166667e+05</td>\n",
       "      <td>15</td>\n",
       "      <td>59</td>\n",
       "      <td>4</td>\n",
       "    </tr>\n",
       "    <tr>\n",
       "      <th>82314</th>\n",
       "      <td>82314</td>\n",
       "      <td>7569</td>\n",
       "      <td>572</td>\n",
       "      <td>2950</td>\n",
       "      <td>909</td>\n",
       "      <td>5</td>\n",
       "      <td>15</td>\n",
       "      <td>3</td>\n",
       "      <td>7000000.0</td>\n",
       "      <td>2</td>\n",
       "      <td>...</td>\n",
       "      <td>1</td>\n",
       "      <td>2019-02-01</td>\n",
       "      <td>36</td>\n",
       "      <td>24</td>\n",
       "      <td>54451240.0</td>\n",
       "      <td>40082000.0</td>\n",
       "      <td>1.113389e+06</td>\n",
       "      <td>17</td>\n",
       "      <td>59</td>\n",
       "      <td>4</td>\n",
       "    </tr>\n",
       "    <tr>\n",
       "      <th>81128</th>\n",
       "      <td>81128</td>\n",
       "      <td>11322</td>\n",
       "      <td>572</td>\n",
       "      <td>2950</td>\n",
       "      <td>909</td>\n",
       "      <td>5</td>\n",
       "      <td>15</td>\n",
       "      <td>3</td>\n",
       "      <td>3000000.0</td>\n",
       "      <td>2</td>\n",
       "      <td>...</td>\n",
       "      <td>1</td>\n",
       "      <td>2019-02-01</td>\n",
       "      <td>36</td>\n",
       "      <td>12</td>\n",
       "      <td>30374240.0</td>\n",
       "      <td>40082000.0</td>\n",
       "      <td>1.113389e+06</td>\n",
       "      <td>12</td>\n",
       "      <td>58</td>\n",
       "      <td>4</td>\n",
       "    </tr>\n",
       "    <tr>\n",
       "      <th>82892</th>\n",
       "      <td>82892</td>\n",
       "      <td>49929</td>\n",
       "      <td>572</td>\n",
       "      <td>2950</td>\n",
       "      <td>909</td>\n",
       "      <td>5</td>\n",
       "      <td>15</td>\n",
       "      <td>3</td>\n",
       "      <td>3000000.0</td>\n",
       "      <td>2</td>\n",
       "      <td>...</td>\n",
       "      <td>2</td>\n",
       "      <td>2019-02-02</td>\n",
       "      <td>4</td>\n",
       "      <td>29</td>\n",
       "      <td>75451240.0</td>\n",
       "      <td>16000000.0</td>\n",
       "      <td>4.000000e+06</td>\n",
       "      <td>3</td>\n",
       "      <td>58</td>\n",
       "      <td>5</td>\n",
       "    </tr>\n",
       "    <tr>\n",
       "      <th>36101</th>\n",
       "      <td>36101</td>\n",
       "      <td>60447</td>\n",
       "      <td>1825</td>\n",
       "      <td>4080</td>\n",
       "      <td>2216</td>\n",
       "      <td>3</td>\n",
       "      <td>15</td>\n",
       "      <td>3</td>\n",
       "      <td>588668.0</td>\n",
       "      <td>2</td>\n",
       "      <td>...</td>\n",
       "      <td>21</td>\n",
       "      <td>2018-12-21</td>\n",
       "      <td>10</td>\n",
       "      <td>1</td>\n",
       "      <td>987216.0</td>\n",
       "      <td>1101668.0</td>\n",
       "      <td>1.101668e+05</td>\n",
       "      <td>17</td>\n",
       "      <td>58</td>\n",
       "      <td>4</td>\n",
       "    </tr>\n",
       "    <tr>\n",
       "      <th>82333</th>\n",
       "      <td>82333</td>\n",
       "      <td>82482</td>\n",
       "      <td>572</td>\n",
       "      <td>2950</td>\n",
       "      <td>909</td>\n",
       "      <td>5</td>\n",
       "      <td>15</td>\n",
       "      <td>3</td>\n",
       "      <td>5000000.0</td>\n",
       "      <td>2</td>\n",
       "      <td>...</td>\n",
       "      <td>1</td>\n",
       "      <td>2019-02-01</td>\n",
       "      <td>36</td>\n",
       "      <td>26</td>\n",
       "      <td>64451240.0</td>\n",
       "      <td>40082000.0</td>\n",
       "      <td>1.113389e+06</td>\n",
       "      <td>17</td>\n",
       "      <td>58</td>\n",
       "      <td>4</td>\n",
       "    </tr>\n",
       "    <tr>\n",
       "      <th>85515</th>\n",
       "      <td>85515</td>\n",
       "      <td>114761</td>\n",
       "      <td>2656</td>\n",
       "      <td>2912</td>\n",
       "      <td>3075</td>\n",
       "      <td>5</td>\n",
       "      <td>13</td>\n",
       "      <td>3</td>\n",
       "      <td>570035.0</td>\n",
       "      <td>2</td>\n",
       "      <td>...</td>\n",
       "      <td>4</td>\n",
       "      <td>2019-02-04</td>\n",
       "      <td>5</td>\n",
       "      <td>4</td>\n",
       "      <td>3490505.0</td>\n",
       "      <td>2850105.0</td>\n",
       "      <td>5.700210e+05</td>\n",
       "      <td>19</td>\n",
       "      <td>58</td>\n",
       "      <td>0</td>\n",
       "    </tr>\n",
       "  </tbody>\n",
       "</table>\n",
       "<p>10 rows × 23 columns</p>\n",
       "</div>"
      ],
      "text/plain": [
       "       Unnamed: 0  TransactionId  AccountId  SubscriptionId  CustomerId  \\\n",
       "69563       69563         101987       1609            2872        1988   \n",
       "55822       55822          56954       4249            4429        7339   \n",
       "81757       81757         107592        572            2950         909   \n",
       "64357       64357          85815        953             162        1302   \n",
       "82314       82314           7569        572            2950         909   \n",
       "81128       81128          11322        572            2950         909   \n",
       "82892       82892          49929        572            2950         909   \n",
       "36101       36101          60447       1825            4080        2216   \n",
       "82333       82333          82482        572            2950         909   \n",
       "85515       85515         114761       2656            2912        3075   \n",
       "\n",
       "       ProviderId  ProductId  ChannelId     Amount  PricingStrategy  ...  \\\n",
       "69563           3         15          3   100000.0                2  ...   \n",
       "55822           4          3          2  -900000.0                4  ...   \n",
       "81757           5         15          3  1000000.0                2  ...   \n",
       "64357           3         15          3  2000000.0                2  ...   \n",
       "82314           5         15          3  7000000.0                2  ...   \n",
       "81128           5         15          3  3000000.0                2  ...   \n",
       "82892           5         15          3  3000000.0                2  ...   \n",
       "36101           3         15          3   588668.0                2  ...   \n",
       "82333           5         15          3  5000000.0                2  ...   \n",
       "85515           5         13          3   570035.0                2  ...   \n",
       "\n",
       "       month        Date  transaction_day_cum  cum  Amount_cum  \\\n",
       "69563     23  2019-01-23                    9    1    300000.0   \n",
       "55822     10  2019-01-10                    4    1   -900000.0   \n",
       "81757      1  2019-02-01                   36   19  41025240.0   \n",
       "64357     18  2019-01-18                    3    3   7531465.0   \n",
       "82314      1  2019-02-01                   36   24  54451240.0   \n",
       "81128      1  2019-02-01                   36   12  30374240.0   \n",
       "82892      2  2019-02-02                    4   29  75451240.0   \n",
       "36101     21  2018-12-21                   10    1    987216.0   \n",
       "82333      1  2019-02-01                   36   26  64451240.0   \n",
       "85515      4  2019-02-04                    5    4   3490505.0   \n",
       "\n",
       "       amount_day_cum  amount_mean_day_cum  Hour  Seconds  Weekday  \n",
       "69563        519805.0         5.775611e+04    20       59        2  \n",
       "55822      -1700000.0        -4.250000e+05    15       59        3  \n",
       "81757      40082000.0         1.113389e+06    14       59        4  \n",
       "64357       2150000.0         7.166667e+05    15       59        4  \n",
       "82314      40082000.0         1.113389e+06    17       59        4  \n",
       "81128      40082000.0         1.113389e+06    12       58        4  \n",
       "82892      16000000.0         4.000000e+06     3       58        5  \n",
       "36101       1101668.0         1.101668e+05    17       58        4  \n",
       "82333      40082000.0         1.113389e+06    17       58        4  \n",
       "85515       2850105.0         5.700210e+05    19       58        0  \n",
       "\n",
       "[10 rows x 23 columns]"
      ]
     },
     "execution_count": 27,
     "metadata": {},
     "output_type": "execute_result"
    }
   ],
   "source": [
    "df_fraud=df2[df2['FraudResult'] == 1]\n",
    "df_safe=df2[df2['FraudResult'] == 0]\n",
    "df_fraud.sort_values('Seconds', ascending=False).head(10)"
   ]
  },
  {
   "cell_type": "code",
   "execution_count": 28,
   "id": "annoying-buddy",
   "metadata": {},
   "outputs": [],
   "source": [
    "df3=df2[['PricingStrategy', 'Amount', 'Hour', 'Seconds', 'Weekday', 'FraudResult']]"
   ]
  },
  {
   "cell_type": "code",
   "execution_count": 29,
   "id": "prostate-sodium",
   "metadata": {},
   "outputs": [],
   "source": [
    "X_train,X_test,y_train,y_test=train_test_split(df3.drop('FraudResult',axis=1),df3['FraudResult'],test_size=0.30,random_state=101)"
   ]
  },
  {
   "cell_type": "code",
   "execution_count": 30,
   "id": "specialized-parts",
   "metadata": {},
   "outputs": [
    {
     "data": {
      "text/plain": [
       "LogisticRegression()"
      ]
     },
     "execution_count": 30,
     "metadata": {},
     "output_type": "execute_result"
    }
   ],
   "source": [
    "logmodel=LogisticRegression()\n",
    "logmodel.fit(X_train,y_train)"
   ]
  },
  {
   "cell_type": "code",
   "execution_count": 31,
   "id": "convinced-sender",
   "metadata": {},
   "outputs": [],
   "source": [
    "predictions=logmodel.predict(X_test)"
   ]
  },
  {
   "cell_type": "code",
   "execution_count": 32,
   "id": "exterior-marsh",
   "metadata": {},
   "outputs": [
    {
     "data": {
      "text/plain": [
       "99.84668455346876"
      ]
     },
     "execution_count": 32,
     "metadata": {},
     "output_type": "execute_result"
    }
   ],
   "source": [
    "accuracy=accuracy_score(y_test,predictions)\n",
    "accuracy*100"
   ]
  },
  {
   "cell_type": "code",
   "execution_count": 33,
   "id": "complimentary-affairs",
   "metadata": {},
   "outputs": [
    {
     "name": "stderr",
     "output_type": "stream",
     "text": [
      "/Users/eldinsaronjic/git/cavaloA/Second_Project/.venv/lib/python3.8/site-packages/sklearn/linear_model/_logistic.py:763: ConvergenceWarning: lbfgs failed to converge (status=1):\n",
      "STOP: TOTAL NO. of ITERATIONS REACHED LIMIT.\n",
      "\n",
      "Increase the number of iterations (max_iter) or scale the data as shown in:\n",
      "    https://scikit-learn.org/stable/modules/preprocessing.html\n",
      "Please also refer to the documentation for alternative solver options:\n",
      "    https://scikit-learn.org/stable/modules/linear_model.html#logistic-regression\n",
      "  n_iter_i = _check_optimize_result(\n"
     ]
    }
   ],
   "source": [
    "from sklearn.model_selection import cross_val_predict, cross_val_score, cross_validate\n",
    "\n",
    "y_train_predicted = cross_val_predict(logmodel, X_train, y_train, cv=5)\n",
    "\n",
    "actual =    y_train \n",
    "predicted = y_train_predicted\n",
    "\n",
    "results = confusion_matrix(actual, predicted)"
   ]
  },
  {
   "cell_type": "code",
   "execution_count": 34,
   "id": "vocal-faith",
   "metadata": {},
   "outputs": [
    {
     "data": {
      "image/png": "[encoded data removed]",
      "text/plain": [
       "<Figure size 432x288 with 2 Axes>"
      ]
     },
     "metadata": {
      "needs_background": "light"
     },
     "output_type": "display_data"
    }
   ],
   "source": [
    "cm = confusion_matrix(actual, predicted)\n",
    "sns.heatmap(cm, cmap='YlGnBu', annot=True, fmt='d', linewidths=.5);"
   ]
  },
  {
   "cell_type": "code",
   "execution_count": 35,
   "id": "strong-teddy",
   "metadata": {},
   "outputs": [
    {
     "name": "stdout",
     "output_type": "stream",
     "text": [
      "[[-6.64754130e-01  7.19251750e-06 -2.10091750e-01 -4.98470492e-02\n",
      "  -7.62416238e-01]]\n",
      "[-0.2936203]\n"
     ]
    }
   ],
   "source": [
    "lr = LogisticRegression()\n",
    "lr.fit(X_train, y_train)\n",
    "print(lr.coef_)\n",
    "print(lr.intercept_)"
   ]
  },
  {
   "cell_type": "code",
   "execution_count": 36,
   "id": "racial-label",
   "metadata": {},
   "outputs": [
    {
     "data": {
      "text/plain": [
       "array([[28619,    31],\n",
       "       [   28,    21]])"
      ]
     },
     "execution_count": 36,
     "metadata": {},
     "output_type": "execute_result"
    }
   ],
   "source": [
    "mythreshold = 0.07\n",
    "decisions = (lr.predict_proba(X_test)[:,1] >= mythreshold).astype(int)\n",
    "confusion_matrix(y_test, decisions)"
   ]
  },
  {
   "cell_type": "code",
   "execution_count": null,
   "id": "korean-arbor",
   "metadata": {},
   "outputs": [],
   "source": []
  }
 ],
 "metadata": {
  "kernelspec": {
   "display_name": "Python 3",
   "language": "python",
   "name": "python3"
  },
  "language_info": {
   "codemirror_mode": {
    "name": "ipython",
    "version": 3
   },
   "file_extension": ".py",
   "mimetype": "text/x-python",
   "name": "python",
   "nbconvert_exporter": "python",
   "pygments_lexer": "ipython3",
   "version": "3.8.5"
  }
 },
 "nbformat": 4,
 "nbformat_minor": 5
}
