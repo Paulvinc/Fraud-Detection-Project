{
 "cells": [
  {
   "cell_type": "code",
   "execution_count": 1,
   "id": "previous-idaho",
   "metadata": {},
   "outputs": [],
   "source": [
    "import pandas as pd\n",
    "import numpy as np\n",
    "import seaborn as sns\n",
    "\n",
    "from datetime import datetime\n",
    "from sklearn.model_selection import train_test_split\n",
    "from sklearn.linear_model import LogisticRegression\n",
    "from sklearn.pipeline import Pipeline\n",
    "from sklearn.compose import ColumnTransformer\n",
    "from sklearn.preprocessing import OneHotEncoder, StandardScaler\n",
    "from sklearn.metrics import accuracy_score\n",
    "from sklearn.metrics import confusion_matrix \n",
    "from imblearn.over_sampling import SMOTE\n",
    "from imblearn import under_sampling, over_sampling"
   ]
  },
  {
   "cell_type": "code",
   "execution_count": 21,
   "metadata": {},
   "outputs": [
    {
     "output_type": "stream",
     "name": "stdout",
     "text": [
      "<class 'pandas.core.frame.DataFrame'>\nRangeIndex: 95662 entries, 0 to 95661\nData columns (total 16 columns):\n #   Column                Non-Null Count  Dtype  \n---  ------                --------------  -----  \n 0   TransactionId         95662 non-null  object \n 1   BatchId               95662 non-null  object \n 2   AccountId             95662 non-null  object \n 3   SubscriptionId        95662 non-null  object \n 4   CustomerId            95662 non-null  object \n 5   CurrencyCode          95662 non-null  object \n 6   CountryCode           95662 non-null  int64  \n 7   ProviderId            95662 non-null  object \n 8   ProductId             95662 non-null  object \n 9   ProductCategory       95662 non-null  object \n 10  ChannelId             95662 non-null  object \n 11  Amount                95662 non-null  float64\n 12  Value                 95662 non-null  int64  \n 13  TransactionStartTime  95662 non-null  object \n 14  PricingStrategy       95662 non-null  int64  \n 15  FraudResult           95662 non-null  int64  \ndtypes: float64(1), int64(4), object(11)\nmemory usage: 11.7+ MB\n"
     ]
    },
    {
     "output_type": "execute_result",
     "data": {
      "text/plain": [
       "              TransactionId         BatchId       AccountId  \\\n",
       "0       TransactionId_76871   BatchId_36123  AccountId_3957   \n",
       "1       TransactionId_73770   BatchId_15642  AccountId_4841   \n",
       "2       TransactionId_26203   BatchId_53941  AccountId_4229   \n",
       "3         TransactionId_380  BatchId_102363   AccountId_648   \n",
       "4       TransactionId_28195   BatchId_38780  AccountId_4841   \n",
       "...                     ...             ...             ...   \n",
       "95657   TransactionId_89881   BatchId_96668  AccountId_4841   \n",
       "95658   TransactionId_91597    BatchId_3503  AccountId_3439   \n",
       "95659   TransactionId_82501  BatchId_118602  AccountId_4841   \n",
       "95660  TransactionId_136354   BatchId_70924  AccountId_1346   \n",
       "95661   TransactionId_35670   BatchId_29317  AccountId_4841   \n",
       "\n",
       "            SubscriptionId       CustomerId CurrencyCode  CountryCode  \\\n",
       "0       SubscriptionId_887  CustomerId_4406          UGX          256   \n",
       "1      SubscriptionId_3829  CustomerId_4406          UGX          256   \n",
       "2       SubscriptionId_222  CustomerId_4683          UGX          256   \n",
       "3      SubscriptionId_2185   CustomerId_988          UGX          256   \n",
       "4      SubscriptionId_3829   CustomerId_988          UGX          256   \n",
       "...                    ...              ...          ...          ...   \n",
       "95657  SubscriptionId_3829  CustomerId_3078          UGX          256   \n",
       "95658  SubscriptionId_2643  CustomerId_3874          UGX          256   \n",
       "95659  SubscriptionId_3829  CustomerId_3874          UGX          256   \n",
       "95660   SubscriptionId_652  CustomerId_1709          UGX          256   \n",
       "95661  SubscriptionId_3829  CustomerId_1709          UGX          256   \n",
       "\n",
       "         ProviderId     ProductId     ProductCategory    ChannelId   Amount  \\\n",
       "0      ProviderId_6  ProductId_10             airtime  ChannelId_3   1000.0   \n",
       "1      ProviderId_4   ProductId_6  financial_services  ChannelId_2    -20.0   \n",
       "2      ProviderId_6   ProductId_1             airtime  ChannelId_3    500.0   \n",
       "3      ProviderId_1  ProductId_21        utility_bill  ChannelId_3  20000.0   \n",
       "4      ProviderId_4   ProductId_6  financial_services  ChannelId_2   -644.0   \n",
       "...             ...           ...                 ...          ...      ...   \n",
       "95657  ProviderId_4   ProductId_6  financial_services  ChannelId_2  -1000.0   \n",
       "95658  ProviderId_6  ProductId_10             airtime  ChannelId_3   1000.0   \n",
       "95659  ProviderId_4   ProductId_6  financial_services  ChannelId_2    -20.0   \n",
       "95660  ProviderId_6  ProductId_19                  tv  ChannelId_3   3000.0   \n",
       "95661  ProviderId_4   ProductId_6  financial_services  ChannelId_2    -60.0   \n",
       "\n",
       "       Value  TransactionStartTime  PricingStrategy  FraudResult  \n",
       "0       1000  2018-11-15T02:18:49Z                2            0  \n",
       "1         20  2018-11-15T02:19:08Z                2            0  \n",
       "2        500  2018-11-15T02:44:21Z                2            0  \n",
       "3      21800  2018-11-15T03:32:55Z                2            0  \n",
       "4        644  2018-11-15T03:34:21Z                2            0  \n",
       "...      ...                   ...              ...          ...  \n",
       "95657   1000  2019-02-13T09:54:09Z                2            0  \n",
       "95658   1000  2019-02-13T09:54:25Z                2            0  \n",
       "95659     20  2019-02-13T09:54:35Z                2            0  \n",
       "95660   3000  2019-02-13T10:01:10Z                2            0  \n",
       "95661     60  2019-02-13T10:01:28Z                2            0  \n",
       "\n",
       "[95662 rows x 16 columns]"
      ],
      "text/html": "<div>\n<style scoped>\n    .dataframe tbody tr th:only-of-type {\n        vertical-align: middle;\n    }\n\n    .dataframe tbody tr th {\n        vertical-align: top;\n    }\n\n    .dataframe thead th {\n        text-align: right;\n    }\n</style>\n<table border=\"1\" class=\"dataframe\">\n  <thead>\n    <tr style=\"text-align: right;\">\n      <th></th>\n      <th>TransactionId</th>\n      <th>BatchId</th>\n      <th>AccountId</th>\n      <th>SubscriptionId</th>\n      <th>CustomerId</th>\n      <th>CurrencyCode</th>\n      <th>CountryCode</th>\n      <th>ProviderId</th>\n      <th>ProductId</th>\n      <th>ProductCategory</th>\n      <th>ChannelId</th>\n      <th>Amount</th>\n      <th>Value</th>\n      <th>TransactionStartTime</th>\n      <th>PricingStrategy</th>\n      <th>FraudResult</th>\n    </tr>\n  </thead>\n  <tbody>\n    <tr>\n      <th>0</th>\n      <td>TransactionId_76871</td>\n      <td>BatchId_36123</td>\n      <td>AccountId_3957</td>\n      <td>SubscriptionId_887</td>\n      <td>CustomerId_4406</td>\n      <td>UGX</td>\n      <td>256</td>\n      <td>ProviderId_6</td>\n      <td>ProductId_10</td>\n      <td>airtime</td>\n      <td>ChannelId_3</td>\n      <td>1000.0</td>\n      <td>1000</td>\n      <td>2018-11-15T02:18:49Z</td>\n      <td>2</td>\n      <td>0</td>\n    </tr>\n    <tr>\n      <th>1</th>\n      <td>TransactionId_73770</td>\n      <td>BatchId_15642</td>\n      <td>AccountId_4841</td>\n      <td>SubscriptionId_3829</td>\n      <td>CustomerId_4406</td>\n      <td>UGX</td>\n      <td>256</td>\n      <td>ProviderId_4</td>\n      <td>ProductId_6</td>\n      <td>financial_services</td>\n      <td>ChannelId_2</td>\n      <td>-20.0</td>\n      <td>20</td>\n      <td>2018-11-15T02:19:08Z</td>\n      <td>2</td>\n      <td>0</td>\n    </tr>\n    <tr>\n      <th>2</th>\n      <td>TransactionId_26203</td>\n      <td>BatchId_53941</td>\n      <td>AccountId_4229</td>\n      <td>SubscriptionId_222</td>\n      <td>CustomerId_4683</td>\n      <td>UGX</td>\n      <td>256</td>\n      <td>ProviderId_6</td>\n      <td>ProductId_1</td>\n      <td>airtime</td>\n      <td>ChannelId_3</td>\n      <td>500.0</td>\n      <td>500</td>\n      <td>2018-11-15T02:44:21Z</td>\n      <td>2</td>\n      <td>0</td>\n    </tr>\n    <tr>\n      <th>3</th>\n      <td>TransactionId_380</td>\n      <td>BatchId_102363</td>\n      <td>AccountId_648</td>\n      <td>SubscriptionId_2185</td>\n      <td>CustomerId_988</td>\n      <td>UGX</td>\n      <td>256</td>\n      <td>ProviderId_1</td>\n      <td>ProductId_21</td>\n      <td>utility_bill</td>\n      <td>ChannelId_3</td>\n      <td>20000.0</td>\n      <td>21800</td>\n      <td>2018-11-15T03:32:55Z</td>\n      <td>2</td>\n      <td>0</td>\n    </tr>\n    <tr>\n      <th>4</th>\n      <td>TransactionId_28195</td>\n      <td>BatchId_38780</td>\n      <td>AccountId_4841</td>\n      <td>SubscriptionId_3829</td>\n      <td>CustomerId_988</td>\n      <td>UGX</td>\n      <td>256</td>\n      <td>ProviderId_4</td>\n      <td>ProductId_6</td>\n      <td>financial_services</td>\n      <td>ChannelId_2</td>\n      <td>-644.0</td>\n      <td>644</td>\n      <td>2018-11-15T03:34:21Z</td>\n      <td>2</td>\n      <td>0</td>\n    </tr>\n    <tr>\n      <th>...</th>\n      <td>...</td>\n      <td>...</td>\n      <td>...</td>\n      <td>...</td>\n      <td>...</td>\n      <td>...</td>\n      <td>...</td>\n      <td>...</td>\n      <td>...</td>\n      <td>...</td>\n      <td>...</td>\n      <td>...</td>\n      <td>...</td>\n      <td>...</td>\n      <td>...</td>\n      <td>...</td>\n    </tr>\n    <tr>\n      <th>95657</th>\n      <td>TransactionId_89881</td>\n      <td>BatchId_96668</td>\n      <td>AccountId_4841</td>\n      <td>SubscriptionId_3829</td>\n      <td>CustomerId_3078</td>\n      <td>UGX</td>\n      <td>256</td>\n      <td>ProviderId_4</td>\n      <td>ProductId_6</td>\n      <td>financial_services</td>\n      <td>ChannelId_2</td>\n      <td>-1000.0</td>\n      <td>1000</td>\n      <td>2019-02-13T09:54:09Z</td>\n      <td>2</td>\n      <td>0</td>\n    </tr>\n    <tr>\n      <th>95658</th>\n      <td>TransactionId_91597</td>\n      <td>BatchId_3503</td>\n      <td>AccountId_3439</td>\n      <td>SubscriptionId_2643</td>\n      <td>CustomerId_3874</td>\n      <td>UGX</td>\n      <td>256</td>\n      <td>ProviderId_6</td>\n      <td>ProductId_10</td>\n      <td>airtime</td>\n      <td>ChannelId_3</td>\n      <td>1000.0</td>\n      <td>1000</td>\n      <td>2019-02-13T09:54:25Z</td>\n      <td>2</td>\n      <td>0</td>\n    </tr>\n    <tr>\n      <th>95659</th>\n      <td>TransactionId_82501</td>\n      <td>BatchId_118602</td>\n      <td>AccountId_4841</td>\n      <td>SubscriptionId_3829</td>\n      <td>CustomerId_3874</td>\n      <td>UGX</td>\n      <td>256</td>\n      <td>ProviderId_4</td>\n      <td>ProductId_6</td>\n      <td>financial_services</td>\n      <td>ChannelId_2</td>\n      <td>-20.0</td>\n      <td>20</td>\n      <td>2019-02-13T09:54:35Z</td>\n      <td>2</td>\n      <td>0</td>\n    </tr>\n    <tr>\n      <th>95660</th>\n      <td>TransactionId_136354</td>\n      <td>BatchId_70924</td>\n      <td>AccountId_1346</td>\n      <td>SubscriptionId_652</td>\n      <td>CustomerId_1709</td>\n      <td>UGX</td>\n      <td>256</td>\n      <td>ProviderId_6</td>\n      <td>ProductId_19</td>\n      <td>tv</td>\n      <td>ChannelId_3</td>\n      <td>3000.0</td>\n      <td>3000</td>\n      <td>2019-02-13T10:01:10Z</td>\n      <td>2</td>\n      <td>0</td>\n    </tr>\n    <tr>\n      <th>95661</th>\n      <td>TransactionId_35670</td>\n      <td>BatchId_29317</td>\n      <td>AccountId_4841</td>\n      <td>SubscriptionId_3829</td>\n      <td>CustomerId_1709</td>\n      <td>UGX</td>\n      <td>256</td>\n      <td>ProviderId_4</td>\n      <td>ProductId_6</td>\n      <td>financial_services</td>\n      <td>ChannelId_2</td>\n      <td>-60.0</td>\n      <td>60</td>\n      <td>2019-02-13T10:01:28Z</td>\n      <td>2</td>\n      <td>0</td>\n    </tr>\n  </tbody>\n</table>\n<p>95662 rows × 16 columns</p>\n</div>"
     },
     "metadata": {},
     "execution_count": 21
    }
   ],
   "source": [
    "df = pd.read_csv('data/training.csv')\n",
    "df.info()\n",
    "df"
   ]
  },
  {
   "cell_type": "code",
   "execution_count": 25,
   "metadata": {},
   "outputs": [],
   "source": [
    "# list with columns to be removed\n",
    "drop_lst = ['BatchId', 'CurrencyCode', 'CountryCode', 'ProductCategory', 'Value']\n",
    "# list with columns to transform datatype string to category \n",
    "cat_lst = ['ProviderId', 'ProductId', 'ChannelId', 'PricingStrategy', 'FraudResult']\n",
    "# list with columns to make dummies\n",
    "dummy_lst = ['ProviderId', 'ProductId', 'ChannelId', 'PricingStrategy']\n",
    "# list with columns to transform datatype string to datetime \n",
    "datetime_lst = ['TransactionStartTime']\n",
    "# identiofy target variable\n",
    "target = 'FraudResult'"
   ]
  },
  {
   "cell_type": "code",
   "execution_count": 33,
   "metadata": {},
   "outputs": [],
   "source": [
    "def transform_to_datetime(df, datetime_lst):\n",
    "    for i in datetime_lst:\n",
    "        df[i]=pd.to_datetime(df[i])\n",
    "    return df"
   ]
  },
  {
   "cell_type": "code",
   "execution_count": 27,
   "metadata": {},
   "outputs": [
    {
     "output_type": "execute_result",
     "data": {
      "text/plain": [
       "         TransactionId         BatchId       AccountId       SubscriptionId  \\\n",
       "0  TransactionId_76871   BatchId_36123  AccountId_3957   SubscriptionId_887   \n",
       "1  TransactionId_73770   BatchId_15642  AccountId_4841  SubscriptionId_3829   \n",
       "2  TransactionId_26203   BatchId_53941  AccountId_4229   SubscriptionId_222   \n",
       "3    TransactionId_380  BatchId_102363   AccountId_648  SubscriptionId_2185   \n",
       "4  TransactionId_28195   BatchId_38780  AccountId_4841  SubscriptionId_3829   \n",
       "\n",
       "        CustomerId CurrencyCode  CountryCode    ProviderId     ProductId  \\\n",
       "0  CustomerId_4406          UGX          256  ProviderId_6  ProductId_10   \n",
       "1  CustomerId_4406          UGX          256  ProviderId_4   ProductId_6   \n",
       "2  CustomerId_4683          UGX          256  ProviderId_6   ProductId_1   \n",
       "3   CustomerId_988          UGX          256  ProviderId_1  ProductId_21   \n",
       "4   CustomerId_988          UGX          256  ProviderId_4   ProductId_6   \n",
       "\n",
       "      ProductCategory    ChannelId   Amount  Value  TransactionStartTime  \\\n",
       "0             airtime  ChannelId_3   1000.0   1000  2018-11-15T02:18:49Z   \n",
       "1  financial_services  ChannelId_2    -20.0     20  2018-11-15T02:19:08Z   \n",
       "2             airtime  ChannelId_3    500.0    500  2018-11-15T02:44:21Z   \n",
       "3        utility_bill  ChannelId_3  20000.0  21800  2018-11-15T03:32:55Z   \n",
       "4  financial_services  ChannelId_2   -644.0    644  2018-11-15T03:34:21Z   \n",
       "\n",
       "   PricingStrategy  FraudResult  \n",
       "0                2            0  \n",
       "1                2            0  \n",
       "2                2            0  \n",
       "3                2            0  \n",
       "4                2            0  "
      ],
      "text/html": "<div>\n<style scoped>\n    .dataframe tbody tr th:only-of-type {\n        vertical-align: middle;\n    }\n\n    .dataframe tbody tr th {\n        vertical-align: top;\n    }\n\n    .dataframe thead th {\n        text-align: right;\n    }\n</style>\n<table border=\"1\" class=\"dataframe\">\n  <thead>\n    <tr style=\"text-align: right;\">\n      <th></th>\n      <th>TransactionId</th>\n      <th>BatchId</th>\n      <th>AccountId</th>\n      <th>SubscriptionId</th>\n      <th>CustomerId</th>\n      <th>CurrencyCode</th>\n      <th>CountryCode</th>\n      <th>ProviderId</th>\n      <th>ProductId</th>\n      <th>ProductCategory</th>\n      <th>ChannelId</th>\n      <th>Amount</th>\n      <th>Value</th>\n      <th>TransactionStartTime</th>\n      <th>PricingStrategy</th>\n      <th>FraudResult</th>\n    </tr>\n  </thead>\n  <tbody>\n    <tr>\n      <th>0</th>\n      <td>TransactionId_76871</td>\n      <td>BatchId_36123</td>\n      <td>AccountId_3957</td>\n      <td>SubscriptionId_887</td>\n      <td>CustomerId_4406</td>\n      <td>UGX</td>\n      <td>256</td>\n      <td>ProviderId_6</td>\n      <td>ProductId_10</td>\n      <td>airtime</td>\n      <td>ChannelId_3</td>\n      <td>1000.0</td>\n      <td>1000</td>\n      <td>2018-11-15T02:18:49Z</td>\n      <td>2</td>\n      <td>0</td>\n    </tr>\n    <tr>\n      <th>1</th>\n      <td>TransactionId_73770</td>\n      <td>BatchId_15642</td>\n      <td>AccountId_4841</td>\n      <td>SubscriptionId_3829</td>\n      <td>CustomerId_4406</td>\n      <td>UGX</td>\n      <td>256</td>\n      <td>ProviderId_4</td>\n      <td>ProductId_6</td>\n      <td>financial_services</td>\n      <td>ChannelId_2</td>\n      <td>-20.0</td>\n      <td>20</td>\n      <td>2018-11-15T02:19:08Z</td>\n      <td>2</td>\n      <td>0</td>\n    </tr>\n    <tr>\n      <th>2</th>\n      <td>TransactionId_26203</td>\n      <td>BatchId_53941</td>\n      <td>AccountId_4229</td>\n      <td>SubscriptionId_222</td>\n      <td>CustomerId_4683</td>\n      <td>UGX</td>\n      <td>256</td>\n      <td>ProviderId_6</td>\n      <td>ProductId_1</td>\n      <td>airtime</td>\n      <td>ChannelId_3</td>\n      <td>500.0</td>\n      <td>500</td>\n      <td>2018-11-15T02:44:21Z</td>\n      <td>2</td>\n      <td>0</td>\n    </tr>\n    <tr>\n      <th>3</th>\n      <td>TransactionId_380</td>\n      <td>BatchId_102363</td>\n      <td>AccountId_648</td>\n      <td>SubscriptionId_2185</td>\n      <td>CustomerId_988</td>\n      <td>UGX</td>\n      <td>256</td>\n      <td>ProviderId_1</td>\n      <td>ProductId_21</td>\n      <td>utility_bill</td>\n      <td>ChannelId_3</td>\n      <td>20000.0</td>\n      <td>21800</td>\n      <td>2018-11-15T03:32:55Z</td>\n      <td>2</td>\n      <td>0</td>\n    </tr>\n    <tr>\n      <th>4</th>\n      <td>TransactionId_28195</td>\n      <td>BatchId_38780</td>\n      <td>AccountId_4841</td>\n      <td>SubscriptionId_3829</td>\n      <td>CustomerId_988</td>\n      <td>UGX</td>\n      <td>256</td>\n      <td>ProviderId_4</td>\n      <td>ProductId_6</td>\n      <td>financial_services</td>\n      <td>ChannelId_2</td>\n      <td>-644.0</td>\n      <td>644</td>\n      <td>2018-11-15T03:34:21Z</td>\n      <td>2</td>\n      <td>0</td>\n    </tr>\n  </tbody>\n</table>\n</div>"
     },
     "metadata": {},
     "execution_count": 27
    }
   ],
   "source": [
    "c='CustomerId_4406'\n",
    "t = '2018-11-15T03:34:21Z'\n",
    "#customer_df = df[df['CustomerId'] == c]\n",
    "slice = df[df['TransactionStartTime'] <= t]\n",
    "slice"
   ]
  },
  {
   "cell_type": "code",
   "execution_count": 32,
   "metadata": {},
   "outputs": [
    {
     "output_type": "error",
     "ename": "TypeError",
     "evalue": "unsupported operand type(s) for *: 'int' and 'NoneType'",
     "traceback": [
      "\u001b[0;31m---------------------------------------------------------------------------\u001b[0m",
      "\u001b[0;31mTypeError\u001b[0m                                 Traceback (most recent call last)",
      "\u001b[0;32m<ipython-input-32-485382822e80>\u001b[0m in \u001b[0;36m<module>\u001b[0;34m\u001b[0m\n\u001b[1;32m      1\u001b[0m \u001b[0mdf\u001b[0m \u001b[0;34m=\u001b[0m \u001b[0mtransform_to_datetime\u001b[0m\u001b[0;34m(\u001b[0m\u001b[0mdf\u001b[0m\u001b[0;34m,\u001b[0m \u001b[0mdatetime_lst\u001b[0m\u001b[0;34m)\u001b[0m\u001b[0;34m\u001b[0m\u001b[0;34m\u001b[0m\u001b[0m\n\u001b[1;32m      2\u001b[0m \u001b[0mt\u001b[0m \u001b[0;34m=\u001b[0m \u001b[0mdf\u001b[0m\u001b[0;34m.\u001b[0m\u001b[0mloc\u001b[0m\u001b[0;34m[\u001b[0m\u001b[0;36m0\u001b[0m\u001b[0;34m,\u001b[0m \u001b[0;34m'TransactionStartTime'\u001b[0m\u001b[0;34m]\u001b[0m\u001b[0;34m\u001b[0m\u001b[0;34m\u001b[0m\u001b[0m\n\u001b[0;32m----> 3\u001b[0;31m \u001b[0mt2\u001b[0m \u001b[0;34m=\u001b[0m \u001b[0;36m1\u001b[0m \u001b[0;34m*\u001b[0m \u001b[0mt\u001b[0m\u001b[0;34m.\u001b[0m\u001b[0mfreq\u001b[0m\u001b[0;34m\u001b[0m\u001b[0;34m\u001b[0m\u001b[0m\n\u001b[0m\u001b[1;32m      4\u001b[0m \u001b[0mt2\u001b[0m\u001b[0;34m\u001b[0m\u001b[0;34m\u001b[0m\u001b[0m\n\u001b[1;32m      5\u001b[0m \u001b[0;31m#c='CustomerId_4406'\u001b[0m\u001b[0;34m\u001b[0m\u001b[0;34m\u001b[0m\u001b[0;34m\u001b[0m\u001b[0m\n",
      "\u001b[0;31mTypeError\u001b[0m: unsupported operand type(s) for *: 'int' and 'NoneType'"
     ]
    }
   ],
   "source": [
    "df = transform_to_datetime(df, datetime_lst)\n",
    "t = df.loc[0, 'TransactionStartTime']\n",
    "t2 = 1 * t.freq\n",
    "t2\n",
    "#c='CustomerId_4406'\n",
    "#t = '2018-11-15T03:34:21Z'\n",
    "#customer_df = df[df['CustomerId'] == c]\n",
    "#slice = df[df['TransactionStartTime'] <= t+]\n",
    "#slice"
   ]
  },
  {
   "cell_type": "code",
   "execution_count": 23,
   "metadata": {},
   "outputs": [],
   "source": [
    "def remove_columns(df, drop_lst):\n",
    "    remaining_features = [x for x in df.columns if x not in drop_lst]\n",
    "    df = df[remaining_features]\n",
    "    return df"
   ]
  },
  {
   "cell_type": "code",
   "execution_count": 24,
   "metadata": {},
   "outputs": [],
   "source": [
    "def make_categories(df, cat_lst):\n",
    "    for i in cat_lst:\n",
    "        df[i]=df[i].astype('category')\n",
    "    return df"
   ]
  },
  {
   "cell_type": "code",
   "execution_count": 25,
   "metadata": {},
   "outputs": [],
   "source": [
    "def make_dummies(df, dummy_lst):\n",
    "    for i in dummy_lst:\n",
    "        if str(df[i][1]).isnumeric():\n",
    "            dummies = pd.get_dummies(df[i], prefix=str(i), drop_first=True)\n",
    "        else:\n",
    "            dummies = pd.get_dummies(df[i], drop_first=True)\n",
    "        df = df.drop([i], axis=1)\n",
    "        df = pd.concat([df, dummies], axis=1)\n",
    "    return df"
   ]
  },
  {
   "cell_type": "code",
   "execution_count": 27,
   "metadata": {},
   "outputs": [],
   "source": [
    "def make_split(df, target, test_size=0.30, random_state=101):\n",
    "    X_train,X_test,y_train,y_test=train_test_split(df.drop(target,axis=1),df[target],test_size=test_size,random_state=random_state)\n",
    "    return X_train,X_test,y_train,y_test"
   ]
  },
  {
   "cell_type": "code",
   "execution_count": 111,
   "metadata": {},
   "outputs": [],
   "source": [
    "def balance_traindata(X_train, y_train, target):\n",
    "    '''\n",
    "    requires 3 parameters: X_train, y_train, target\n",
    "    returns: X_train, y_train\n",
    "    '''\n",
    "    # Oversample data\n",
    "    smote_algo = SMOTE(random_state=0)\n",
    "    smote_data_X, smote_data_Y = smote_algo.fit_resample(X_train, y_train)\n",
    "    smote_data_X = pd.DataFrame(data=smote_data_X, columns=X_train.columns)\n",
    "    smote_data_Y = pd.DataFrame(data=smote_data_Y)\n",
    "    # Join X and Y smote data into one\n",
    "    smote_data = smote_data_X\n",
    "    smote_data[target] = smote_data_Y[target]\n",
    "    return smote_data, smote_data[target]"
   ]
  },
  {
   "cell_type": "code",
   "execution_count": 28,
   "metadata": {},
   "outputs": [
    {
     "output_type": "stream",
     "name": "stdout",
     "text": [
      "<class 'pandas.core.frame.DataFrame'>\nRangeIndex: 95662 entries, 0 to 95661\nData columns (total 16 columns):\n #   Column                Non-Null Count  Dtype  \n---  ------                --------------  -----  \n 0   TransactionId         95662 non-null  object \n 1   BatchId               95662 non-null  object \n 2   AccountId             95662 non-null  object \n 3   SubscriptionId        95662 non-null  object \n 4   CustomerId            95662 non-null  object \n 5   CurrencyCode          95662 non-null  object \n 6   CountryCode           95662 non-null  int64  \n 7   ProviderId            95662 non-null  object \n 8   ProductId             95662 non-null  object \n 9   ProductCategory       95662 non-null  object \n 10  ChannelId             95662 non-null  object \n 11  Amount                95662 non-null  float64\n 12  Value                 95662 non-null  int64  \n 13  TransactionStartTime  95662 non-null  object \n 14  PricingStrategy       95662 non-null  int64  \n 15  FraudResult           95662 non-null  int64  \ndtypes: float64(1), int64(4), object(11)\nmemory usage: 11.7+ MB\n"
     ]
    }
   ],
   "source": [
    "df = pd.read_csv('data/training.csv')\n",
    "df.info()"
   ]
  },
  {
   "cell_type": "code",
   "execution_count": 29,
   "metadata": {},
   "outputs": [
    {
     "output_type": "stream",
     "name": "stdout",
     "text": [
      "<class 'pandas.core.frame.DataFrame'>\nRangeIndex: 95662 entries, 0 to 95661\nData columns (total 11 columns):\n #   Column                Non-Null Count  Dtype  \n---  ------                --------------  -----  \n 0   TransactionId         95662 non-null  object \n 1   AccountId             95662 non-null  object \n 2   SubscriptionId        95662 non-null  object \n 3   CustomerId            95662 non-null  object \n 4   ProviderId            95662 non-null  object \n 5   ProductId             95662 non-null  object \n 6   ChannelId             95662 non-null  object \n 7   Amount                95662 non-null  float64\n 8   TransactionStartTime  95662 non-null  object \n 9   PricingStrategy       95662 non-null  int64  \n 10  FraudResult           95662 non-null  int64  \ndtypes: float64(1), int64(2), object(8)\nmemory usage: 8.0+ MB\n"
     ]
    }
   ],
   "source": [
    "df = remove_columns(df, drop_lst)\n",
    "df.info()"
   ]
  },
  {
   "cell_type": "code",
   "execution_count": 30,
   "metadata": {},
   "outputs": [
    {
     "output_type": "stream",
     "name": "stdout",
     "text": [
      "<class 'pandas.core.frame.DataFrame'>\nRangeIndex: 95662 entries, 0 to 95661\nData columns (total 11 columns):\n #   Column                Non-Null Count  Dtype   \n---  ------                --------------  -----   \n 0   TransactionId         95662 non-null  object  \n 1   AccountId             95662 non-null  object  \n 2   SubscriptionId        95662 non-null  object  \n 3   CustomerId            95662 non-null  object  \n 4   ProviderId            95662 non-null  category\n 5   ProductId             95662 non-null  category\n 6   ChannelId             95662 non-null  category\n 7   Amount                95662 non-null  float64 \n 8   TransactionStartTime  95662 non-null  object  \n 9   PricingStrategy       95662 non-null  category\n 10  FraudResult           95662 non-null  category\ndtypes: category(5), float64(1), object(5)\nmemory usage: 4.8+ MB\n"
     ]
    }
   ],
   "source": [
    "df = make_categories(df, cat_lst)\n",
    "df.info()"
   ]
  },
  {
   "cell_type": "code",
   "execution_count": 31,
   "metadata": {},
   "outputs": [
    {
     "output_type": "stream",
     "name": "stdout",
     "text": [
      "<class 'pandas.core.frame.DataFrame'>\nRangeIndex: 95662 entries, 0 to 95661\nData columns (total 40 columns):\n #   Column                Non-Null Count  Dtype   \n---  ------                --------------  -----   \n 0   TransactionId         95662 non-null  object  \n 1   AccountId             95662 non-null  object  \n 2   SubscriptionId        95662 non-null  object  \n 3   CustomerId            95662 non-null  object  \n 4   Amount                95662 non-null  float64 \n 5   TransactionStartTime  95662 non-null  object  \n 6   FraudResult           95662 non-null  category\n 7   ProviderId_2          95662 non-null  uint8   \n 8   ProviderId_3          95662 non-null  uint8   \n 9   ProviderId_4          95662 non-null  uint8   \n 10  ProviderId_5          95662 non-null  uint8   \n 11  ProviderId_6          95662 non-null  uint8   \n 12  ProductId_10          95662 non-null  uint8   \n 13  ProductId_11          95662 non-null  uint8   \n 14  ProductId_12          95662 non-null  uint8   \n 15  ProductId_13          95662 non-null  uint8   \n 16  ProductId_14          95662 non-null  uint8   \n 17  ProductId_15          95662 non-null  uint8   \n 18  ProductId_16          95662 non-null  uint8   \n 19  ProductId_19          95662 non-null  uint8   \n 20  ProductId_2           95662 non-null  uint8   \n 21  ProductId_20          95662 non-null  uint8   \n 22  ProductId_21          95662 non-null  uint8   \n 23  ProductId_22          95662 non-null  uint8   \n 24  ProductId_23          95662 non-null  uint8   \n 25  ProductId_24          95662 non-null  uint8   \n 26  ProductId_27          95662 non-null  uint8   \n 27  ProductId_3           95662 non-null  uint8   \n 28  ProductId_4           95662 non-null  uint8   \n 29  ProductId_5           95662 non-null  uint8   \n 30  ProductId_6           95662 non-null  uint8   \n 31  ProductId_7           95662 non-null  uint8   \n 32  ProductId_8           95662 non-null  uint8   \n 33  ProductId_9           95662 non-null  uint8   \n 34  ChannelId_2           95662 non-null  uint8   \n 35  ChannelId_3           95662 non-null  uint8   \n 36  ChannelId_5           95662 non-null  uint8   \n 37  PricingStrategy_1     95662 non-null  uint8   \n 38  PricingStrategy_2     95662 non-null  uint8   \n 39  PricingStrategy_4     95662 non-null  uint8   \ndtypes: category(1), float64(1), object(5), uint8(33)\nmemory usage: 7.5+ MB\n"
     ]
    }
   ],
   "source": [
    "df = make_dummies(df, dummy_lst)\n",
    "df.info()"
   ]
  },
  {
   "cell_type": "code",
   "execution_count": 32,
   "metadata": {},
   "outputs": [],
   "source": [
    "df = transform_to_datetime(df, datetime_lst)"
   ]
  },
  {
   "cell_type": "code",
   "execution_count": 33,
   "metadata": {},
   "outputs": [
    {
     "output_type": "stream",
     "name": "stdout",
     "text": [
      "<class 'pandas.core.frame.DataFrame'>\nRangeIndex: 95662 entries, 0 to 95661\nData columns (total 40 columns):\n #   Column                Non-Null Count  Dtype              \n---  ------                --------------  -----              \n 0   TransactionId         95662 non-null  object             \n 1   AccountId             95662 non-null  object             \n 2   SubscriptionId        95662 non-null  object             \n 3   CustomerId            95662 non-null  object             \n 4   Amount                95662 non-null  float64            \n 5   TransactionStartTime  95662 non-null  datetime64[ns, UTC]\n 6   FraudResult           95662 non-null  category           \n 7   ProviderId_2          95662 non-null  uint8              \n 8   ProviderId_3          95662 non-null  uint8              \n 9   ProviderId_4          95662 non-null  uint8              \n 10  ProviderId_5          95662 non-null  uint8              \n 11  ProviderId_6          95662 non-null  uint8              \n 12  ProductId_10          95662 non-null  uint8              \n 13  ProductId_11          95662 non-null  uint8              \n 14  ProductId_12          95662 non-null  uint8              \n 15  ProductId_13          95662 non-null  uint8              \n 16  ProductId_14          95662 non-null  uint8              \n 17  ProductId_15          95662 non-null  uint8              \n 18  ProductId_16          95662 non-null  uint8              \n 19  ProductId_19          95662 non-null  uint8              \n 20  ProductId_2           95662 non-null  uint8              \n 21  ProductId_20          95662 non-null  uint8              \n 22  ProductId_21          95662 non-null  uint8              \n 23  ProductId_22          95662 non-null  uint8              \n 24  ProductId_23          95662 non-null  uint8              \n 25  ProductId_24          95662 non-null  uint8              \n 26  ProductId_27          95662 non-null  uint8              \n 27  ProductId_3           95662 non-null  uint8              \n 28  ProductId_4           95662 non-null  uint8              \n 29  ProductId_5           95662 non-null  uint8              \n 30  ProductId_6           95662 non-null  uint8              \n 31  ProductId_7           95662 non-null  uint8              \n 32  ProductId_8           95662 non-null  uint8              \n 33  ProductId_9           95662 non-null  uint8              \n 34  ChannelId_2           95662 non-null  uint8              \n 35  ChannelId_3           95662 non-null  uint8              \n 36  ChannelId_5           95662 non-null  uint8              \n 37  PricingStrategy_1     95662 non-null  uint8              \n 38  PricingStrategy_2     95662 non-null  uint8              \n 39  PricingStrategy_4     95662 non-null  uint8              \ndtypes: category(1), datetime64[ns, UTC](1), float64(1), object(4), uint8(33)\nmemory usage: 7.5+ MB\n"
     ]
    }
   ],
   "source": [
    "df.info()"
   ]
  },
  {
   "cell_type": "code",
   "execution_count": 34,
   "metadata": {},
   "outputs": [
    {
     "output_type": "stream",
     "name": "stdout",
     "text": [
      "<class 'pandas.core.frame.DataFrame'>\nRangeIndex: 95662 entries, 0 to 95661\nData columns (total 35 columns):\n #   Column             Non-Null Count  Dtype   \n---  ------             --------------  -----   \n 0   Amount             95662 non-null  float64 \n 1   FraudResult        95662 non-null  category\n 2   ProviderId_2       95662 non-null  uint8   \n 3   ProviderId_3       95662 non-null  uint8   \n 4   ProviderId_4       95662 non-null  uint8   \n 5   ProviderId_5       95662 non-null  uint8   \n 6   ProviderId_6       95662 non-null  uint8   \n 7   ProductId_10       95662 non-null  uint8   \n 8   ProductId_11       95662 non-null  uint8   \n 9   ProductId_12       95662 non-null  uint8   \n 10  ProductId_13       95662 non-null  uint8   \n 11  ProductId_14       95662 non-null  uint8   \n 12  ProductId_15       95662 non-null  uint8   \n 13  ProductId_16       95662 non-null  uint8   \n 14  ProductId_19       95662 non-null  uint8   \n 15  ProductId_2        95662 non-null  uint8   \n 16  ProductId_20       95662 non-null  uint8   \n 17  ProductId_21       95662 non-null  uint8   \n 18  ProductId_22       95662 non-null  uint8   \n 19  ProductId_23       95662 non-null  uint8   \n 20  ProductId_24       95662 non-null  uint8   \n 21  ProductId_27       95662 non-null  uint8   \n 22  ProductId_3        95662 non-null  uint8   \n 23  ProductId_4        95662 non-null  uint8   \n 24  ProductId_5        95662 non-null  uint8   \n 25  ProductId_6        95662 non-null  uint8   \n 26  ProductId_7        95662 non-null  uint8   \n 27  ProductId_8        95662 non-null  uint8   \n 28  ProductId_9        95662 non-null  uint8   \n 29  ChannelId_2        95662 non-null  uint8   \n 30  ChannelId_3        95662 non-null  uint8   \n 31  ChannelId_5        95662 non-null  uint8   \n 32  PricingStrategy_1  95662 non-null  uint8   \n 33  PricingStrategy_2  95662 non-null  uint8   \n 34  PricingStrategy_4  95662 non-null  uint8   \ndtypes: category(1), float64(1), uint8(33)\nmemory usage: 3.8 MB\n"
     ]
    }
   ],
   "source": [
    "ignore_lst = ['TransactionId', 'AccountId', 'SubscriptionId', 'CustomerId', 'TransactionStartTime']\n",
    "df = remove_columns(df, ignore_lst)\n",
    "df.info()"
   ]
  },
  {
   "cell_type": "code",
   "execution_count": 40,
   "metadata": {},
   "outputs": [],
   "source": [
    "#X_train,X_test,y_train,y_test=make_split(df, target)"
   ]
  },
  {
   "source": [
    "X_train,X_test,y_train,y_test=train_test_split(df.drop('FraudResult',axis=1),df['FraudResult'],test_size=0.30, random_state=101)"
   ],
   "cell_type": "code",
   "metadata": {},
   "execution_count": 121,
   "outputs": []
  },
  {
   "cell_type": "code",
   "execution_count": 122,
   "metadata": {},
   "outputs": [
    {
     "output_type": "stream",
     "name": "stdout",
     "text": [
      "Rows in X_train = 66963\nRows in y_train = 66963\nCount of \"0\" in y_train = 66819\nCount of \"1\" in y_train = 144\n"
     ]
    }
   ],
   "source": [
    "print('Rows in X_train = ' + str(len(X_train)))\n",
    "print('Rows in y_train = ' + str(len(y_train)))\n",
    "print('Count of \"0\" in y_train = ' + str(y_train.value_counts()[0]))\n",
    "print('Count of \"1\" in y_train = ' + str(y_train.value_counts()[1]))\n",
    "#print('Rows in X_test = ' + str(len(X_test)))\n",
    "#print('Rows in y_test = ' + str(len(y_test)))"
   ]
  },
  {
   "cell_type": "code",
   "execution_count": 123,
   "metadata": {},
   "outputs": [],
   "source": [
    "X_train, y_train = balance_traindata(X_train, y_train, target)"
   ]
  },
  {
   "cell_type": "code",
   "execution_count": 125,
   "metadata": {},
   "outputs": [
    {
     "output_type": "execute_result",
     "data": {
      "text/plain": [
       "0         0\n",
       "1         0\n",
       "2         0\n",
       "3         0\n",
       "4         0\n",
       "         ..\n",
       "133633    1\n",
       "133634    1\n",
       "133635    1\n",
       "133636    1\n",
       "133637    1\n",
       "Name: FraudResult, Length: 133638, dtype: category\n",
       "Categories (2, int64): [0, 1]"
      ]
     },
     "metadata": {},
     "execution_count": 125
    }
   ],
   "source": [
    "y_train"
   ]
  },
  {
   "cell_type": "code",
   "execution_count": 124,
   "metadata": {},
   "outputs": [
    {
     "output_type": "stream",
     "name": "stdout",
     "text": [
      "Rows in X_train = 133638\nRows in y_train = 133638\nCount of \"0\" in y_train = 66819\nCount of \"1\" in y_train = 66819\n"
     ]
    }
   ],
   "source": [
    "print('Rows in X_train = ' + str(len(X_train)))\n",
    "print('Rows in y_train = ' + str(len(y_train)))\n",
    "print('Count of \"0\" in y_train = ' + str(y_train.value_counts()[0]))\n",
    "print('Count of \"1\" in y_train = ' + str(y_train.value_counts()[1]))\n",
    "#print('Rows in X_test = ' + str(len(X_test)))\n",
    "#print('Rows in y_test = ' + str(len(y_test)))"
   ]
  },
  {
   "cell_type": "code",
   "execution_count": 104,
   "metadata": {},
   "outputs": [
    {
     "output_type": "execute_result",
     "data": {
      "text/plain": [
       "66819"
      ]
     },
     "metadata": {},
     "execution_count": 104
    }
   ],
   "source": [
    "# count number of '1' in y_test\n",
    "smote_data_Y.value_counts()[1]"
   ]
  },
  {
   "cell_type": "code",
   "execution_count": 75,
   "metadata": {},
   "outputs": [
    {
     "output_type": "stream",
     "name": "stdout",
     "text": [
      "[[-2.88860176e-08 -4.75424647e-14 -6.83018795e-12 -9.07011014e-11\n  -3.44874645e-11 -8.10857972e-11 -3.66993601e-11 -3.28039685e-12\n  -3.39591713e-15 -6.89208677e-13 -1.84052815e-12 -2.79215618e-11\n  -2.71669692e-14 -2.29554305e-12 -5.80674318e-13 -5.46354306e-13\n  -3.53144947e-12 -2.78384935e-13  0.00000000e+00 -3.87114322e-13\n  -7.13069030e-14 -5.76188796e-11 -5.68804118e-12 -4.06812709e-14\n  -7.72952521e-11 -1.86643964e-13 -4.99135140e-13 -2.37184160e-14\n  -8.81167019e-11 -1.34505536e-10 -2.58439952e-12 -4.20374516e-12\n  -1.88932359e-10 -3.25476393e-11]]\n[-2.26411938e-10]\n"
     ]
    }
   ],
   "source": [
    "lr = LogisticRegression()\n",
    "lr.fit(X_train, y_train)\n",
    "print(lr.coef_)\n",
    "print(lr.intercept_)"
   ]
  },
  {
   "cell_type": "code",
   "execution_count": 30,
   "metadata": {},
   "outputs": [],
   "source": [
    "# Let’s see how the model performs against data that it hasn’t been trained on.\n",
    "y_pred = lr.predict(X_test)"
   ]
  },
  {
   "cell_type": "code",
   "execution_count": 31,
   "metadata": {},
   "outputs": [
    {
     "output_type": "execute_result",
     "data": {
      "text/plain": [
       "array([[17178, 11472],\n",
       "       [   48,     1]])"
      ]
     },
     "metadata": {},
     "execution_count": 31
    }
   ],
   "source": [
    "# Given that this is a classification problem, we use a confusion matrix to evaluate our model.\n",
    "confusion_matrix(y_test, y_pred)"
   ]
  },
  {
   "cell_type": "code",
   "execution_count": 16,
   "metadata": {},
   "outputs": [
    {
     "output_type": "execute_result",
     "data": {
      "text/plain": [
       "59.85922854454859"
      ]
     },
     "metadata": {},
     "execution_count": 16
    }
   ],
   "source": [
    "# LogReg\n",
    "logmodel=LogisticRegression()\n",
    "logmodel.fit(X_train,y_train)\n",
    "predictions=logmodel.predict(X_test)\n",
    "accuracy=accuracy_score(y_test,predictions)\n",
    "accuracy*100"
   ]
  },
  {
   "cell_type": "code",
   "execution_count": 22,
   "metadata": {},
   "outputs": [],
   "source": [
    "from sklearn.model_selection import cross_val_predict, cross_val_score, cross_validate\n",
    "\n",
    "y_train_predicted = cross_val_predict(logmodel, X_train, y_train, cv=5)\n",
    "\n",
    "actual =    y_train \n",
    "predicted = y_train_predicted\n",
    "results = confusion_matrix(actual, predicted)"
   ]
  },
  {
   "cell_type": "code",
   "execution_count": 23,
   "metadata": {},
   "outputs": [
    {
     "output_type": "execute_result",
     "data": {
      "text/plain": [
       "array([[45494, 21325],\n",
       "       [  133,    11]])"
      ]
     },
     "metadata": {},
     "execution_count": 23
    }
   ],
   "source": [
    "results"
   ]
  },
  {
   "cell_type": "code",
   "execution_count": 26,
   "metadata": {},
   "outputs": [
    {
     "output_type": "display_data",
     "data": {
      "text/plain": "<Figure size 432x288 with 2 Axes>",
      "image/svg+xml": "<?xml version=\"1.0\" encoding=\"utf-8\" standalone=\"no\"?>\n<!DOCTYPE svg PUBLIC \"-//W3C//DTD SVG 1.1//EN\"\n  \"http://www.w3.org/Graphics/SVG/1.1/DTD/svg11.dtd\">\n<!-- Created with matplotlib (https://matplotlib.org/) -->\n<svg height=\"248.518125pt\" version=\"1.1\" viewBox=\"0 0 365.342625 248.518125\" width=\"365.342625pt\" xmlns=\"http://www.w3.org/2000/svg\" xmlns:xlink=\"http://www.w3.org/1999/xlink\">\n <metadata>\n  <rdf:RDF xmlns:cc=\"http://creativecommons.org/ns#\" xmlns:dc=\"http://purl.org/dc/elements/1.1/\" xmlns:rdf=\"http://www.w3.org/1999/02/22-rdf-syntax-ns#\">\n   <cc:Work>\n    <dc:type rdf:resource=\"http://purl.org/dc/dcmitype/StillImage\"/>\n    <dc:date>2021-03-10T23:38:34.284448</dc:date>\n    <dc:format>image/svg+xml</dc:format>\n    <dc:creator>\n     <cc:Agent>\n      <dc:title>Matplotlib v3.3.4, https://matplotlib.org/</dc:title>\n     </cc:Agent>\n    </dc:creator>\n   </cc:Work>\n  </rdf:RDF>\n </metadata>\n <defs>\n  <style type=\"text/css\">*{stroke-linecap:butt;stroke-linejoin:round;}</style>\n </defs>\n <g id=\"figure_1\">\n  <g id=\"patch_1\">\n   <path d=\"M -0 248.518125 \nL 365.342625 248.518125 \nL 365.342625 0 \nL -0 0 \nz\n\" style=\"fill:none;\"/>\n  </g>\n  <g id=\"axes_1\">\n   <g id=\"patch_2\">\n    <path d=\"M 23.878125 224.64 \nL 291.718125 224.64 \nL 291.718125 7.2 \nL 23.878125 7.2 \nz\n\" style=\"fill:#ffffff;\"/>\n   </g>\n   <g id=\"QuadMesh_1\">\n    <path clip-path=\"url(#p436b084cf1)\" d=\"M 23.878125 7.2 \nL 157.798125 7.2 \nL 157.798125 115.92 \nL 23.878125 115.92 \nL 23.878125 7.2 \n\" style=\"fill:#081d58;stroke:#ffffff;stroke-width:0.5;\"/>\n    <path clip-path=\"url(#p436b084cf1)\" d=\"M 157.798125 7.2 \nL 291.718125 7.2 \nL 291.718125 115.92 \nL 157.798125 115.92 \nL 157.798125 7.2 \n\" style=\"fill:#52bcc2;stroke:#ffffff;stroke-width:0.5;\"/>\n    <path clip-path=\"url(#p436b084cf1)\" d=\"M 23.878125 115.92 \nL 157.798125 115.92 \nL 157.798125 224.64 \nL 23.878125 224.64 \nL 23.878125 115.92 \n\" style=\"fill:#ffffd9;stroke:#ffffff;stroke-width:0.5;\"/>\n    <path clip-path=\"url(#p436b084cf1)\" d=\"M 157.798125 115.92 \nL 291.718125 115.92 \nL 291.718125 224.64 \nL 157.798125 224.64 \nL 157.798125 115.92 \n\" style=\"fill:#ffffd9;stroke:#ffffff;stroke-width:0.5;\"/>\n   </g>\n   <g id=\"matplotlib.axis_1\">\n    <g id=\"xtick_1\">\n     <g id=\"line2d_1\">\n      <defs>\n       <path d=\"M 0 0 \nL 0 3.5 \n\" id=\"m79f117ef78\" style=\"stroke:#000000;stroke-width:0.8;\"/>\n      </defs>\n      <g>\n       <use style=\"stroke:#000000;stroke-width:0.8;\" x=\"90.838125\" xlink:href=\"#m79f117ef78\" y=\"224.64\"/>\n      </g>\n     </g>\n     <g id=\"text_1\">\n      <!-- 0 -->\n      <g transform=\"translate(87.656875 239.238437)scale(0.1 -0.1)\">\n       <defs>\n        <path d=\"M 31.78125 66.40625 \nQ 24.171875 66.40625 20.328125 58.90625 \nQ 16.5 51.421875 16.5 36.375 \nQ 16.5 21.390625 20.328125 13.890625 \nQ 24.171875 6.390625 31.78125 6.390625 \nQ 39.453125 6.390625 43.28125 13.890625 \nQ 47.125 21.390625 47.125 36.375 \nQ 47.125 51.421875 43.28125 58.90625 \nQ 39.453125 66.40625 31.78125 66.40625 \nz\nM 31.78125 74.21875 \nQ 44.046875 74.21875 50.515625 64.515625 \nQ 56.984375 54.828125 56.984375 36.375 \nQ 56.984375 17.96875 50.515625 8.265625 \nQ 44.046875 -1.421875 31.78125 -1.421875 \nQ 19.53125 -1.421875 13.0625 8.265625 \nQ 6.59375 17.96875 6.59375 36.375 \nQ 6.59375 54.828125 13.0625 64.515625 \nQ 19.53125 74.21875 31.78125 74.21875 \nz\n\" id=\"DejaVuSans-48\"/>\n       </defs>\n       <use xlink:href=\"#DejaVuSans-48\"/>\n      </g>\n     </g>\n    </g>\n    <g id=\"xtick_2\">\n     <g id=\"line2d_2\">\n      <g>\n       <use style=\"stroke:#000000;stroke-width:0.8;\" x=\"224.758125\" xlink:href=\"#m79f117ef78\" y=\"224.64\"/>\n      </g>\n     </g>\n     <g id=\"text_2\">\n      <!-- 1 -->\n      <g transform=\"translate(221.576875 239.238437)scale(0.1 -0.1)\">\n       <defs>\n        <path d=\"M 12.40625 8.296875 \nL 28.515625 8.296875 \nL 28.515625 63.921875 \nL 10.984375 60.40625 \nL 10.984375 69.390625 \nL 28.421875 72.90625 \nL 38.28125 72.90625 \nL 38.28125 8.296875 \nL 54.390625 8.296875 \nL 54.390625 0 \nL 12.40625 0 \nz\n\" id=\"DejaVuSans-49\"/>\n       </defs>\n       <use xlink:href=\"#DejaVuSans-49\"/>\n      </g>\n     </g>\n    </g>\n   </g>\n   <g id=\"matplotlib.axis_2\">\n    <g id=\"ytick_1\">\n     <g id=\"line2d_3\">\n      <defs>\n       <path d=\"M 0 0 \nL -3.5 0 \n\" id=\"mea2e6a51e7\" style=\"stroke:#000000;stroke-width:0.8;\"/>\n      </defs>\n      <g>\n       <use style=\"stroke:#000000;stroke-width:0.8;\" x=\"23.878125\" xlink:href=\"#mea2e6a51e7\" y=\"61.56\"/>\n      </g>\n     </g>\n     <g id=\"text_3\">\n      <!-- 0 -->\n      <g transform=\"translate(14.798438 64.123281)rotate(-90)scale(0.1 -0.1)\">\n       <use xlink:href=\"#DejaVuSans-48\"/>\n      </g>\n     </g>\n    </g>\n    <g id=\"ytick_2\">\n     <g id=\"line2d_4\">\n      <g>\n       <use style=\"stroke:#000000;stroke-width:0.8;\" x=\"23.878125\" xlink:href=\"#mea2e6a51e7\" y=\"170.28\"/>\n      </g>\n     </g>\n     <g id=\"text_4\">\n      <!-- 1 -->\n      <g transform=\"translate(14.798438 172.843281)rotate(-90)scale(0.1 -0.1)\">\n       <use xlink:href=\"#DejaVuSans-49\"/>\n      </g>\n     </g>\n    </g>\n   </g>\n   <g id=\"text_5\">\n    <!-- 45494 -->\n    <g style=\"fill:#ffffff;\" transform=\"translate(74.931875 64.319375)scale(0.1 -0.1)\">\n     <defs>\n      <path d=\"M 37.796875 64.3125 \nL 12.890625 25.390625 \nL 37.796875 25.390625 \nz\nM 35.203125 72.90625 \nL 47.609375 72.90625 \nL 47.609375 25.390625 \nL 58.015625 25.390625 \nL 58.015625 17.1875 \nL 47.609375 17.1875 \nL 47.609375 0 \nL 37.796875 0 \nL 37.796875 17.1875 \nL 4.890625 17.1875 \nL 4.890625 26.703125 \nz\n\" id=\"DejaVuSans-52\"/>\n      <path d=\"M 10.796875 72.90625 \nL 49.515625 72.90625 \nL 49.515625 64.59375 \nL 19.828125 64.59375 \nL 19.828125 46.734375 \nQ 21.96875 47.46875 24.109375 47.828125 \nQ 26.265625 48.1875 28.421875 48.1875 \nQ 40.625 48.1875 47.75 41.5 \nQ 54.890625 34.8125 54.890625 23.390625 \nQ 54.890625 11.625 47.5625 5.09375 \nQ 40.234375 -1.421875 26.90625 -1.421875 \nQ 22.3125 -1.421875 17.546875 -0.640625 \nQ 12.796875 0.140625 7.71875 1.703125 \nL 7.71875 11.625 \nQ 12.109375 9.234375 16.796875 8.0625 \nQ 21.484375 6.890625 26.703125 6.890625 \nQ 35.15625 6.890625 40.078125 11.328125 \nQ 45.015625 15.765625 45.015625 23.390625 \nQ 45.015625 31 40.078125 35.4375 \nQ 35.15625 39.890625 26.703125 39.890625 \nQ 22.75 39.890625 18.8125 39.015625 \nQ 14.890625 38.140625 10.796875 36.28125 \nz\n\" id=\"DejaVuSans-53\"/>\n      <path d=\"M 10.984375 1.515625 \nL 10.984375 10.5 \nQ 14.703125 8.734375 18.5 7.8125 \nQ 22.3125 6.890625 25.984375 6.890625 \nQ 35.75 6.890625 40.890625 13.453125 \nQ 46.046875 20.015625 46.78125 33.40625 \nQ 43.953125 29.203125 39.59375 26.953125 \nQ 35.25 24.703125 29.984375 24.703125 \nQ 19.046875 24.703125 12.671875 31.3125 \nQ 6.296875 37.9375 6.296875 49.421875 \nQ 6.296875 60.640625 12.9375 67.421875 \nQ 19.578125 74.21875 30.609375 74.21875 \nQ 43.265625 74.21875 49.921875 64.515625 \nQ 56.59375 54.828125 56.59375 36.375 \nQ 56.59375 19.140625 48.40625 8.859375 \nQ 40.234375 -1.421875 26.421875 -1.421875 \nQ 22.703125 -1.421875 18.890625 -0.6875 \nQ 15.09375 0.046875 10.984375 1.515625 \nz\nM 30.609375 32.421875 \nQ 37.25 32.421875 41.125 36.953125 \nQ 45.015625 41.5 45.015625 49.421875 \nQ 45.015625 57.28125 41.125 61.84375 \nQ 37.25 66.40625 30.609375 66.40625 \nQ 23.96875 66.40625 20.09375 61.84375 \nQ 16.21875 57.28125 16.21875 49.421875 \nQ 16.21875 41.5 20.09375 36.953125 \nQ 23.96875 32.421875 30.609375 32.421875 \nz\n\" id=\"DejaVuSans-57\"/>\n     </defs>\n     <use xlink:href=\"#DejaVuSans-52\"/>\n     <use x=\"63.623047\" xlink:href=\"#DejaVuSans-53\"/>\n     <use x=\"127.246094\" xlink:href=\"#DejaVuSans-52\"/>\n     <use x=\"190.869141\" xlink:href=\"#DejaVuSans-57\"/>\n     <use x=\"254.492188\" xlink:href=\"#DejaVuSans-52\"/>\n    </g>\n   </g>\n   <g id=\"text_6\">\n    <!-- 21325 -->\n    <g style=\"fill:#262626;\" transform=\"translate(208.851875 64.319375)scale(0.1 -0.1)\">\n     <defs>\n      <path d=\"M 19.1875 8.296875 \nL 53.609375 8.296875 \nL 53.609375 0 \nL 7.328125 0 \nL 7.328125 8.296875 \nQ 12.9375 14.109375 22.625 23.890625 \nQ 32.328125 33.6875 34.8125 36.53125 \nQ 39.546875 41.84375 41.421875 45.53125 \nQ 43.3125 49.21875 43.3125 52.78125 \nQ 43.3125 58.59375 39.234375 62.25 \nQ 35.15625 65.921875 28.609375 65.921875 \nQ 23.96875 65.921875 18.8125 64.3125 \nQ 13.671875 62.703125 7.8125 59.421875 \nL 7.8125 69.390625 \nQ 13.765625 71.78125 18.9375 73 \nQ 24.125 74.21875 28.421875 74.21875 \nQ 39.75 74.21875 46.484375 68.546875 \nQ 53.21875 62.890625 53.21875 53.421875 \nQ 53.21875 48.921875 51.53125 44.890625 \nQ 49.859375 40.875 45.40625 35.40625 \nQ 44.1875 33.984375 37.640625 27.21875 \nQ 31.109375 20.453125 19.1875 8.296875 \nz\n\" id=\"DejaVuSans-50\"/>\n      <path d=\"M 40.578125 39.3125 \nQ 47.65625 37.796875 51.625 33 \nQ 55.609375 28.21875 55.609375 21.1875 \nQ 55.609375 10.40625 48.1875 4.484375 \nQ 40.765625 -1.421875 27.09375 -1.421875 \nQ 22.515625 -1.421875 17.65625 -0.515625 \nQ 12.796875 0.390625 7.625 2.203125 \nL 7.625 11.71875 \nQ 11.71875 9.328125 16.59375 8.109375 \nQ 21.484375 6.890625 26.8125 6.890625 \nQ 36.078125 6.890625 40.9375 10.546875 \nQ 45.796875 14.203125 45.796875 21.1875 \nQ 45.796875 27.640625 41.28125 31.265625 \nQ 36.765625 34.90625 28.71875 34.90625 \nL 20.21875 34.90625 \nL 20.21875 43.015625 \nL 29.109375 43.015625 \nQ 36.375 43.015625 40.234375 45.921875 \nQ 44.09375 48.828125 44.09375 54.296875 \nQ 44.09375 59.90625 40.109375 62.90625 \nQ 36.140625 65.921875 28.71875 65.921875 \nQ 24.65625 65.921875 20.015625 65.03125 \nQ 15.375 64.15625 9.8125 62.3125 \nL 9.8125 71.09375 \nQ 15.4375 72.65625 20.34375 73.4375 \nQ 25.25 74.21875 29.59375 74.21875 \nQ 40.828125 74.21875 47.359375 69.109375 \nQ 53.90625 64.015625 53.90625 55.328125 \nQ 53.90625 49.265625 50.4375 45.09375 \nQ 46.96875 40.921875 40.578125 39.3125 \nz\n\" id=\"DejaVuSans-51\"/>\n     </defs>\n     <use xlink:href=\"#DejaVuSans-50\"/>\n     <use x=\"63.623047\" xlink:href=\"#DejaVuSans-49\"/>\n     <use x=\"127.246094\" xlink:href=\"#DejaVuSans-51\"/>\n     <use x=\"190.869141\" xlink:href=\"#DejaVuSans-50\"/>\n     <use x=\"254.492188\" xlink:href=\"#DejaVuSans-53\"/>\n    </g>\n   </g>\n   <g id=\"text_7\">\n    <!-- 133 -->\n    <g style=\"fill:#262626;\" transform=\"translate(81.294375 173.039375)scale(0.1 -0.1)\">\n     <use xlink:href=\"#DejaVuSans-49\"/>\n     <use x=\"63.623047\" xlink:href=\"#DejaVuSans-51\"/>\n     <use x=\"127.246094\" xlink:href=\"#DejaVuSans-51\"/>\n    </g>\n   </g>\n   <g id=\"text_8\">\n    <!-- 11 -->\n    <g style=\"fill:#262626;\" transform=\"translate(218.395625 173.039375)scale(0.1 -0.1)\">\n     <use xlink:href=\"#DejaVuSans-49\"/>\n     <use x=\"63.623047\" xlink:href=\"#DejaVuSans-49\"/>\n    </g>\n   </g>\n  </g>\n  <g id=\"axes_2\">\n   <g id=\"patch_3\">\n    <path clip-path=\"url(#p936ed1d2d7)\" d=\"M 308.458125 224.64 \nL 308.458125 223.790625 \nL 308.458125 8.049375 \nL 308.458125 7.2 \nL 319.330125 7.2 \nL 319.330125 8.049375 \nL 319.330125 223.790625 \nL 319.330125 224.64 \nz\n\" style=\"fill:#ffffff;stroke:#ffffff;stroke-linejoin:miter;stroke-width:0.01;\"/>\n   </g>\n   <image height=\"217\" id=\"image07e6385908\" transform=\"scale(1 -1)translate(0 -217)\" width=\"11\" x=\"308\" xlink:href=\"data:image/png;base64,\niVBORw0KGgoAAAANSUhEUgAAAAsAAADZCAYAAAD2WsoCAAABb0lEQVR4nN2aQY7AIAwDjcT/37d/WUj2C5nDSHR7tizHMTQtrOqfzvDZSU2x2d1j4uwEgDtXktFEBtQMrGPMTZoiyvB8tgqEEUUyLDe6QfhhRLXws4haqZuLSPacN9lABWZec/AVZTzBbBYIfEbMpWn+IjNqd5GmsNX9SIGE+QA0sw4tK5QNVCDS/MvcsMAXRZQwnzdkmNYB8CmS5zkxLtDyGboBwGwrmBOb2Tiaz+hFb+51AOy5IYZ/TkzdIFuBJ8Nz46IC34io5wZrtxZ+NjEiGUAHlEFeE3Ay15iRZs+6T7qBZDxh3RUL9MCWdReMXxv8J8sOWSkhBS7GPMZmB4y5TDP4lZu9GDMBg/QzzdCNN9rN3PhguxEz+P432+1tMuCLVyyQRdTbGLU8M+sYmMgQ3UB5/ucFenn2ZCxvK9CmAsRcfeZgOF6iGck7SQdg6IZ1oO9dnICaPTc0MDmjr9IKFJuC7smQ8Be6vPSCG3+tXKbtOR2HywAAAABJRU5ErkJggg==\" y=\"-7\"/>\n   <g id=\"matplotlib.axis_3\"/>\n   <g id=\"matplotlib.axis_4\">\n    <g id=\"ytick_3\">\n     <g id=\"line2d_5\">\n      <defs>\n       <path d=\"M 0 0 \nL 3.5 0 \n\" id=\"m99e516e8bb\" style=\"stroke:#000000;stroke-width:0.8;\"/>\n      </defs>\n      <g>\n       <use style=\"stroke:#000000;stroke-width:0.8;\" x=\"319.330125\" xlink:href=\"#m99e516e8bb\" y=\"176.885715\"/>\n      </g>\n     </g>\n     <g id=\"text_9\">\n      <!-- 10000 -->\n      <g transform=\"translate(326.330125 180.684933)scale(0.1 -0.1)\">\n       <use xlink:href=\"#DejaVuSans-49\"/>\n       <use x=\"63.623047\" xlink:href=\"#DejaVuSans-48\"/>\n       <use x=\"127.246094\" xlink:href=\"#DejaVuSans-48\"/>\n       <use x=\"190.869141\" xlink:href=\"#DejaVuSans-48\"/>\n       <use x=\"254.492188\" xlink:href=\"#DejaVuSans-48\"/>\n      </g>\n     </g>\n    </g>\n    <g id=\"ytick_4\">\n     <g id=\"line2d_6\">\n      <g>\n       <use style=\"stroke:#000000;stroke-width:0.8;\" x=\"319.330125\" xlink:href=\"#m99e516e8bb\" y=\"129.078842\"/>\n      </g>\n     </g>\n     <g id=\"text_10\">\n      <!-- 20000 -->\n      <g transform=\"translate(326.330125 132.878061)scale(0.1 -0.1)\">\n       <use xlink:href=\"#DejaVuSans-50\"/>\n       <use x=\"63.623047\" xlink:href=\"#DejaVuSans-48\"/>\n       <use x=\"127.246094\" xlink:href=\"#DejaVuSans-48\"/>\n       <use x=\"190.869141\" xlink:href=\"#DejaVuSans-48\"/>\n       <use x=\"254.492188\" xlink:href=\"#DejaVuSans-48\"/>\n      </g>\n     </g>\n    </g>\n    <g id=\"ytick_5\">\n     <g id=\"line2d_7\">\n      <g>\n       <use style=\"stroke:#000000;stroke-width:0.8;\" x=\"319.330125\" xlink:href=\"#m99e516e8bb\" y=\"81.271969\"/>\n      </g>\n     </g>\n     <g id=\"text_11\">\n      <!-- 30000 -->\n      <g transform=\"translate(326.330125 85.071188)scale(0.1 -0.1)\">\n       <use xlink:href=\"#DejaVuSans-51\"/>\n       <use x=\"63.623047\" xlink:href=\"#DejaVuSans-48\"/>\n       <use x=\"127.246094\" xlink:href=\"#DejaVuSans-48\"/>\n       <use x=\"190.869141\" xlink:href=\"#DejaVuSans-48\"/>\n       <use x=\"254.492188\" xlink:href=\"#DejaVuSans-48\"/>\n      </g>\n     </g>\n    </g>\n    <g id=\"ytick_6\">\n     <g id=\"line2d_8\">\n      <g>\n       <use style=\"stroke:#000000;stroke-width:0.8;\" x=\"319.330125\" xlink:href=\"#m99e516e8bb\" y=\"33.465096\"/>\n      </g>\n     </g>\n     <g id=\"text_12\">\n      <!-- 40000 -->\n      <g transform=\"translate(326.330125 37.264315)scale(0.1 -0.1)\">\n       <use xlink:href=\"#DejaVuSans-52\"/>\n       <use x=\"63.623047\" xlink:href=\"#DejaVuSans-48\"/>\n       <use x=\"127.246094\" xlink:href=\"#DejaVuSans-48\"/>\n       <use x=\"190.869141\" xlink:href=\"#DejaVuSans-48\"/>\n       <use x=\"254.492188\" xlink:href=\"#DejaVuSans-48\"/>\n      </g>\n     </g>\n    </g>\n   </g>\n   <g id=\"patch_4\">\n    <path d=\"M 308.458125 224.64 \nL 308.458125 223.790625 \nL 308.458125 8.049375 \nL 308.458125 7.2 \nL 319.330125 7.2 \nL 319.330125 8.049375 \nL 319.330125 223.790625 \nL 319.330125 224.64 \nz\n\" style=\"fill:none;\"/>\n   </g>\n  </g>\n </g>\n <defs>\n  <clipPath id=\"p436b084cf1\">\n   <rect height=\"217.44\" width=\"267.84\" x=\"23.878125\" y=\"7.2\"/>\n  </clipPath>\n  <clipPath id=\"p936ed1d2d7\">\n   <rect height=\"217.44\" width=\"10.872\" x=\"308.458125\" y=\"7.2\"/>\n  </clipPath>\n </defs>\n</svg>\n",
      "image/png": "[encoded data removed]"
     },
     "metadata": {
      "needs_background": "light"
     }
    }
   ],
   "source": [
    "cm = confusion_matrix(actual, predicted)\n",
    "sns.heatmap(cm, cmap='YlGnBu', annot=True, fmt='d', linewidths=.5);"
   ]
  },
  {
   "cell_type": "code",
   "execution_count": 68,
   "metadata": {},
   "outputs": [
    {
     "output_type": "execute_result",
     "data": {
      "text/plain": [
       "array([[  147, 28503],\n",
       "       [   47,     2]])"
      ]
     },
     "metadata": {},
     "execution_count": 68
    }
   ],
   "source": [
    "mythreshold = 0.4992\n",
    "\n",
    "decisions = (lr.predict_proba(X_test)[:,1] >= mythreshold).astype(int)\n",
    "confusion_matrix(y_test, decisions)"
   ]
  },
  {
   "cell_type": "code",
   "execution_count": null,
   "metadata": {},
   "outputs": [],
   "source": []
  }
 ],
 "metadata": {
  "kernelspec": {
   "display_name": "Python 3",
   "language": "python",
   "name": "python3"
  },
  "language_info": {
   "codemirror_mode": {
    "name": "ipython",
    "version": 3
   },
   "file_extension": ".py",
   "mimetype": "text/x-python",
   "name": "python",
   "nbconvert_exporter": "python",
   "pygments_lexer": "ipython3",
   "version": "3.8.5-final"
  }
 },
 "nbformat": 4,
 "nbformat_minor": 5
}