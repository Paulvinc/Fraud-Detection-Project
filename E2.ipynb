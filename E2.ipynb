{
 "cells": [
  {
   "cell_type": "code",
   "execution_count": 1,
   "id": "pleased-campus",
   "metadata": {},
   "outputs": [],
   "source": [
    "import pandas as pd\n",
    "import numpy as np\n",
    "import seaborn as sns\n",
    "\n",
    "from datetime import datetime\n",
    "from sklearn.model_selection import train_test_split\n",
    "from sklearn.linear_model import LogisticRegression\n",
    "from sklearn.pipeline import Pipeline\n",
    "from sklearn.compose import ColumnTransformer\n",
    "from sklearn.preprocessing import OneHotEncoder, StandardScaler\n",
    "from sklearn.metrics import accuracy_score\n",
    "from sklearn.metrics import confusion_matrix \n",
    "from imblearn.over_sampling import SMOTE\n",
    "from imblearn import under_sampling, over_sampling"
   ]
  },
  {
   "cell_type": "code",
   "execution_count": 2,
   "id": "phantom-america",
   "metadata": {},
   "outputs": [
    {
     "name": "stdout",
     "output_type": "stream",
     "text": [
      "<class 'pandas.core.frame.DataFrame'>\n",
      "RangeIndex: 95662 entries, 0 to 95661\n",
      "Data columns (total 16 columns):\n",
      " #   Column                Non-Null Count  Dtype  \n",
      "---  ------                --------------  -----  \n",
      " 0   TransactionId         95662 non-null  object \n",
      " 1   BatchId               95662 non-null  object \n",
      " 2   AccountId             95662 non-null  object \n",
      " 3   SubscriptionId        95662 non-null  object \n",
      " 4   CustomerId            95662 non-null  object \n",
      " 5   CurrencyCode          95662 non-null  object \n",
      " 6   CountryCode           95662 non-null  int64  \n",
      " 7   ProviderId            95662 non-null  object \n",
      " 8   ProductId             95662 non-null  object \n",
      " 9   ProductCategory       95662 non-null  object \n",
      " 10  ChannelId             95662 non-null  object \n",
      " 11  Amount                95662 non-null  float64\n",
      " 12  Value                 95662 non-null  int64  \n",
      " 13  TransactionStartTime  95662 non-null  object \n",
      " 14  PricingStrategy       95662 non-null  int64  \n",
      " 15  FraudResult           95662 non-null  int64  \n",
      "dtypes: float64(1), int64(4), object(11)\n",
      "memory usage: 11.7+ MB\n"
     ]
    }
   ],
   "source": [
    "df = pd.read_csv('data/training.csv')\n",
    "df.info()"
   ]
  },
  {
   "cell_type": "code",
   "execution_count": 3,
   "id": "acting-necklace",
   "metadata": {},
   "outputs": [],
   "source": [
    "# list with columns to be removed\n",
    "drop_lst = ['BatchId', 'CurrencyCode', 'CountryCode', 'ProductCategory', 'Value']\n",
    "# list with columns to transform datatype string to category \n",
    "cat_lst = ['ProviderId', 'ProductId', 'ChannelId', 'PricingStrategy', 'FraudResult']\n",
    "# list with columns to make dummies\n",
    "dummy_lst = ['ProviderId', 'ProductId', 'ChannelId', 'PricingStrategy']\n",
    "# list with columns to transform datatype string to datetime \n",
    "datetime_lst = ['TransactionStartTime']\n",
    "# identiofy target variable\n",
    "target = 'FraudResult'"
   ]
  },
  {
   "cell_type": "code",
   "execution_count": 4,
   "id": "regional-reading",
   "metadata": {},
   "outputs": [],
   "source": [
    "def remove_columns(df, drop_lst):\n",
    "    remaining_features = [x for x in df.columns if x not in drop_lst]\n",
    "    df = df[remaining_features]\n",
    "    return df"
   ]
  },
  {
   "cell_type": "code",
   "execution_count": 5,
   "id": "focused-cloud",
   "metadata": {},
   "outputs": [],
   "source": [
    "def make_categories(df, cat_lst):\n",
    "    for i in cat_lst:\n",
    "        df[i]=df[i].astype('category')\n",
    "    return df"
   ]
  },
  {
   "cell_type": "code",
   "execution_count": 6,
   "id": "ceramic-inspiration",
   "metadata": {},
   "outputs": [],
   "source": [
    "def make_dummies(df, dummy_lst):\n",
    "    for i in dummy_lst:\n",
    "        if str(df[i][1]).isnumeric():\n",
    "            dummies = pd.get_dummies(df[i], prefix=str(i), drop_first=True)\n",
    "        else:\n",
    "            dummies = pd.get_dummies(df[i], drop_first=True)\n",
    "        df = df.drop([i], axis=1)\n",
    "        df = pd.concat([df, dummies], axis=1)\n",
    "    return df"
   ]
  },
  {
   "cell_type": "code",
   "execution_count": 7,
   "id": "vital-breast",
   "metadata": {},
   "outputs": [],
   "source": [
    "def transform_to_datetime(df, datetime_lst):\n",
    "    df['TransactionStartTime'] = pd.to_datetime(df['TransactionStartTime'])\n",
    "    return df"
   ]
  },
  {
   "cell_type": "code",
   "execution_count": 8,
   "id": "clinical-virtue",
   "metadata": {},
   "outputs": [],
   "source": [
    "def make_split(df, target, test_size=0.30, random_state=101):\n",
    "    X_train,X_test,y_train,y_test=train_test_split(df.drop(target,axis=1),df[target],test_size=test_size,random_state=random_state)\n",
    "    return X_train,X_test,y_train,y_test"
   ]
  },
  {
   "cell_type": "code",
   "execution_count": 9,
   "id": "stuffed-thermal",
   "metadata": {},
   "outputs": [],
   "source": [
    "def balance_traindata(X_train, y_train, target):\n",
    "    '''\n",
    "    requires 3 parameters: X_train, y_train, target\n",
    "    returns: X_train, y_train\n",
    "    '''\n",
    "    # Oversample data\n",
    "    smote_algo = SMOTE(random_state=0)\n",
    "    smote_data_X, smote_data_Y = smote_algo.fit_resample(X_train, y_train)\n",
    "    smote_data_X = pd.DataFrame(data=smote_data_X, columns=X_train.columns)\n",
    "    smote_data_Y = pd.DataFrame(data=smote_data_Y)\n",
    "    # Join X and Y smote data into one\n",
    "    smote_data = smote_data_X\n",
    "    smote_data[target] = smote_data_Y[target]\n",
    "    return smote_data, smote_data[target]"
   ]
  },
  {
   "cell_type": "code",
   "execution_count": 10,
   "id": "hollywood-cornell",
   "metadata": {},
   "outputs": [
    {
     "name": "stdout",
     "output_type": "stream",
     "text": [
      "<class 'pandas.core.frame.DataFrame'>\n",
      "RangeIndex: 95662 entries, 0 to 95661\n",
      "Data columns (total 16 columns):\n",
      " #   Column                Non-Null Count  Dtype  \n",
      "---  ------                --------------  -----  \n",
      " 0   TransactionId         95662 non-null  object \n",
      " 1   BatchId               95662 non-null  object \n",
      " 2   AccountId             95662 non-null  object \n",
      " 3   SubscriptionId        95662 non-null  object \n",
      " 4   CustomerId            95662 non-null  object \n",
      " 5   CurrencyCode          95662 non-null  object \n",
      " 6   CountryCode           95662 non-null  int64  \n",
      " 7   ProviderId            95662 non-null  object \n",
      " 8   ProductId             95662 non-null  object \n",
      " 9   ProductCategory       95662 non-null  object \n",
      " 10  ChannelId             95662 non-null  object \n",
      " 11  Amount                95662 non-null  float64\n",
      " 12  Value                 95662 non-null  int64  \n",
      " 13  TransactionStartTime  95662 non-null  object \n",
      " 14  PricingStrategy       95662 non-null  int64  \n",
      " 15  FraudResult           95662 non-null  int64  \n",
      "dtypes: float64(1), int64(4), object(11)\n",
      "memory usage: 11.7+ MB\n"
     ]
    }
   ],
   "source": [
    "df = pd.read_csv('data/training.csv')\n",
    "df.info()"
   ]
  },
  {
   "cell_type": "code",
   "execution_count": 11,
   "id": "graduate-digit",
   "metadata": {},
   "outputs": [
    {
     "name": "stdout",
     "output_type": "stream",
     "text": [
      "<class 'pandas.core.frame.DataFrame'>\n",
      "RangeIndex: 95662 entries, 0 to 95661\n",
      "Data columns (total 11 columns):\n",
      " #   Column                Non-Null Count  Dtype  \n",
      "---  ------                --------------  -----  \n",
      " 0   TransactionId         95662 non-null  object \n",
      " 1   AccountId             95662 non-null  object \n",
      " 2   SubscriptionId        95662 non-null  object \n",
      " 3   CustomerId            95662 non-null  object \n",
      " 4   ProviderId            95662 non-null  object \n",
      " 5   ProductId             95662 non-null  object \n",
      " 6   ChannelId             95662 non-null  object \n",
      " 7   Amount                95662 non-null  float64\n",
      " 8   TransactionStartTime  95662 non-null  object \n",
      " 9   PricingStrategy       95662 non-null  int64  \n",
      " 10  FraudResult           95662 non-null  int64  \n",
      "dtypes: float64(1), int64(2), object(8)\n",
      "memory usage: 8.0+ MB\n"
     ]
    }
   ],
   "source": [
    "df = remove_columns(df, drop_lst)\n",
    "df.info()"
   ]
  },
  {
   "cell_type": "code",
   "execution_count": 12,
   "id": "measured-silver",
   "metadata": {},
   "outputs": [
    {
     "name": "stdout",
     "output_type": "stream",
     "text": [
      "<class 'pandas.core.frame.DataFrame'>\n",
      "RangeIndex: 95662 entries, 0 to 95661\n",
      "Data columns (total 11 columns):\n",
      " #   Column                Non-Null Count  Dtype   \n",
      "---  ------                --------------  -----   \n",
      " 0   TransactionId         95662 non-null  object  \n",
      " 1   AccountId             95662 non-null  object  \n",
      " 2   SubscriptionId        95662 non-null  object  \n",
      " 3   CustomerId            95662 non-null  object  \n",
      " 4   ProviderId            95662 non-null  category\n",
      " 5   ProductId             95662 non-null  category\n",
      " 6   ChannelId             95662 non-null  category\n",
      " 7   Amount                95662 non-null  float64 \n",
      " 8   TransactionStartTime  95662 non-null  object  \n",
      " 9   PricingStrategy       95662 non-null  category\n",
      " 10  FraudResult           95662 non-null  category\n",
      "dtypes: category(5), float64(1), object(5)\n",
      "memory usage: 4.8+ MB\n"
     ]
    }
   ],
   "source": [
    "df = make_categories(df, cat_lst)\n",
    "df.info()"
   ]
  },
  {
   "cell_type": "code",
   "execution_count": 13,
   "id": "lyric-zoning",
   "metadata": {},
   "outputs": [
    {
     "name": "stdout",
     "output_type": "stream",
     "text": [
      "<class 'pandas.core.frame.DataFrame'>\n",
      "RangeIndex: 95662 entries, 0 to 95661\n",
      "Data columns (total 40 columns):\n",
      " #   Column                Non-Null Count  Dtype   \n",
      "---  ------                --------------  -----   \n",
      " 0   TransactionId         95662 non-null  object  \n",
      " 1   AccountId             95662 non-null  object  \n",
      " 2   SubscriptionId        95662 non-null  object  \n",
      " 3   CustomerId            95662 non-null  object  \n",
      " 4   Amount                95662 non-null  float64 \n",
      " 5   TransactionStartTime  95662 non-null  object  \n",
      " 6   FraudResult           95662 non-null  category\n",
      " 7   ProviderId_2          95662 non-null  uint8   \n",
      " 8   ProviderId_3          95662 non-null  uint8   \n",
      " 9   ProviderId_4          95662 non-null  uint8   \n",
      " 10  ProviderId_5          95662 non-null  uint8   \n",
      " 11  ProviderId_6          95662 non-null  uint8   \n",
      " 12  ProductId_10          95662 non-null  uint8   \n",
      " 13  ProductId_11          95662 non-null  uint8   \n",
      " 14  ProductId_12          95662 non-null  uint8   \n",
      " 15  ProductId_13          95662 non-null  uint8   \n",
      " 16  ProductId_14          95662 non-null  uint8   \n",
      " 17  ProductId_15          95662 non-null  uint8   \n",
      " 18  ProductId_16          95662 non-null  uint8   \n",
      " 19  ProductId_19          95662 non-null  uint8   \n",
      " 20  ProductId_2           95662 non-null  uint8   \n",
      " 21  ProductId_20          95662 non-null  uint8   \n",
      " 22  ProductId_21          95662 non-null  uint8   \n",
      " 23  ProductId_22          95662 non-null  uint8   \n",
      " 24  ProductId_23          95662 non-null  uint8   \n",
      " 25  ProductId_24          95662 non-null  uint8   \n",
      " 26  ProductId_27          95662 non-null  uint8   \n",
      " 27  ProductId_3           95662 non-null  uint8   \n",
      " 28  ProductId_4           95662 non-null  uint8   \n",
      " 29  ProductId_5           95662 non-null  uint8   \n",
      " 30  ProductId_6           95662 non-null  uint8   \n",
      " 31  ProductId_7           95662 non-null  uint8   \n",
      " 32  ProductId_8           95662 non-null  uint8   \n",
      " 33  ProductId_9           95662 non-null  uint8   \n",
      " 34  ChannelId_2           95662 non-null  uint8   \n",
      " 35  ChannelId_3           95662 non-null  uint8   \n",
      " 36  ChannelId_5           95662 non-null  uint8   \n",
      " 37  PricingStrategy_1     95662 non-null  uint8   \n",
      " 38  PricingStrategy_2     95662 non-null  uint8   \n",
      " 39  PricingStrategy_4     95662 non-null  uint8   \n",
      "dtypes: category(1), float64(1), object(5), uint8(33)\n",
      "memory usage: 7.5+ MB\n"
     ]
    }
   ],
   "source": [
    "df = make_dummies(df, dummy_lst)\n",
    "df.info()"
   ]
  },
  {
   "cell_type": "code",
   "execution_count": 14,
   "id": "annual-bulgaria",
   "metadata": {},
   "outputs": [],
   "source": [
    "df = transform_to_datetime(df, datetime_lst)"
   ]
  },
  {
   "cell_type": "code",
   "execution_count": 15,
   "id": "academic-dictionary",
   "metadata": {},
   "outputs": [
    {
     "name": "stdout",
     "output_type": "stream",
     "text": [
      "<class 'pandas.core.frame.DataFrame'>\n",
      "RangeIndex: 95662 entries, 0 to 95661\n",
      "Data columns (total 40 columns):\n",
      " #   Column                Non-Null Count  Dtype              \n",
      "---  ------                --------------  -----              \n",
      " 0   TransactionId         95662 non-null  object             \n",
      " 1   AccountId             95662 non-null  object             \n",
      " 2   SubscriptionId        95662 non-null  object             \n",
      " 3   CustomerId            95662 non-null  object             \n",
      " 4   Amount                95662 non-null  float64            \n",
      " 5   TransactionStartTime  95662 non-null  datetime64[ns, UTC]\n",
      " 6   FraudResult           95662 non-null  category           \n",
      " 7   ProviderId_2          95662 non-null  uint8              \n",
      " 8   ProviderId_3          95662 non-null  uint8              \n",
      " 9   ProviderId_4          95662 non-null  uint8              \n",
      " 10  ProviderId_5          95662 non-null  uint8              \n",
      " 11  ProviderId_6          95662 non-null  uint8              \n",
      " 12  ProductId_10          95662 non-null  uint8              \n",
      " 13  ProductId_11          95662 non-null  uint8              \n",
      " 14  ProductId_12          95662 non-null  uint8              \n",
      " 15  ProductId_13          95662 non-null  uint8              \n",
      " 16  ProductId_14          95662 non-null  uint8              \n",
      " 17  ProductId_15          95662 non-null  uint8              \n",
      " 18  ProductId_16          95662 non-null  uint8              \n",
      " 19  ProductId_19          95662 non-null  uint8              \n",
      " 20  ProductId_2           95662 non-null  uint8              \n",
      " 21  ProductId_20          95662 non-null  uint8              \n",
      " 22  ProductId_21          95662 non-null  uint8              \n",
      " 23  ProductId_22          95662 non-null  uint8              \n",
      " 24  ProductId_23          95662 non-null  uint8              \n",
      " 25  ProductId_24          95662 non-null  uint8              \n",
      " 26  ProductId_27          95662 non-null  uint8              \n",
      " 27  ProductId_3           95662 non-null  uint8              \n",
      " 28  ProductId_4           95662 non-null  uint8              \n",
      " 29  ProductId_5           95662 non-null  uint8              \n",
      " 30  ProductId_6           95662 non-null  uint8              \n",
      " 31  ProductId_7           95662 non-null  uint8              \n",
      " 32  ProductId_8           95662 non-null  uint8              \n",
      " 33  ProductId_9           95662 non-null  uint8              \n",
      " 34  ChannelId_2           95662 non-null  uint8              \n",
      " 35  ChannelId_3           95662 non-null  uint8              \n",
      " 36  ChannelId_5           95662 non-null  uint8              \n",
      " 37  PricingStrategy_1     95662 non-null  uint8              \n",
      " 38  PricingStrategy_2     95662 non-null  uint8              \n",
      " 39  PricingStrategy_4     95662 non-null  uint8              \n",
      "dtypes: category(1), datetime64[ns, UTC](1), float64(1), object(4), uint8(33)\n",
      "memory usage: 7.5+ MB\n"
     ]
    }
   ],
   "source": [
    "df.info()"
   ]
  },
  {
   "cell_type": "code",
   "execution_count": 16,
   "id": "freelance-chester",
   "metadata": {},
   "outputs": [
    {
     "name": "stdout",
     "output_type": "stream",
     "text": [
      "<class 'pandas.core.frame.DataFrame'>\n",
      "RangeIndex: 95662 entries, 0 to 95661\n",
      "Data columns (total 35 columns):\n",
      " #   Column             Non-Null Count  Dtype   \n",
      "---  ------             --------------  -----   \n",
      " 0   Amount             95662 non-null  float64 \n",
      " 1   FraudResult        95662 non-null  category\n",
      " 2   ProviderId_2       95662 non-null  uint8   \n",
      " 3   ProviderId_3       95662 non-null  uint8   \n",
      " 4   ProviderId_4       95662 non-null  uint8   \n",
      " 5   ProviderId_5       95662 non-null  uint8   \n",
      " 6   ProviderId_6       95662 non-null  uint8   \n",
      " 7   ProductId_10       95662 non-null  uint8   \n",
      " 8   ProductId_11       95662 non-null  uint8   \n",
      " 9   ProductId_12       95662 non-null  uint8   \n",
      " 10  ProductId_13       95662 non-null  uint8   \n",
      " 11  ProductId_14       95662 non-null  uint8   \n",
      " 12  ProductId_15       95662 non-null  uint8   \n",
      " 13  ProductId_16       95662 non-null  uint8   \n",
      " 14  ProductId_19       95662 non-null  uint8   \n",
      " 15  ProductId_2        95662 non-null  uint8   \n",
      " 16  ProductId_20       95662 non-null  uint8   \n",
      " 17  ProductId_21       95662 non-null  uint8   \n",
      " 18  ProductId_22       95662 non-null  uint8   \n",
      " 19  ProductId_23       95662 non-null  uint8   \n",
      " 20  ProductId_24       95662 non-null  uint8   \n",
      " 21  ProductId_27       95662 non-null  uint8   \n",
      " 22  ProductId_3        95662 non-null  uint8   \n",
      " 23  ProductId_4        95662 non-null  uint8   \n",
      " 24  ProductId_5        95662 non-null  uint8   \n",
      " 25  ProductId_6        95662 non-null  uint8   \n",
      " 26  ProductId_7        95662 non-null  uint8   \n",
      " 27  ProductId_8        95662 non-null  uint8   \n",
      " 28  ProductId_9        95662 non-null  uint8   \n",
      " 29  ChannelId_2        95662 non-null  uint8   \n",
      " 30  ChannelId_3        95662 non-null  uint8   \n",
      " 31  ChannelId_5        95662 non-null  uint8   \n",
      " 32  PricingStrategy_1  95662 non-null  uint8   \n",
      " 33  PricingStrategy_2  95662 non-null  uint8   \n",
      " 34  PricingStrategy_4  95662 non-null  uint8   \n",
      "dtypes: category(1), float64(1), uint8(33)\n",
      "memory usage: 3.8 MB\n"
     ]
    }
   ],
   "source": [
    "ignore_lst = ['TransactionId', 'AccountId', 'SubscriptionId', 'CustomerId', 'TransactionStartTime']\n",
    "df = remove_columns(df, ignore_lst)\n",
    "df.info()"
   ]
  },
  {
   "cell_type": "code",
   "execution_count": 17,
   "id": "following-police",
   "metadata": {},
   "outputs": [],
   "source": [
    "#X_train,X_test,y_train,y_test=make_split(df, target)"
   ]
  },
  {
   "cell_type": "code",
   "execution_count": 18,
   "id": "white-actress",
   "metadata": {},
   "outputs": [],
   "source": [
    "X_train,X_test,y_train,y_test=train_test_split(df.drop('FraudResult',axis=1),df['FraudResult'],test_size=0.30, random_state=101)"
   ]
  },
  {
   "cell_type": "code",
   "execution_count": 19,
   "id": "increasing-contract",
   "metadata": {},
   "outputs": [
    {
     "name": "stdout",
     "output_type": "stream",
     "text": [
      "Rows in X_train = 66963\n",
      "Rows in y_train = 66963\n",
      "Count of \"0\" in y_train = 66819\n",
      "Count of \"1\" in y_train = 144\n"
     ]
    }
   ],
   "source": [
    "print('Rows in X_train = ' + str(len(X_train)))\n",
    "print('Rows in y_train = ' + str(len(y_train)))\n",
    "print('Count of \"0\" in y_train = ' + str(y_train.value_counts()[0]))\n",
    "print('Count of \"1\" in y_train = ' + str(y_train.value_counts()[1]))\n",
    "#print('Rows in X_test = ' + str(len(X_test)))\n",
    "#print('Rows in y_test = ' + str(len(y_test)))"
   ]
  },
  {
   "cell_type": "code",
   "execution_count": 20,
   "id": "respiratory-carbon",
   "metadata": {},
   "outputs": [],
   "source": [
    "X_train, y_train = balance_traindata(X_train, y_train, target)"
   ]
  },
  {
   "cell_type": "code",
   "execution_count": 21,
   "id": "liberal-somerset",
   "metadata": {},
   "outputs": [
    {
     "name": "stdout",
     "output_type": "stream",
     "text": [
      "Rows in X_train = 133638\n",
      "Rows in y_train = 133638\n",
      "Count of \"0\" in y_train = 66819\n",
      "Count of \"1\" in y_train = 66819\n"
     ]
    }
   ],
   "source": [
    "print('Rows in X_train = ' + str(len(X_train)))\n",
    "print('Rows in y_train = ' + str(len(y_train)))\n",
    "print('Count of \"0\" in y_train = ' + str(y_train.value_counts()[0]))\n",
    "print('Count of \"1\" in y_train = ' + str(y_train.value_counts()[1]))\n",
    "#print('Rows in X_test = ' + str(len(X_test)))\n",
    "#print('Rows in y_test = ' + str(len(y_test)))"
   ]
  },
  {
   "cell_type": "code",
   "execution_count": 22,
   "id": "boring-vietnam",
   "metadata": {},
   "outputs": [
    {
     "ename": "NameError",
     "evalue": "name 'smote_data_Y' is not defined",
     "output_type": "error",
     "traceback": [
      "\u001b[0;31m---------------------------------------------------------------------------\u001b[0m",
      "\u001b[0;31mNameError\u001b[0m                                 Traceback (most recent call last)",
      "\u001b[0;32m<ipython-input-22-e2bfca18e9a3>\u001b[0m in \u001b[0;36m<module>\u001b[0;34m\u001b[0m\n\u001b[1;32m      1\u001b[0m \u001b[0;31m# count number of '1' in y_test\u001b[0m\u001b[0;34m\u001b[0m\u001b[0;34m\u001b[0m\u001b[0;34m\u001b[0m\u001b[0m\n\u001b[0;32m----> 2\u001b[0;31m \u001b[0msmote_data_Y\u001b[0m\u001b[0;34m.\u001b[0m\u001b[0mvalue_counts\u001b[0m\u001b[0;34m(\u001b[0m\u001b[0;34m)\u001b[0m\u001b[0;34m[\u001b[0m\u001b[0;36m1\u001b[0m\u001b[0;34m]\u001b[0m\u001b[0;34m\u001b[0m\u001b[0;34m\u001b[0m\u001b[0m\n\u001b[0m",
      "\u001b[0;31mNameError\u001b[0m: name 'smote_data_Y' is not defined"
     ]
    }
   ],
   "source": [
    "# count number of '1' in y_test\n",
    "smote_data_Y.value_counts()[1]"
   ]
  },
  {
   "cell_type": "code",
   "execution_count": null,
   "id": "informative-croatia",
   "metadata": {},
   "outputs": [],
   "source": [
    "lr = LogisticRegression()\n",
    "lr.fit(X_train, y_train)\n",
    "print(lr.coef_)\n",
    "print(lr.intercept_)"
   ]
  },
  {
   "cell_type": "code",
   "execution_count": null,
   "id": "impossible-fiber",
   "metadata": {},
   "outputs": [],
   "source": [
    "# Let’s see how the model performs against data that it hasn’t been trained on.\n",
    "y_pred = lr.predict(X_test)"
   ]
  },
  {
   "cell_type": "code",
   "execution_count": null,
   "id": "violent-renaissance",
   "metadata": {},
   "outputs": [],
   "source": [
    "# Given that this is a classification problem, we use a confusion matrix to evaluate our model.\n",
    "confusion_matrix(y_test, y_pred)"
   ]
  },
  {
   "cell_type": "code",
   "execution_count": null,
   "id": "armed-trainer",
   "metadata": {},
   "outputs": [],
   "source": [
    "# LogReg\n",
    "logmodel=LogisticRegression()\n",
    "logmodel.fit(X_train,y_train)\n",
    "predictions=logmodel.predict(X_test)\n",
    "accuracy=accuracy_score(y_test,predictions)\n",
    "accuracy*100"
   ]
  },
  {
   "cell_type": "code",
   "execution_count": null,
   "id": "impossible-license",
   "metadata": {},
   "outputs": [],
   "source": [
    "from sklearn.model_selection import cross_val_predict, cross_val_score, cross_validate\n",
    "\n",
    "y_train_predicted = cross_val_predict(logmodel, X_train, y_train, cv=5)\n",
    "\n",
    "actual =    y_train \n",
    "predicted = y_train_predicted\n",
    "results = confusion_matrix(actual, predicted)"
   ]
  },
  {
   "cell_type": "code",
   "execution_count": null,
   "id": "unauthorized-jordan",
   "metadata": {},
   "outputs": [],
   "source": [
    "results"
   ]
  },
  {
   "cell_type": "code",
   "execution_count": null,
   "id": "smaller-attempt",
   "metadata": {},
   "outputs": [],
   "source": [
    "cm = confusion_matrix(actual, predicted)\n",
    "sns.heatmap(cm, cmap='YlGnBu', annot=True, fmt='d', linewidths=.5);"
   ]
  },
  {
   "cell_type": "code",
   "execution_count": null,
   "id": "injured-signature",
   "metadata": {},
   "outputs": [],
   "source": [
    "mythreshold = 0.4992\n",
    "\n",
    "decisions = (lr.predict_proba(X_test)[:,1] >= mythreshold).astype(int)\n",
    "confusion_matrix(y_test, decisions)"
   ]
  },
  {
   "cell_type": "code",
   "execution_count": null,
   "id": "universal-flash",
   "metadata": {},
   "outputs": [],
   "source": []
  }
 ],
 "metadata": {
  "kernelspec": {
   "display_name": "Python 3",
   "language": "python",
   "name": "python3"
  },
  "language_info": {
   "codemirror_mode": {
    "name": "ipython",
    "version": 3
   },
   "file_extension": ".py",
   "mimetype": "text/x-python",
   "name": "python",
   "nbconvert_exporter": "python",
   "pygments_lexer": "ipython3",
   "version": "3.8.5"
  }
 },
 "nbformat": 4,
 "nbformat_minor": 5
}
